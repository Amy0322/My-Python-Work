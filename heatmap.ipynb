{
 "cells": [
  {
   "cell_type": "code",
   "execution_count": 1,
   "metadata": {},
   "outputs": [],
   "source": [
    "%matplotlib inline\n",
    "import tensorflow as tf\n",
    "from tensorflow.keras.models import Sequential\n",
    "from tensorflow.keras.layers import Dense, Conv2D, Flatten, Dropout, MaxPooling2D\n",
    "from tensorflow.keras.preprocessing.image import ImageDataGenerator\n",
    "\n",
    "import os\n",
    "import numpy as np\n",
    "import matplotlib.pyplot as plt"
   ]
  },
  {
   "cell_type": "code",
   "execution_count": 2,
   "metadata": {},
   "outputs": [
    {
     "data": {
      "text/plain": [
       "['Apple Braeburn',\n",
       " 'Apple Crimson Snow',\n",
       " 'Apple Golden 1',\n",
       " 'Apple Golden 2',\n",
       " 'Apple Golden 3',\n",
       " 'Apple Granny Smith',\n",
       " 'Apple Pink Lady',\n",
       " 'Apple Red 1',\n",
       " 'Apple Red 2',\n",
       " 'Apple Red 3',\n",
       " 'Apple Red Delicious',\n",
       " 'Apple Red Yellow 1',\n",
       " 'Apple Red Yellow 2',\n",
       " 'Apricot',\n",
       " 'Avocado',\n",
       " 'Avocado ripe',\n",
       " 'Banana',\n",
       " 'Banana Lady Finger',\n",
       " 'Banana Red',\n",
       " 'Beetroot',\n",
       " 'Blueberry',\n",
       " 'Cactus fruit',\n",
       " 'Cantaloupe 1',\n",
       " 'Cantaloupe 2',\n",
       " 'Carambula',\n",
       " 'Cauliflower',\n",
       " 'Cherry 1',\n",
       " 'Cherry 2',\n",
       " 'Cherry Rainier',\n",
       " 'Cherry Wax Black',\n",
       " 'Cherry Wax Red',\n",
       " 'Cherry Wax Yellow',\n",
       " 'Chestnut',\n",
       " 'Clementine',\n",
       " 'Cocos',\n",
       " 'Corn',\n",
       " 'Corn Husk',\n",
       " 'Cucumber Ripe',\n",
       " 'Cucumber Ripe 2',\n",
       " 'Dates',\n",
       " 'Eggplant',\n",
       " 'Fig',\n",
       " 'Ginger Root',\n",
       " 'Granadilla',\n",
       " 'Grape Blue',\n",
       " 'Grape Pink',\n",
       " 'Grape White',\n",
       " 'Grape White 2',\n",
       " 'Grape White 3',\n",
       " 'Grape White 4',\n",
       " 'Grapefruit Pink',\n",
       " 'Grapefruit White',\n",
       " 'Guava',\n",
       " 'Hazelnut',\n",
       " 'Huckleberry',\n",
       " 'Kaki',\n",
       " 'Kiwi',\n",
       " 'Kohlrabi',\n",
       " 'Kumquats',\n",
       " 'Lemon',\n",
       " 'Lemon Meyer',\n",
       " 'Limes',\n",
       " 'Lychee',\n",
       " 'Mandarine',\n",
       " 'Mango',\n",
       " 'Mango Red',\n",
       " 'Mangostan',\n",
       " 'Maracuja',\n",
       " 'Melon Piel de Sapo',\n",
       " 'Mulberry',\n",
       " 'Nectarine',\n",
       " 'Nectarine Flat',\n",
       " 'Nut Forest',\n",
       " 'Nut Pecan',\n",
       " 'Onion Red',\n",
       " 'Onion Red Peeled',\n",
       " 'Onion White',\n",
       " 'Orange',\n",
       " 'Papaya',\n",
       " 'Passion Fruit',\n",
       " 'Peach',\n",
       " 'Peach 2',\n",
       " 'Peach Flat',\n",
       " 'Pear',\n",
       " 'Pear 2',\n",
       " 'Pear Abate',\n",
       " 'Pear Forelle',\n",
       " 'Pear Kaiser',\n",
       " 'Pear Monster',\n",
       " 'Pear Red',\n",
       " 'Pear Stone',\n",
       " 'Pear Williams',\n",
       " 'Pepino',\n",
       " 'Pepper Green',\n",
       " 'Pepper Orange',\n",
       " 'Pepper Red',\n",
       " 'Pepper Yellow',\n",
       " 'Physalis',\n",
       " 'Physalis with Husk',\n",
       " 'Pineapple',\n",
       " 'Pineapple Mini',\n",
       " 'Pitahaya Red',\n",
       " 'Plum',\n",
       " 'Plum 2',\n",
       " 'Plum 3',\n",
       " 'Pomegranate',\n",
       " 'Pomelo Sweetie',\n",
       " 'Potato Red',\n",
       " 'Potato Red Washed',\n",
       " 'Potato Sweet',\n",
       " 'Potato White',\n",
       " 'Quince',\n",
       " 'Rambutan',\n",
       " 'Raspberry',\n",
       " 'Redcurrant',\n",
       " 'Salak',\n",
       " 'Strawberry',\n",
       " 'Strawberry Wedge',\n",
       " 'Tamarillo',\n",
       " 'Tangelo',\n",
       " 'Tomato 1',\n",
       " 'Tomato 2',\n",
       " 'Tomato 3',\n",
       " 'Tomato 4',\n",
       " 'Tomato Cherry Red',\n",
       " 'Tomato Heart',\n",
       " 'Tomato Maroon',\n",
       " 'Tomato not Ripened',\n",
       " 'Tomato Yellow',\n",
       " 'Walnut',\n",
       " 'Watermelon']"
      ]
     },
     "execution_count": 2,
     "metadata": {},
     "output_type": "execute_result"
    }
   ],
   "source": [
    "# Image dataset file name \n",
    "dataSet ='fruits-360'\n",
    "\n",
    "# Use os.listdir to check image folder\n",
    "os.listdir('C:/Users/USER/Downloads/fruits-360/Training')"
   ]
  },
  {
   "cell_type": "code",
   "execution_count": 40,
   "metadata": {},
   "outputs": [],
   "source": [
    "# model training parameter\n",
    "batch_size = 32\n",
    "epochs = 10\n",
    "IMG_HEIGHT = 64\n",
    "IMG_WIDTH = 64"
   ]
  },
  {
   "cell_type": "code",
   "execution_count": 4,
   "metadata": {},
   "outputs": [],
   "source": [
    "train_image_generator = ImageDataGenerator(rescale=1./255) # Generator for our training data\n",
    "validation_image_generator = ImageDataGenerator(rescale=1./255) # Generator for our validation data"
   ]
  },
  {
   "cell_type": "code",
   "execution_count": 5,
   "metadata": {},
   "outputs": [
    {
     "name": "stdout",
     "output_type": "stream",
     "text": [
      "Found 67692 images belonging to 131 classes.\n"
     ]
    }
   ],
   "source": [
    "# Takes the path to a directory(training) & generates batches of augmented data.\n",
    "train_dir = 'C:/Users/USER/Downloads/fruits-360/Training'\n",
    "train_data_gen = train_image_generator.flow_from_directory(batch_size=batch_size,\n",
    "                                                           directory=train_dir,\n",
    "                                                           shuffle=True,\n",
    "                                                           target_size=(IMG_HEIGHT, IMG_WIDTH),\n",
    "                                                           class_mode='categorical') #categorical=類別"
   ]
  },
  {
   "cell_type": "code",
   "execution_count": 6,
   "metadata": {},
   "outputs": [
    {
     "name": "stdout",
     "output_type": "stream",
     "text": [
      "Found 22688 images belonging to 131 classes.\n"
     ]
    }
   ],
   "source": [
    "# Takes the path to a directory(testing) & generates batches of augmented data.\n",
    "validation_dir = 'C:/Users/USER/Downloads/fruits-360/Test'\n",
    "val_data_gen = validation_image_generator.flow_from_directory(batch_size=batch_size,\n",
    "                                                              directory=validation_dir,\n",
    "                                                              shuffle=True,\n",
    "                                                              target_size=(IMG_HEIGHT, IMG_WIDTH),\n",
    "                                                              class_mode='categorical')"
   ]
  },
  {
   "cell_type": "code",
   "execution_count": 7,
   "metadata": {},
   "outputs": [],
   "source": [
    "total_train = 67692\n",
    "total_validation = 22688 "
   ]
  },
  {
   "cell_type": "code",
   "execution_count": 8,
   "metadata": {},
   "outputs": [],
   "source": [
    "sample_training_images, _ = next(train_data_gen) "
   ]
  },
  {
   "cell_type": "code",
   "execution_count": 9,
   "metadata": {},
   "outputs": [
    {
     "data": {
      "text/plain": [
       "(32, 64, 64, 3)"
      ]
     },
     "execution_count": 9,
     "metadata": {},
     "output_type": "execute_result"
    }
   ],
   "source": [
    "sample_training_images.shape #RGB=3"
   ]
  },
  {
   "cell_type": "code",
   "execution_count": 10,
   "metadata": {},
   "outputs": [
    {
     "name": "stdout",
     "output_type": "stream",
     "text": [
      "WARNING:tensorflow:From D:\\Anaconda\\lib\\site-packages\\tensorflow\\python\\ops\\resource_variable_ops.py:435: colocate_with (from tensorflow.python.framework.ops) is deprecated and will be removed in a future version.\n",
      "Instructions for updating:\n",
      "Colocations handled automatically by placer.\n"
     ]
    }
   ],
   "source": [
    "# model structure\n",
    "model = Sequential([\n",
    "    Conv2D(16, 3, padding='same', activation='relu', input_shape=(IMG_HEIGHT, IMG_WIDTH ,3)),\n",
    "    MaxPooling2D(),\n",
    "    Conv2D(32, 3, padding='same', activation='relu'),\n",
    "    MaxPooling2D(),\n",
    "    Flatten(),\n",
    "    Dense(512, activation='relu'),\n",
    "    Dense(131, activation='softmax')\n",
    "], name='fruit_cnn')"
   ]
  },
  {
   "cell_type": "code",
   "execution_count": 46,
   "metadata": {},
   "outputs": [],
   "source": [
    "# model learning processing\n",
    "model.compile(optimizer='adam',\n",
    "              loss=tf.keras.losses.CategoricalCrossentropy(from_logits=True), # CategoricalCrossentropy\n",
    "              metrics=['accuracy'])"
   ]
  },
  {
   "cell_type": "code",
   "execution_count": 41,
   "metadata": {
    "scrolled": true
   },
   "outputs": [
    {
     "name": "stdout",
     "output_type": "stream",
     "text": [
      "Epoch 1/10\n",
      "709/709 [==============================] - 45s 63ms/step - loss: 0.6913 - acc: 0.8553\n",
      "2116/2116 [==============================] - 435s 206ms/step - loss: 0.6912 - acc: 0.8666 - val_loss: 0.6913 - val_acc: 0.8553\n",
      "Epoch 2/10\n",
      "709/709 [==============================] - 46s 66ms/step - loss: 0.6910 - acc: 0.8985\n",
      "2116/2116 [==============================] - 336s 159ms/step - loss: 0.6908 - acc: 0.9185 - val_loss: 0.6910 - val_acc: 0.8985\n",
      "Epoch 3/10\n",
      "709/709 [==============================] - 59s 84ms/step - loss: 0.6911 - acc: 0.8927\n",
      "2116/2116 [==============================] - 376s 178ms/step - loss: 0.6907 - acc: 0.9373 - val_loss: 0.6911 - val_acc: 0.8927\n",
      "Epoch 4/10\n",
      "709/709 [==============================] - 43s 61ms/step - loss: 0.6910 - acc: 0.8977\n",
      "2116/2116 [==============================] - 307s 145ms/step - loss: 0.6906 - acc: 0.9530 - val_loss: 0.6910 - val_acc: 0.8977\n",
      "Epoch 5/10\n",
      "709/709 [==============================] - 47s 66ms/step - loss: 0.6910 - acc: 0.8997\n",
      "2116/2116 [==============================] - 313s 148ms/step - loss: 0.6906 - acc: 0.9555 - val_loss: 0.6910 - val_acc: 0.8997\n",
      "Epoch 6/10\n",
      "709/709 [==============================] - 47s 66ms/step - loss: 0.6909 - acc: 0.9178\n",
      "2116/2116 [==============================] - 289s 137ms/step - loss: 0.6905 - acc: 0.9611 - val_loss: 0.6909 - val_acc: 0.9178\n",
      "Epoch 7/10\n",
      "709/709 [==============================] - 54s 76ms/step - loss: 0.6909 - acc: 0.9137\n",
      "2116/2116 [==============================] - 303s 143ms/step - loss: 0.6906 - acc: 0.9589 - val_loss: 0.6909 - val_acc: 0.9137\n",
      "Epoch 8/10\n",
      "709/709 [==============================] - 73s 103ms/step - loss: 0.6909 - acc: 0.9118\n",
      "2116/2116 [==============================] - 352s 166ms/step - loss: 0.6905 - acc: 0.9611 - val_loss: 0.6909 - val_acc: 0.9118\n",
      "Epoch 9/10\n",
      "709/709 [==============================] - 47s 66ms/step - loss: 0.6909 - acc: 0.9145\n",
      "2116/2116 [==============================] - 293s 139ms/step - loss: 0.6905 - acc: 0.9615 - val_loss: 0.6909 - val_acc: 0.9145\n",
      "Epoch 10/10\n",
      "709/709 [==============================] - 42s 60ms/step - loss: 0.6909 - acc: 0.9193\n",
      "2116/2116 [==============================] - 282s 133ms/step - loss: 0.6905 - acc: 0.9691 - val_loss: 0.6909 - val_acc: 0.9193\n"
     ]
    }
   ],
   "source": [
    "# model.fit  \n",
    "history = model.fit_generator(\n",
    "    train_data_gen,\n",
    "    steps_per_epoch = total_train // batch_size,\n",
    "    epochs = epochs,\n",
    "    validation_data = val_data_gen,\n",
    "    validation_steps = total_validation // batch_size\n",
    ")"
   ]
  },
  {
   "cell_type": "markdown",
   "metadata": {},
   "source": [
    "### 使用heatmap呈現confusion table"
   ]
  },
  {
   "cell_type": "code",
   "execution_count": 45,
   "metadata": {},
   "outputs": [
    {
     "data": {
      "text/plain": [
       "Text(0.5, 69.0, 'Predicted label')"
      ]
     },
     "execution_count": 45,
     "metadata": {},
     "output_type": "execute_result"
    },
    {
     "data": {
      "image/png": "[encoded data removed]",
      "text/plain": [
       "<Figure size 720x720 with 2 Axes>"
      ]
     },
     "metadata": {
      "needs_background": "light"
     },
     "output_type": "display_data"
    }
   ],
   "source": [
    "#Confution Matrix and Classification Report\n",
    "from sklearn.metrics import classification_report, confusion_matrix\n",
    "import seaborn as sns\n",
    "\n",
    "Y_pred = model.predict_generator(val_data_gen, total_validation // batch_size+1)\n",
    "y_pred = np.argmax(Y_pred, axis=1)\n",
    "\n",
    "plt.figure(figsize=(10, 10))\n",
    "conf_mat = confusion_matrix(val_data_gen.classes, y_pred)\n",
    "sns.heatmap(conf_mat,annot=False)\n",
    "plt.ylabel('True label')\n",
    "plt.xlabel('Predicted label')"
   ]
  },
  {
   "cell_type": "markdown",
   "metadata": {},
   "source": [
    "### 結果說明\n",
    "#### 從上圖無法明顯看出我們所建立的模型的預測能力，加上每個class的資料都沒有很多，因此形成上圖幾乎呈現0-10的情形，若將每項水果所有種類集合起來形成一個class(如:Apple Braeburn,Apple Crimson Snow,Apple Golden 1...集合成Apple)，將能更清楚透過heatmap辨別模型的預測能力\n"
   ]
  },
  {
   "cell_type": "code",
   "execution_count": null,
   "metadata": {},
   "outputs": [],
   "source": []
  }
 ],
 "metadata": {
  "kernelspec": {
   "display_name": "Python 3",
   "language": "python",
   "name": "python3"
  },
  "language_info": {
   "codemirror_mode": {
    "name": "ipython",
    "version": 3
   },
   "file_extension": ".py",
   "mimetype": "text/x-python",
   "name": "python",
   "nbconvert_exporter": "python",
   "pygments_lexer": "ipython3",
   "version": "3.7.3"
  }
 },
 "nbformat": 4,
 "nbformat_minor": 2
}
