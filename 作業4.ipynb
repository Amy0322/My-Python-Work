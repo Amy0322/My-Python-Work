{
 "cells": [
  {
   "cell_type": "markdown",
   "metadata": {},
   "source": [
    "作業1  大樂透"
   ]
  },
  {
   "cell_type": "code",
   "execution_count": 1,
   "metadata": {},
   "outputs": [],
   "source": [
    "%matplotlib inline\n",
    "import numpy as np\n",
    "import matplotlib.pyplot as plt\n",
    "import pandas as pd\n",
    "from numpy.random import randint"
   ]
  },
  {
   "cell_type": "code",
   "execution_count": 24,
   "metadata": {},
   "outputs": [
    {
     "name": "stdout",
     "output_type": "stream",
     "text": [
      "請問你要選擇的投注方式是?請輸入號碼\n",
      "1.全部快選 2.部分快選\n",
      "-->2\n",
      "請問你要下注幾組?\n",
      "-->3\n",
      "請問你要自行劃記的號碼為?(請用,隔開)\n",
      "-->1,5\n",
      "[1, 5, 9, 22, 23, 38]\n",
      "請問你要自行劃記的號碼為?(請用,隔開)\n",
      "-->3,6\n",
      "[3, 6, 12, 21, 27, 43]\n",
      "請問你要自行劃記的號碼為?(請用,隔開)\n",
      "-->48,49\n",
      "[19, 21, 30, 34, 48, 49]\n"
     ]
    }
   ],
   "source": [
    "type = int(input(\"請問你要選擇的投注方式是?請輸入號碼\\n1.全部快選 2.部分快選\\n-->\"))\n",
    "lottery = [] \n",
    "if (type==2):\n",
    "    num = input(\"請問你要下注幾組?\\n-->\")\n",
    "    i = int(num)\n",
    "    for y in range(i):\n",
    "        input_num = input(\"請問你要自行劃記的號碼為?(請用,隔開)\\n-->\")\n",
    "        number = input_num.split(\",\")\n",
    "        for item in number:\n",
    "            lottery.append(item)\n",
    "            lottery = list(map(int,lottery))\n",
    "        n = 6-len(lottery)\n",
    "        while len(lottery)<6:\n",
    "            for x in range(n):\n",
    "                new = randint(1,50)\n",
    "                if new in lottery:\n",
    "                    del new\n",
    "                else:\n",
    "                    lottery.append(new)\n",
    "        lottery.sort()\n",
    "        print(lottery)\n",
    "        #重置list\n",
    "        lottery=[]\n",
    "else:\n",
    "    num = input(\"請問你要下注幾組?\\n-->\")\n",
    "    i = int(num)\n",
    "    for y in range(i):\n",
    "        n = 6-len(lottery)\n",
    "        while len(lottery)<6:\n",
    "            for x in range(n):\n",
    "                new = randint(1,50)\n",
    "                if new in lottery:\n",
    "                    del new\n",
    "                else:\n",
    "                    lottery.append(new)\n",
    "        lottery.sort()\n",
    "        print(lottery)\n",
    "        lottery=[]"
   ]
  },
  {
   "cell_type": "code",
   "execution_count": null,
   "metadata": {},
   "outputs": [],
   "source": []
  },
  {
   "cell_type": "code",
   "execution_count": null,
   "metadata": {},
   "outputs": [],
   "source": []
  },
  {
   "cell_type": "code",
   "execution_count": null,
   "metadata": {},
   "outputs": [],
   "source": []
  }
 ],
 "metadata": {
  "kernelspec": {
   "display_name": "Python 3",
   "language": "python",
   "name": "python3"
  },
  "language_info": {
   "codemirror_mode": {
    "name": "ipython",
    "version": 3
   },
   "file_extension": ".py",
   "mimetype": "text/x-python",
   "name": "python",
   "nbconvert_exporter": "python",
   "pygments_lexer": "ipython3",
   "version": "3.7.3"
  }
 },
 "nbformat": 4,
 "nbformat_minor": 2
}
