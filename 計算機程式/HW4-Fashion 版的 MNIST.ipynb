{
 "cells": [
  {
   "cell_type": "code",
   "execution_count": 1,
   "metadata": {},
   "outputs": [],
   "source": [
    "%matplotlib inline\n",
    "\n",
    "import numpy as np\n",
    "import matplotlib.pyplot as plt\n",
    "\n",
    "import tensorflow as tf"
   ]
  },
  {
   "cell_type": "markdown",
   "metadata": {},
   "source": [
    "### 1. 讀入 Fashion MNSIT 數據集"
   ]
  },
  {
   "cell_type": "code",
   "execution_count": 2,
   "metadata": {},
   "outputs": [],
   "source": [
    "from tensorflow.keras.datasets import fashion_mnist"
   ]
  },
  {
   "cell_type": "code",
   "execution_count": 3,
   "metadata": {},
   "outputs": [],
   "source": [
    "(x_train, y_train), (x_test, y_test) = fashion_mnist.load_data()"
   ]
  },
  {
   "cell_type": "markdown",
   "metadata": {},
   "source": [
    "### 2. 欣賞數據集內容"
   ]
  },
  {
   "cell_type": "code",
   "execution_count": 4,
   "metadata": {},
   "outputs": [],
   "source": [
    "class_names = ['T-shirt/top', 'Trouser', 'Pullover', 'Dress', 'Coat',\n",
    "               'Sandal', 'Shirt', 'Sneaker', 'Bag', 'Ankle boot']"
   ]
  },
  {
   "cell_type": "code",
   "execution_count": 5,
   "metadata": {},
   "outputs": [
    {
     "data": {
      "text/plain": [
       "60000"
      ]
     },
     "execution_count": 5,
     "metadata": {},
     "output_type": "execute_result"
    }
   ],
   "source": [
    "len(x_train)"
   ]
  },
  {
   "cell_type": "code",
   "execution_count": 6,
   "metadata": {},
   "outputs": [
    {
     "data": {
      "text/plain": [
       "10000"
      ]
     },
     "execution_count": 6,
     "metadata": {},
     "output_type": "execute_result"
    }
   ],
   "source": [
    "len(x_test)"
   ]
  },
  {
   "cell_type": "code",
   "execution_count": 7,
   "metadata": {},
   "outputs": [
    {
     "name": "stdout",
     "output_type": "stream",
     "text": [
      "這是 Bag\n"
     ]
    },
    {
     "data": {
      "image/png": "[encoded data removed]",
      "text/plain": [
       "<Figure size 432x288 with 1 Axes>"
      ]
     },
     "metadata": {
      "needs_background": "light"
     },
     "output_type": "display_data"
    }
   ],
   "source": [
    "n = 1234\n",
    "print('這是', class_names[y_train[n]])\n",
    "plt.imshow(x_train[n], cmap='Greys');"
   ]
  },
  {
   "cell_type": "markdown",
   "metadata": {},
   "source": [
    "### 3.資料整理"
   ]
  },
  {
   "cell_type": "code",
   "execution_count": 8,
   "metadata": {},
   "outputs": [],
   "source": [
    "# 255是因為圖片由0-255組成\n",
    "x_train=x_train/255\n",
    "x_test=x_test/255"
   ]
  },
  {
   "cell_type": "code",
   "execution_count": 9,
   "metadata": {},
   "outputs": [
    {
     "data": {
      "text/plain": [
       "(60000, 28, 28)"
      ]
     },
     "execution_count": 9,
     "metadata": {},
     "output_type": "execute_result"
    }
   ],
   "source": [
    "# .shape():(總資料數,x,x)->x*x元素資料\n",
    "x_train.shape"
   ]
  },
  {
   "cell_type": "markdown",
   "metadata": {},
   "source": [
    "#### 將資料拉平"
   ]
  },
  {
   "cell_type": "code",
   "execution_count": 10,
   "metadata": {},
   "outputs": [],
   "source": [
    "# .reshape(資料總數,一個資料的總資料數)\n",
    "x_train=x_train.reshape(60000,28*28)"
   ]
  },
  {
   "cell_type": "code",
   "execution_count": 11,
   "metadata": {},
   "outputs": [],
   "source": [
    "x_test=x_test.reshape(10000,28*28)"
   ]
  },
  {
   "cell_type": "code",
   "execution_count": 12,
   "metadata": {},
   "outputs": [],
   "source": [
    "# 將一般資料變成one-hot encoding\n",
    "from tensorflow.keras.utils import to_categorical"
   ]
  },
  {
   "cell_type": "code",
   "execution_count": 13,
   "metadata": {},
   "outputs": [],
   "source": [
    "# 因為有10類1~10\n",
    "y_train=to_categorical(y_train,10)"
   ]
  },
  {
   "cell_type": "code",
   "execution_count": 14,
   "metadata": {},
   "outputs": [],
   "source": [
    "y_test=to_categorical(y_test,10)"
   ]
  },
  {
   "cell_type": "code",
   "execution_count": 15,
   "metadata": {},
   "outputs": [
    {
     "data": {
      "text/plain": [
       "array([0., 0., 0., 0., 0., 1., 0., 0., 0., 0.], dtype=float32)"
      ]
     },
     "execution_count": 15,
     "metadata": {},
     "output_type": "execute_result"
    }
   ],
   "source": [
    "y_train[9]"
   ]
  },
  {
   "cell_type": "markdown",
   "metadata": {},
   "source": [
    "### 打造神經網路"
   ]
  },
  {
   "cell_type": "code",
   "execution_count": 16,
   "metadata": {},
   "outputs": [],
   "source": [
    "from tensorflow.keras.models import Sequential\n",
    "from tensorflow.keras.layers import Dense\n",
    "from tensorflow.keras.optimizers import SGD"
   ]
  },
  {
   "cell_type": "code",
   "execution_count": 17,
   "metadata": {},
   "outputs": [],
   "source": [
    "model = Sequential()"
   ]
  },
  {
   "cell_type": "code",
   "execution_count": 18,
   "metadata": {},
   "outputs": [
    {
     "name": "stdout",
     "output_type": "stream",
     "text": [
      "WARNING:tensorflow:From D:\\Anaconda\\lib\\site-packages\\tensorflow\\python\\ops\\resource_variable_ops.py:435: colocate_with (from tensorflow.python.framework.ops) is deprecated and will be removed in a future version.\n",
      "Instructions for updating:\n",
      "Colocations handled automatically by placer.\n"
     ]
    }
   ],
   "source": [
    "# 87個神經元，第一層，input_dim為28*28=784\n",
    "model.add(Dense(1000,input_dim=784,activation='relu'))"
   ]
  },
  {
   "cell_type": "code",
   "execution_count": 20,
   "metadata": {},
   "outputs": [],
   "source": [
    "# 第二層\n",
    "model.add(Dense(500,activation='relu'))"
   ]
  },
  {
   "cell_type": "code",
   "execution_count": 21,
   "metadata": {},
   "outputs": [],
   "source": [
    "# 第三層\n",
    "model.add(Dense(100,activation='relu'))"
   ]
  },
  {
   "cell_type": "code",
   "execution_count": 22,
   "metadata": {},
   "outputs": [],
   "source": [
    "# 第四層，輸出層，輸出10個結果\n",
    "model.add(Dense(10,activation='softmax'))"
   ]
  },
  {
   "cell_type": "markdown",
   "metadata": {},
   "source": [
    "### 4.組裝神經網路"
   ]
  },
  {
   "cell_type": "code",
   "execution_count": 23,
   "metadata": {},
   "outputs": [
    {
     "name": "stdout",
     "output_type": "stream",
     "text": [
      "WARNING:tensorflow:From D:\\Anaconda\\lib\\site-packages\\tensorflow\\python\\keras\\utils\\losses_utils.py:170: to_float (from tensorflow.python.ops.math_ops) is deprecated and will be removed in a future version.\n",
      "Instructions for updating:\n",
      "Use tf.cast instead.\n"
     ]
    }
   ],
   "source": [
    "model.compile(loss='mse',optimizer=SGD(lr=0.087),metrics=['accuracy'])"
   ]
  },
  {
   "cell_type": "markdown",
   "metadata": {},
   "source": [
    "### 5.訓練"
   ]
  },
  {
   "cell_type": "code",
   "execution_count": 24,
   "metadata": {},
   "outputs": [
    {
     "name": "stdout",
     "output_type": "stream",
     "text": [
      "WARNING:tensorflow:From D:\\Anaconda\\lib\\site-packages\\tensorflow\\python\\ops\\math_ops.py:3066: to_int32 (from tensorflow.python.ops.math_ops) is deprecated and will be removed in a future version.\n",
      "Instructions for updating:\n",
      "Use tf.cast instead.\n",
      "Epoch 1/20\n",
      "60000/60000 [==============================] - 63s 1ms/sample - loss: 0.0759 - acc: 0.4269\n",
      "Epoch 2/20\n",
      "60000/60000 [==============================] - 8s 131us/sample - loss: 0.0444 - acc: 0.6838\n",
      "Epoch 3/20\n",
      "60000/60000 [==============================] - 8s 134us/sample - loss: 0.0347 - acc: 0.7709\n",
      "Epoch 4/20\n",
      "60000/60000 [==============================] - 8s 135us/sample - loss: 0.0296 - acc: 0.8039\n",
      "Epoch 5/20\n",
      "60000/60000 [==============================] - 8s 140us/sample - loss: 0.0270 - acc: 0.8203\n",
      "Epoch 6/20\n",
      "60000/60000 [==============================] - 8s 132us/sample - loss: 0.0253 - acc: 0.8294\n",
      "Epoch 7/20\n",
      "60000/60000 [==============================] - 8s 134us/sample - loss: 0.0241 - acc: 0.8379\n",
      "Epoch 8/20\n",
      "60000/60000 [==============================] - 8s 129us/sample - loss: 0.0233 - acc: 0.8426\n",
      "Epoch 9/20\n",
      "60000/60000 [==============================] - 8s 136us/sample - loss: 0.0226 - acc: 0.8472\n",
      "Epoch 10/20\n",
      "60000/60000 [==============================] - 8s 131us/sample - loss: 0.0221 - acc: 0.8507\n",
      "Epoch 11/20\n",
      "60000/60000 [==============================] - 8s 135us/sample - loss: 0.0215 - acc: 0.8544\n",
      "Epoch 12/20\n",
      "60000/60000 [==============================] - 8s 129us/sample - loss: 0.0211 - acc: 0.8564\n",
      "Epoch 13/20\n",
      "60000/60000 [==============================] - 8s 136us/sample - loss: 0.0207 - acc: 0.8606\n",
      "Epoch 14/20\n",
      "60000/60000 [==============================] - 8s 135us/sample - loss: 0.0204 - acc: 0.8617\n",
      "Epoch 15/20\n",
      "60000/60000 [==============================] - 8s 135us/sample - loss: 0.0201 - acc: 0.8637\n",
      "Epoch 16/20\n",
      "60000/60000 [==============================] - 8s 133us/sample - loss: 0.0198 - acc: 0.8659\n",
      "Epoch 17/20\n",
      "60000/60000 [==============================] - 8s 141us/sample - loss: 0.0194 - acc: 0.8691\n",
      "Epoch 18/20\n",
      "60000/60000 [==============================] - 8s 134us/sample - loss: 0.0192 - acc: 0.8710\n",
      "Epoch 19/20\n",
      "60000/60000 [==============================] - 8s 134us/sample - loss: 0.0190 - acc: 0.8732\n",
      "Epoch 20/20\n",
      "60000/60000 [==============================] - 8s 129us/sample - loss: 0.0188 - acc: 0.8731\n"
     ]
    },
    {
     "data": {
      "text/plain": [
       "<tensorflow.python.keras.callbacks.History at 0x1b83651e898>"
      ]
     },
     "execution_count": 24,
     "metadata": {},
     "output_type": "execute_result"
    }
   ],
   "source": [
    "model.fit(x_train,y_train,batch_size=100,epochs=20)"
   ]
  },
  {
   "cell_type": "markdown",
   "metadata": {},
   "source": [
    "#### 增加EPOCHS以提高準確率"
   ]
  },
  {
   "cell_type": "code",
   "execution_count": 26,
   "metadata": {},
   "outputs": [
    {
     "name": "stdout",
     "output_type": "stream",
     "text": [
      "Epoch 1/50\n",
      "60000/60000 [==============================] - 11s 176us/sample - loss: 0.0141 - acc: 0.9077\n",
      "Epoch 2/50\n",
      "60000/60000 [==============================] - 9s 144us/sample - loss: 0.0140 - acc: 0.9086\n",
      "Epoch 3/50\n",
      "60000/60000 [==============================] - 9s 148us/sample - loss: 0.0139 - acc: 0.9085\n",
      "Epoch 4/50\n",
      "60000/60000 [==============================] - 9s 146us/sample - loss: 0.0138 - acc: 0.9097\n",
      "Epoch 5/50\n",
      "60000/60000 [==============================] - ETA: 0s - loss: 0.0137 - acc: 0.911 - 8s 135us/sample - loss: 0.0136 - acc: 0.9112\n",
      "Epoch 6/50\n",
      "60000/60000 [==============================] - 8s 141us/sample - loss: 0.0136 - acc: 0.9109\n",
      "Epoch 7/50\n",
      "60000/60000 [==============================] - 9s 157us/sample - loss: 0.0134 - acc: 0.9132\n",
      "Epoch 8/50\n",
      "60000/60000 [==============================] - 9s 155us/sample - loss: 0.0134 - acc: 0.9127\n",
      "Epoch 9/50\n",
      "60000/60000 [==============================] - 15s 258us/sample - loss: 0.0132 - acc: 0.9140\n",
      "Epoch 10/50\n",
      "60000/60000 [==============================] - 11s 190us/sample - loss: 0.0131 - acc: 0.9146\n",
      "Epoch 11/50\n",
      "60000/60000 [==============================] - 9s 145us/sample - loss: 0.0131 - acc: 0.9149\n",
      "Epoch 12/50\n",
      "60000/60000 [==============================] - 10s 172us/sample - loss: 0.0129 - acc: 0.9158\n",
      "Epoch 13/50\n",
      "60000/60000 [==============================] - 9s 145us/sample - loss: 0.0128 - acc: 0.9171\n",
      "Epoch 14/50\n",
      "60000/60000 [==============================] - 11s 182us/sample - loss: 0.0128 - acc: 0.9167\n",
      "Epoch 15/50\n",
      "60000/60000 [==============================] - 9s 146us/sample - loss: 0.0126 - acc: 0.9180\n",
      "Epoch 16/50\n",
      "60000/60000 [==============================] - 8s 134us/sample - loss: 0.0126 - acc: 0.9191\n",
      "Epoch 17/50\n",
      "60000/60000 [==============================] - 10s 158us/sample - loss: 0.0124 - acc: 0.9198 - los\n",
      "Epoch 18/50\n",
      "60000/60000 [==============================] - 8s 130us/sample - loss: 0.0123 - acc: 0.9213\n",
      "Epoch 19/50\n",
      "60000/60000 [==============================] - 8s 128us/sample - loss: 0.0122 - acc: 0.9213\n",
      "Epoch 20/50\n",
      "60000/60000 [==============================] - 8s 135us/sample - loss: 0.0121 - acc: 0.9217\n",
      "Epoch 21/50\n",
      "60000/60000 [==============================] - 8s 129us/sample - loss: 0.0120 - acc: 0.9234\n",
      "Epoch 22/50\n",
      "60000/60000 [==============================] - 8s 128us/sample - loss: 0.0120 - acc: 0.9229\n",
      "Epoch 23/50\n",
      "60000/60000 [==============================] - 8s 127us/sample - loss: 0.0120 - acc: 0.9229s - loss: 0\n",
      "Epoch 24/50\n",
      "60000/60000 [==============================] - 8s 129us/sample - loss: 0.0118 - acc: 0.9244\n",
      "Epoch 25/50\n",
      "60000/60000 [==============================] - 8s 127us/sample - loss: 0.0116 - acc: 0.9254\n",
      "Epoch 26/50\n",
      "60000/60000 [==============================] - 8s 130us/sample - loss: 0.0116 - acc: 0.9262\n",
      "Epoch 27/50\n",
      "60000/60000 [==============================] - 8s 127us/sample - loss: 0.0115 - acc: 0.9272\n",
      "Epoch 28/50\n",
      "60000/60000 [==============================] - 8s 132us/sample - loss: 0.0113 - acc: 0.9273s - loss: 0.0113 - acc:\n",
      "Epoch 29/50\n",
      "60000/60000 [==============================] - 8s 128us/sample - loss: 0.0113 - acc: 0.9283\n",
      "Epoch 30/50\n",
      "60000/60000 [==============================] - 7s 123us/sample - loss: 0.0112 - acc: 0.9289\n",
      "Epoch 31/50\n",
      "60000/60000 [==============================] - 9s 154us/sample - loss: 0.0111 - acc: 0.9289\n",
      "Epoch 32/50\n",
      "60000/60000 [==============================] - 8s 139us/sample - loss: 0.0109 - acc: 0.9304\n",
      "Epoch 33/50\n",
      "60000/60000 [==============================] - 9s 142us/sample - loss: 0.0109 - acc: 0.9305\n",
      "Epoch 34/50\n",
      "60000/60000 [==============================] - 8s 130us/sample - loss: 0.0108 - acc: 0.9311\n",
      "Epoch 35/50\n",
      "60000/60000 [==============================] - 8s 141us/sample - loss: 0.0107 - acc: 0.9318s - los\n",
      "Epoch 36/50\n",
      "60000/60000 [==============================] - 8s 135us/sample - loss: 0.0106 - acc: 0.9336\n",
      "Epoch 37/50\n",
      "60000/60000 [==============================] - 9s 143us/sample - loss: 0.0106 - acc: 0.9331\n",
      "Epoch 38/50\n",
      "60000/60000 [==============================] - 8s 132us/sample - loss: 0.0105 - acc: 0.9340\n",
      "Epoch 39/50\n",
      "60000/60000 [==============================] - 9s 142us/sample - loss: 0.0104 - acc: 0.9341\n",
      "Epoch 40/50\n",
      "60000/60000 [==============================] - 8s 132us/sample - loss: 0.0103 - acc: 0.9355\n",
      "Epoch 41/50\n",
      "60000/60000 [==============================] - 8s 141us/sample - loss: 0.0102 - acc: 0.9363\n",
      "Epoch 42/50\n",
      "60000/60000 [==============================] - 8s 135us/sample - loss: 0.0101 - acc: 0.9367s - loss: \n",
      "Epoch 43/50\n",
      "60000/60000 [==============================] - 8s 138us/sample - loss: 0.0100 - acc: 0.9373\n",
      "Epoch 44/50\n",
      "60000/60000 [==============================] - 9s 147us/sample - loss: 0.0099 - acc: 0.9385\n",
      "Epoch 45/50\n",
      "60000/60000 [==============================] - 8s 132us/sample - loss: 0.0098 - acc: 0.9389\n",
      "Epoch 46/50\n",
      "60000/60000 [==============================] - 9s 144us/sample - loss: 0.0098 - acc: 0.9387\n",
      "Epoch 47/50\n",
      "60000/60000 [==============================] - 8s 138us/sample - loss: 0.0096 - acc: 0.9412\n",
      "Epoch 48/50\n",
      "60000/60000 [==============================] - 8s 137us/sample - loss: 0.0096 - acc: 0.9404\n",
      "Epoch 49/50\n",
      "60000/60000 [==============================] - 8s 136us/sample - loss: 0.0094 - acc: 0.9414\n",
      "Epoch 50/50\n",
      "60000/60000 [==============================] - 8s 140us/sample - loss: 0.0093 - acc: 0.9426\n"
     ]
    },
    {
     "data": {
      "text/plain": [
       "<tensorflow.python.keras.callbacks.History at 0x1b8365912b0>"
      ]
     },
     "execution_count": 26,
     "metadata": {},
     "output_type": "execute_result"
    }
   ],
   "source": [
    "model.fit(x_train,y_train,batch_size=100,epochs=50)"
   ]
  },
  {
   "cell_type": "code",
   "execution_count": 27,
   "metadata": {},
   "outputs": [
    {
     "name": "stdout",
     "output_type": "stream",
     "text": [
      "Epoch 1/100\n",
      "60000/60000 [==============================] - 8s 128us/sample - loss: 0.0094 - acc: 0.9413s - loss: 0.0094 - acc: 0\n",
      "Epoch 2/100\n",
      "60000/60000 [==============================] - 7s 124us/sample - loss: 0.0093 - acc: 0.9420\n",
      "Epoch 3/100\n",
      "60000/60000 [==============================] - 8s 135us/sample - loss: 0.0092 - acc: 0.9431\n",
      "Epoch 4/100\n",
      "60000/60000 [==============================] - 8s 125us/sample - loss: 0.0092 - acc: 0.9429\n",
      "Epoch 5/100\n",
      "60000/60000 [==============================] - 8s 131us/sample - loss: 0.0089 - acc: 0.9460\n",
      "Epoch 6/100\n",
      "60000/60000 [==============================] - 7s 125us/sample - loss: 0.0089 - acc: 0.9448\n",
      "Epoch 7/100\n",
      "60000/60000 [==============================] - 8s 131us/sample - loss: 0.0087 - acc: 0.9466\n",
      "Epoch 8/100\n",
      "60000/60000 [==============================] - 8s 126us/sample - loss: 0.0088 - acc: 0.9461\n",
      "Epoch 9/100\n",
      "60000/60000 [==============================] - 8s 132us/sample - loss: 0.0087 - acc: 0.9472s - loss:\n",
      "Epoch 10/100\n",
      "60000/60000 [==============================] - 8s 127us/sample - loss: 0.0085 - acc: 0.9492\n",
      "Epoch 11/100\n",
      "60000/60000 [==============================] - 8s 136us/sample - loss: 0.0085 - acc: 0.9475\n",
      "Epoch 12/100\n",
      "60000/60000 [==============================] - 8s 128us/sample - loss: 0.0085 - acc: 0.9478\n",
      "Epoch 13/100\n",
      "60000/60000 [==============================] - 8s 139us/sample - loss: 0.0082 - acc: 0.9507s - loss: 0.0082 - acc: 0.95\n",
      "Epoch 14/100\n",
      "60000/60000 [==============================] - 8s 139us/sample - loss: 0.0082 - acc: 0.9501\n",
      "Epoch 15/100\n",
      "60000/60000 [==============================] - 8s 132us/sample - loss: 0.0081 - acc: 0.9498\n",
      "Epoch 16/100\n",
      "60000/60000 [==============================] - 8s 128us/sample - loss: 0.0082 - acc: 0.9505\n",
      "Epoch 17/100\n",
      "60000/60000 [==============================] - 8s 140us/sample - loss: 0.0080 - acc: 0.9509\n",
      "Epoch 18/100\n",
      "60000/60000 [==============================] - 7s 119us/sample - loss: 0.0079 - acc: 0.9522\n",
      "Epoch 19/100\n",
      "60000/60000 [==============================] - 7s 122us/sample - loss: 0.0078 - acc: 0.9529\n",
      "Epoch 20/100\n",
      "60000/60000 [==============================] - 9s 152us/sample - loss: 0.0078 - acc: 0.9529s \n",
      "Epoch 21/100\n",
      "60000/60000 [==============================] - 8s 131us/sample - loss: 0.0078 - acc: 0.9526\n",
      "Epoch 22/100\n",
      "60000/60000 [==============================] - 8s 133us/sample - loss: 0.0077 - acc: 0.9535\n",
      "Epoch 23/100\n",
      "60000/60000 [==============================] - 9s 150us/sample - loss: 0.0077 - acc: 0.9531\n",
      "Epoch 24/100\n",
      "60000/60000 [==============================] - 7s 116us/sample - loss: 0.0075 - acc: 0.9545\n",
      "Epoch 25/100\n",
      "60000/60000 [==============================] - 8s 137us/sample - loss: 0.0075 - acc: 0.9548\n",
      "Epoch 26/100\n",
      "60000/60000 [==============================] - 7s 117us/sample - loss: 0.0073 - acc: 0.9561\n",
      "Epoch 27/100\n",
      "60000/60000 [==============================] - 9s 153us/sample - loss: 0.0073 - acc: 0.9565\n",
      "Epoch 28/100\n",
      "60000/60000 [==============================] - 14s 230us/sample - loss: 0.0073 - acc: 0.9564 - loss - ETA: 4\n",
      "Epoch 29/100\n",
      "60000/60000 [==============================] - 12s 193us/sample - loss: 0.0071 - acc: 0.9578\n",
      "Epoch 30/100\n",
      "60000/60000 [==============================] - 11s 184us/sample - loss: 0.0071 - acc: 0.9574\n",
      "Epoch 31/100\n",
      "60000/60000 [==============================] - 12s 194us/sample - loss: 0.0070 - acc: 0.9585\n",
      "Epoch 32/100\n",
      "60000/60000 [==============================] - 8s 126us/sample - loss: 0.0070 - acc: 0.9582\n",
      "Epoch 33/100\n",
      "60000/60000 [==============================] - 9s 152us/sample - loss: 0.0070 - acc: 0.9577\n",
      "Epoch 34/100\n",
      "60000/60000 [==============================] - 9s 143us/sample - loss: 0.0068 - acc: 0.9599\n",
      "Epoch 35/100\n",
      "60000/60000 [==============================] - 8s 128us/sample - loss: 0.0068 - acc: 0.9599s - loss: 0.0068 - \n",
      "Epoch 36/100\n",
      "60000/60000 [==============================] - 7s 122us/sample - loss: 0.0066 - acc: 0.9604\n",
      "Epoch 37/100\n",
      "60000/60000 [==============================] - 8s 126us/sample - loss: 0.0067 - acc: 0.9602\n",
      "Epoch 38/100\n",
      "60000/60000 [==============================] - 7s 120us/sample - loss: 0.0066 - acc: 0.9606\n",
      "Epoch 39/100\n",
      "60000/60000 [==============================] - 9s 150us/sample - loss: 0.0065 - acc: 0.9622\n",
      "Epoch 40/100\n",
      "60000/60000 [==============================] - 9s 149us/sample - loss: 0.0065 - acc: 0.9613\n",
      "Epoch 41/100\n",
      "60000/60000 [==============================] - 9s 147us/sample - loss: 0.0064 - acc: 0.9618s - loss: 0\n",
      "Epoch 42/100\n",
      "60000/60000 [==============================] - 8s 139us/sample - loss: 0.0062 - acc: 0.9636\n",
      "Epoch 43/100\n",
      "60000/60000 [==============================] - 10s 164us/sample - loss: 0.0063 - acc: 0.9626 - loss: 0.0063 - acc:\n",
      "Epoch 44/100\n",
      "60000/60000 [==============================] - 8s 135us/sample - loss: 0.0062 - acc: 0.9633\n",
      "Epoch 45/100\n",
      "60000/60000 [==============================] - 11s 176us/sample - loss: 0.0061 - acc: 0.9643\n",
      "Epoch 46/100\n",
      "60000/60000 [==============================] - 10s 164us/sample - loss: 0.0061 - acc: 0.9639 - los\n",
      "Epoch 47/100\n",
      "60000/60000 [==============================] - 8s 141us/sample - loss: 0.0060 - acc: 0.9644\n",
      "Epoch 48/100\n",
      "60000/60000 [==============================] - 8s 128us/sample - loss: 0.0059 - acc: 0.9653\n",
      "Epoch 49/100\n",
      "60000/60000 [==============================] - 7s 120us/sample - loss: 0.0060 - acc: 0.9650\n",
      "Epoch 50/100\n",
      "60000/60000 [==============================] - 8s 130us/sample - loss: 0.0059 - acc: 0.9655\n",
      "Epoch 51/100\n",
      "60000/60000 [==============================] - 8s 129us/sample - loss: 0.0058 - acc: 0.9658s - loss: \n",
      "Epoch 52/100\n",
      "60000/60000 [==============================] - 9s 143us/sample - loss: 0.0057 - acc: 0.9673\n",
      "Epoch 53/100\n",
      "60000/60000 [==============================] - 8s 134us/sample - loss: 0.0056 - acc: 0.9674\n",
      "Epoch 54/100\n",
      "60000/60000 [==============================] - 8s 138us/sample - loss: 0.0057 - acc: 0.9660\n",
      "Epoch 55/100\n",
      "60000/60000 [==============================] - 7s 120us/sample - loss: 0.0057 - acc: 0.9663- ETA: 0s - loss: 0.0058 - \n",
      "Epoch 56/100\n",
      "60000/60000 [==============================] - 8s 126us/sample - loss: 0.0055 - acc: 0.9679\n",
      "Epoch 57/100\n",
      "60000/60000 [==============================] - 7s 120us/sample - loss: 0.0054 - acc: 0.9685\n",
      "Epoch 58/100\n",
      "60000/60000 [==============================] - 7s 125us/sample - loss: 0.0054 - acc: 0.9685\n",
      "Epoch 59/100\n",
      "60000/60000 [==============================] - 7s 124us/sample - loss: 0.0054 - acc: 0.9690s - los\n",
      "Epoch 60/100\n",
      "60000/60000 [==============================] - 8s 126us/sample - loss: 0.0053 - acc: 0.9693\n",
      "Epoch 61/100\n",
      "60000/60000 [==============================] - 7s 121us/sample - loss: 0.0053 - acc: 0.9689\n",
      "Epoch 62/100\n",
      "60000/60000 [==============================] - 9s 144us/sample - loss: 0.0051 - acc: 0.9708\n",
      "Epoch 63/100\n",
      "60000/60000 [==============================] - 7s 124us/sample - loss: 0.0053 - acc: 0.9694\n",
      "Epoch 64/100\n",
      "60000/60000 [==============================] - 7s 125us/sample - loss: 0.0051 - acc: 0.9703\n",
      "Epoch 65/100\n",
      "60000/60000 [==============================] - 7s 121us/sample - loss: 0.0050 - acc: 0.9717s - loss: 0.00\n",
      "Epoch 66/100\n",
      "60000/60000 [==============================] - 8s 140us/sample - loss: 0.0051 - acc: 0.9705\n",
      "Epoch 67/100\n",
      "60000/60000 [==============================] - 9s 144us/sample - loss: 0.0049 - acc: 0.9719\n",
      "Epoch 68/100\n",
      "60000/60000 [==============================] - 7s 124us/sample - loss: 0.0049 - acc: 0.9717\n",
      "Epoch 69/100\n",
      "60000/60000 [==============================] - 9s 149us/sample - loss: 0.0049 - acc: 0.9716\n",
      "Epoch 70/100\n",
      "60000/60000 [==============================] - 8s 135us/sample - loss: 0.0048 - acc: 0.9720\n",
      "Epoch 71/100\n",
      "60000/60000 [==============================] - 9s 145us/sample - loss: 0.0049 - acc: 0.9718\n",
      "Epoch 72/100\n",
      "60000/60000 [==============================] - 8s 126us/sample - loss: 0.0047 - acc: 0.9728\n",
      "Epoch 73/100\n",
      "60000/60000 [==============================] - 7s 121us/sample - loss: 0.0048 - acc: 0.9726\n",
      "Epoch 74/100\n",
      "60000/60000 [==============================] - 7s 123us/sample - loss: 0.0048 - acc: 0.9726\n",
      "Epoch 75/100\n",
      "60000/60000 [==============================] - 7s 125us/sample - loss: 0.0045 - acc: 0.9742\n",
      "Epoch 76/100\n"
     ]
    },
    {
     "name": "stdout",
     "output_type": "stream",
     "text": [
      "60000/60000 [==============================] - 7s 123us/sample - loss: 0.0046 - acc: 0.9739\n",
      "Epoch 77/100\n",
      "60000/60000 [==============================] - 7s 123us/sample - loss: 0.0045 - acc: 0.9742\n",
      "Epoch 78/100\n",
      "60000/60000 [==============================] - 9s 145us/sample - loss: 0.0044 - acc: 0.9746\n",
      "Epoch 79/100\n",
      "60000/60000 [==============================] - 8s 141us/sample - loss: 0.0044 - acc: 0.9749\n",
      "Epoch 80/100\n",
      "60000/60000 [==============================] - 7s 120us/sample - loss: 0.0043 - acc: 0.9751\n",
      "Epoch 81/100\n",
      "60000/60000 [==============================] - 9s 155us/sample - loss: 0.0042 - acc: 0.9760\n",
      "Epoch 82/100\n",
      "60000/60000 [==============================] - 8s 134us/sample - loss: 0.0044 - acc: 0.9750\n",
      "Epoch 83/100\n",
      "60000/60000 [==============================] - 7s 123us/sample - loss: 0.0041 - acc: 0.9767s - loss: 0.0041 - acc:\n",
      "Epoch 84/100\n",
      "60000/60000 [==============================] - 7s 124us/sample - loss: 0.0042 - acc: 0.9758\n",
      "Epoch 85/100\n",
      "60000/60000 [==============================] - 8s 125us/sample - loss: 0.0042 - acc: 0.9758\n",
      "Epoch 86/100\n",
      "60000/60000 [==============================] - 9s 154us/sample - loss: 0.0041 - acc: 0.9765\n",
      "Epoch 87/100\n",
      "60000/60000 [==============================] - 8s 133us/sample - loss: 0.0040 - acc: 0.9774\n",
      "Epoch 88/100\n",
      "60000/60000 [==============================] - 7s 120us/sample - loss: 0.0041 - acc: 0.9771\n",
      "Epoch 89/100\n",
      "60000/60000 [==============================] - 8s 128us/sample - loss: 0.0040 - acc: 0.9772\n",
      "Epoch 90/100\n",
      "60000/60000 [==============================] - 7s 118us/sample - loss: 0.0040 - acc: 0.9773\n",
      "Epoch 91/100\n",
      "60000/60000 [==============================] - 8s 125us/sample - loss: 0.0040 - acc: 0.9773\n",
      "Epoch 92/100\n",
      "60000/60000 [==============================] - 7s 123us/sample - loss: 0.0039 - acc: 0.9776s - loss: 0.\n",
      "Epoch 93/100\n",
      "60000/60000 [==============================] - 8s 126us/sample - loss: 0.0040 - acc: 0.9769\n",
      "Epoch 94/100\n",
      "60000/60000 [==============================] - 9s 146us/sample - loss: 0.0037 - acc: 0.9796\n",
      "Epoch 95/100\n",
      "60000/60000 [==============================] - 8s 128us/sample - loss: 0.0039 - acc: 0.9782\n",
      "Epoch 96/100\n",
      "60000/60000 [==============================] - 7s 120us/sample - loss: 0.0038 - acc: 0.9787\n",
      "Epoch 97/100\n",
      "60000/60000 [==============================] - 7s 124us/sample - loss: 0.0038 - acc: 0.9782\n",
      "Epoch 98/100\n",
      "60000/60000 [==============================] - 7s 123us/sample - loss: 0.0040 - acc: 0.9775\n",
      "Epoch 99/100\n",
      "60000/60000 [==============================] - 8s 128us/sample - loss: 0.0036 - acc: 0.9799s - loss: 0.0039 - acc: 0.9 - ET\n",
      "Epoch 100/100\n",
      "60000/60000 [==============================] - 8s 125us/sample - loss: 0.0035 - acc: 0.9802s - loss: 0.0035 - ac - ETA: 2s - loss: 0 - ETA: 1s - lo\n"
     ]
    },
    {
     "data": {
      "text/plain": [
       "<tensorflow.python.keras.callbacks.History at 0x1b836591320>"
      ]
     },
     "execution_count": 27,
     "metadata": {},
     "output_type": "execute_result"
    }
   ],
   "source": [
    "model.fit(x_train,y_train,batch_size=100,epochs=100)"
   ]
  },
  {
   "cell_type": "markdown",
   "metadata": {},
   "source": [
    "#### 經由提高epochs將準確率提高至0.9802"
   ]
  },
  {
   "cell_type": "markdown",
   "metadata": {},
   "source": [
    "### 6.訓練成果"
   ]
  },
  {
   "cell_type": "code",
   "execution_count": 28,
   "metadata": {},
   "outputs": [],
   "source": [
    "result=model.predict_classes(x_test)"
   ]
  },
  {
   "cell_type": "code",
   "execution_count": 31,
   "metadata": {},
   "outputs": [
    {
     "name": "stdout",
     "output_type": "stream",
     "text": [
      "神經網路預測是: T-shirt/top\n"
     ]
    },
    {
     "data": {
      "text/plain": [
       "<matplotlib.image.AxesImage at 0x1b8384c82e8>"
      ]
     },
     "execution_count": 31,
     "metadata": {},
     "output_type": "execute_result"
    },
    {
     "data": {
      "image/png": "[encoded data removed]",
      "text/plain": [
       "<Figure size 432x288 with 1 Axes>"
      ]
     },
     "metadata": {
      "needs_background": "light"
     },
     "output_type": "display_data"
    }
   ],
   "source": [
    "n=5246\n",
    "\n",
    "print('神經網路預測是:',class_names[result[n]])\n",
    "# reshape:將拉平的資料回復原狀\n",
    "plt.imshow(x_test[n].reshape(28,28),cmap='Greys')"
   ]
  },
  {
   "cell_type": "code",
   "execution_count": 33,
   "metadata": {},
   "outputs": [
    {
     "name": "stdout",
     "output_type": "stream",
     "text": [
      "神經網路預測是: Sandal\n"
     ]
    },
    {
     "data": {
      "text/plain": [
       "<matplotlib.image.AxesImage at 0x1b859286160>"
      ]
     },
     "execution_count": 33,
     "metadata": {},
     "output_type": "execute_result"
    },
    {
     "data": {
      "image/png": "[encoded data removed]",
      "text/plain": [
       "<Figure size 432x288 with 1 Axes>"
      ]
     },
     "metadata": {
      "needs_background": "light"
     },
     "output_type": "display_data"
    }
   ],
   "source": [
    "n=12\n",
    "print('神經網路預測是:',class_names[result[n]])\n",
    "# reshape:將拉平的資料回復原狀\n",
    "plt.imshow(x_test[n].reshape(28,28),cmap='Greys')"
   ]
  },
  {
   "cell_type": "code",
   "execution_count": 34,
   "metadata": {},
   "outputs": [
    {
     "name": "stdout",
     "output_type": "stream",
     "text": [
      "神經網路預測是: Coat\n"
     ]
    },
    {
     "data": {
      "text/plain": [
       "<matplotlib.image.AxesImage at 0x1b8592d3240>"
      ]
     },
     "execution_count": 34,
     "metadata": {},
     "output_type": "execute_result"
    },
    {
     "data": {
      "image/png": "[encoded data removed]",
      "text/plain": [
       "<Figure size 432x288 with 1 Axes>"
      ]
     },
     "metadata": {
      "needs_background": "light"
     },
     "output_type": "display_data"
    }
   ],
   "source": [
    "n=649\n",
    "print('神經網路預測是:',class_names[result[n]])\n",
    "# reshape:將拉平的資料回復原狀\n",
    "plt.imshow(x_test[n].reshape(28,28),cmap='Greys')"
   ]
  }
 ],
 "metadata": {
  "kernelspec": {
   "display_name": "Python 3",
   "language": "python",
   "name": "python3"
  },
  "language_info": {
   "codemirror_mode": {
    "name": "ipython",
    "version": 3
   },
   "file_extension": ".py",
   "mimetype": "text/x-python",
   "name": "python",
   "nbconvert_exporter": "python",
   "pygments_lexer": "ipython3",
   "version": "3.7.3"
  }
 },
 "nbformat": 4,
 "nbformat_minor": 2
}
