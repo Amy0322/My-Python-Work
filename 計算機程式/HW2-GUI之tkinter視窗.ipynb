{
 "cells": [
  {
   "cell_type": "code",
   "execution_count": 4,
   "metadata": {},
   "outputs": [],
   "source": [
    "%matplotlib inline\n",
    "import numpy as np\n",
    "import matplotlib.pyplot as plt\n",
    "import pandas as pd"
   ]
  },
  {
   "cell_type": "code",
   "execution_count": 5,
   "metadata": {},
   "outputs": [],
   "source": [
    "import tkinter as tk\n",
    "from tkinter import ttk"
   ]
  },
  {
   "cell_type": "code",
   "execution_count": 19,
   "metadata": {},
   "outputs": [],
   "source": [
    "from tkinter import messagebox \n",
    "def greet():\n",
    "    if (var1.get()==1):\n",
    "        result.config(text=\"Hello Sir,let's calculate your BMI!\")\n",
    "    else:\n",
    "        result.config(text=\"Hello Miss,let's calculate your BMI!\")\n",
    "def calculate():\n",
    "    r = float(weightVar.get())/(float(heightVar.get())/100)**2\n",
    "    r = round(r,2)\n",
    "    r = float(r)\n",
    "    if r<18.5:\n",
    "        messagebox.showinfo(title='Reslt',message='Your BMI is '+str(r)+' and it is below the standard.')\n",
    "    elif r>24:\n",
    "        messagebox.showinfo(title='Reslt',message='Your BMI is '+str(r)+' and it is above the standard.')\n",
    "    else:\n",
    "        messagebox.showinfo(title='Reslt',message='Your BMI is '+str(r)+' and it is in the standard.')\n",
    "window = tk.Tk()\n",
    "\n",
    "result= tk.Label(window,text='empty')\n",
    "result.pack()\n",
    "\n",
    "var1 = tk.IntVar()\n",
    "c1 = tk.Checkbutton(window,text='Male',variable=var1,onvalue=1,command=greet)\n",
    "c2 = tk.Checkbutton(window,text='Female',variable=var1,onvalue=0,command=greet)\n",
    "c1.pack()\n",
    "c2.pack()\n",
    "\n",
    "#體重\n",
    "#利用容器管理\n",
    "frame=tk.Frame(window)\n",
    "frame.pack() \n",
    "#取得參數\n",
    "weightVar=tk.StringVar()\n",
    "\n",
    "#文字內容\n",
    "lbl = tk.Label(frame,text='Weight (kg)')\n",
    "lbl.pack(side='left')\n",
    "#entry輸入框\n",
    "entry=tk.Entry(frame,textvariable=weightVar)\n",
    "entry.pack(side='top')\n",
    "#按鈕\n",
    "btn = tk.Button(window,text='GO',command=calculate)\n",
    "btn.pack(side='bottom')\n",
    "\n",
    "#身高\n",
    "frame2=tk.Frame(window)\n",
    "frame2.pack() \n",
    "#取得參數\n",
    "heightVar=tk.StringVar()\n",
    "\n",
    "#文字內容\n",
    "lbl2 = tk.Label(frame2,text='Height (cm)')\n",
    "lbl2.pack(side='left')\n",
    "#entry輸入框\n",
    "entry2=tk.Entry(frame2,textvariable=heightVar)\n",
    "entry2.pack(side='top')\n",
    "\n",
    "\n",
    "\n",
    "window.mainloop()"
   ]
  },
  {
   "cell_type": "code",
   "execution_count": null,
   "metadata": {},
   "outputs": [],
   "source": []
  }
 ],
 "metadata": {
  "kernelspec": {
   "display_name": "Python 3",
   "language": "python",
   "name": "python3"
  },
  "language_info": {
   "codemirror_mode": {
    "name": "ipython",
    "version": 3
   },
   "file_extension": ".py",
   "mimetype": "text/x-python",
   "name": "python",
   "nbconvert_exporter": "python",
   "pygments_lexer": "ipython3",
   "version": "3.7.3"
  }
 },
 "nbformat": 4,
 "nbformat_minor": 2
}
