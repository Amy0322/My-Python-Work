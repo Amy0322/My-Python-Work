{
 "cells": [
  {
   "cell_type": "code",
   "execution_count": 1,
   "metadata": {},
   "outputs": [],
   "source": [
    "%matplotlib inline\n",
    "\n",
    "import numpy as np\n",
    "import matplotlib.pyplot as plt\n",
    "import pandas as pd\n",
    "\n",
    "from IPython.display import display,YouTubeVideo"
   ]
  },
  {
   "cell_type": "markdown",
   "metadata": {},
   "source": [
    "### 數學軟體應用線上補課"
   ]
  },
  {
   "cell_type": "code",
   "execution_count": 2,
   "metadata": {},
   "outputs": [
    {
     "name": "stdout",
     "output_type": "stream",
     "text": [
      "請問你的缺課日期為? (請以月-日表示)09-25\n"
     ]
    },
    {
     "data": {
      "image/jpeg": "[encoded data removed]",
      "text/html": [
       "\n",
       "        <iframe\n",
       "            width=\"400\"\n",
       "            height=\"300\"\n",
       "            src=\"https://www.youtube.com/embed/sIxISvawoZQ\"\n",
       "            frameborder=\"0\"\n",
       "            allowfullscreen\n",
       "        ></iframe>\n",
       "        "
      ],
      "text/plain": [
       "<IPython.lib.display.YouTubeVideo at 0x2271c7397b8>"
      ]
     },
     "metadata": {},
     "output_type": "display_data"
    }
   ],
   "source": [
    "date = input(\"請問你的缺課日期為? (請以月-日表示)\")\n",
    "if date == \"09-18\":\n",
    "    display(YouTubeVideo('sDeIxAJQrw0'))\n",
    "elif date == \"09-25\":\n",
    "    display(YouTubeVideo('sIxISvawoZQ'))\n",
    "elif date == \"10-02\":\n",
    "    display(YouTubeVideo('Ra8qzLFPNfo'))\n",
    "elif date == \"10-09\":\n",
    "    display(YouTubeVideo('5QKydStn8YU'))\n",
    "else:\n",
    "    print(\"當天沒有上課哦!\")"
   ]
  },
  {
   "cell_type": "markdown",
   "metadata": {},
   "source": [
    "### 登錄成績"
   ]
  },
  {
   "cell_type": "code",
   "execution_count": 6,
   "metadata": {},
   "outputs": [
    {
     "name": "stdout",
     "output_type": "stream",
     "text": [
      "班級總人數:5\n",
      "請輸入分數，並以逗號分開，若無分數請打x:\n",
      "60,x,27,88,94\n",
      "1 號 60 分\n",
      "2 號無分數\n",
      "3 號 27 分\n",
      "4 號 88 分\n",
      "5 號 94 分\n",
      "及格人數: 3 不及格人數: 1\n"
     ]
    }
   ],
   "source": [
    "num = int(input('班級總人數:'))\n",
    "grades = []\n",
    "a = input(\"請輸入分數，並以逗號分開，若無分數請打x:\\n\")\n",
    "grades = a.split(\",\")\n",
    "pass_num=0\n",
    "fail_num=0\n",
    "def sort(s):\n",
    "    if s!=\"x\":\n",
    "        if int(s)>=60:\n",
    "            global pass_num\n",
    "            pass_num=pass_num+1\n",
    "        elif int(s)<60:\n",
    "            global fail_num\n",
    "            fail_num=fail_num+1\n",
    "for number in range(num):\n",
    "    if grades[number]==\"x\":\n",
    "        print(number+1,\"號無分數\")\n",
    "    else:\n",
    "        print(number+1,\"號\",grades[number],\"分\")\n",
    "    sort(grades[number])\n",
    "print('及格人數:',pass_num,'不及格人數:',fail_num)"
   ]
  },
  {
   "cell_type": "code",
   "execution_count": null,
   "metadata": {},
   "outputs": [],
   "source": [
    "type(range(num))"
   ]
  },
  {
   "cell_type": "code",
   "execution_count": null,
   "metadata": {},
   "outputs": [],
   "source": []
  }
 ],
 "metadata": {
  "kernelspec": {
   "display_name": "Python 3",
   "language": "python",
   "name": "python3"
  },
  "language_info": {
   "codemirror_mode": {
    "name": "ipython",
    "version": 3
   },
   "file_extension": ".py",
   "mimetype": "text/x-python",
   "name": "python",
   "nbconvert_exporter": "python",
   "pygments_lexer": "ipython3",
   "version": "3.7.3"
  }
 },
 "nbformat": 4,
 "nbformat_minor": 2
}
