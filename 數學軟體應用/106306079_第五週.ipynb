{
 "cells": [
  {
   "cell_type": "code",
   "execution_count": 1,
   "metadata": {},
   "outputs": [
    {
     "name": "stderr",
     "output_type": "stream",
     "text": [
      "D:\\Anaconda\\lib\\importlib\\_bootstrap.py:219: RuntimeWarning: numpy.ufunc size changed, may indicate binary incompatibility. Expected 192 from C header, got 216 from PyObject\n",
      "  return f(*args, **kwds)\n"
     ]
    }
   ],
   "source": [
    "%matplotlib inline\n",
    "import numpy as np\n",
    "import matplotlib.pyplot as plt\n",
    "import pandas as pd"
   ]
  },
  {
   "cell_type": "markdown",
   "metadata": {},
   "source": [
    "### 第一題_算閏年：\n",
    "請定義一個函式，讀進一個年份，輸出是不是閏年。"
   ]
  },
  {
   "cell_type": "code",
   "execution_count": 2,
   "metadata": {},
   "outputs": [
    {
     "name": "stdout",
     "output_type": "stream",
     "text": [
      "請輸入年份:2019\n",
      "這不是閏年\n"
     ]
    }
   ],
   "source": [
    "year = int(input('請輸入年份:'))\n",
    "if (year%4==0 and year%100!=0) or year%400==0:\n",
    "    print('這是閏年')\n",
    "else:\n",
    "    print('這不是閏年')"
   ]
  },
  {
   "cell_type": "markdown",
   "metadata": {},
   "source": [
    "### 第二題_請實作五乘五矩陣的矩陣加法函式："
   ]
  },
  {
   "cell_type": "code",
   "execution_count": 8,
   "metadata": {},
   "outputs": [],
   "source": [
    "m1 = np.random.randint(5,size=(5,5))\n",
    "m2 = np.random.randint(5,size=(5,5))\n",
    "\n",
    "def plus(m1,m2):\n",
    "    return m1+m2"
   ]
  },
  {
   "cell_type": "code",
   "execution_count": 9,
   "metadata": {},
   "outputs": [
    {
     "name": "stdout",
     "output_type": "stream",
     "text": [
      "[[5 7 4 4 3]\n",
      " [3 0 0 5 4]\n",
      " [2 3 8 3 7]\n",
      " [8 7 7 3 3]\n",
      " [1 5 3 6 7]]\n"
     ]
    }
   ],
   "source": [
    "print(plus(m1,m2))"
   ]
  },
  {
   "cell_type": "markdown",
   "metadata": {},
   "source": [
    "### 第三題_錄取分數表格"
   ]
  },
  {
   "cell_type": "code",
   "execution_count": 10,
   "metadata": {},
   "outputs": [],
   "source": [
    "score = [86.5, 79.4, 88.2, 96.5, 86.3, 76.8, 96.1, 78.5, 82.4, 88.6]\n",
    "weight =[\n",
    "[2, 2, 0, 1, 0, 0, 0, 1, 1, 0],\n",
    "[1, 1.5, 0, 1.5, 0, 0, 0, 0, 0, 0],\n",
    "[1, 1.5, 0, 2, 0, 0, 0, 0, 0, 0],\n",
    "[1.5, 2, 0, 2, 0, 0, 0, 0, 0, 0],\n",
    "[1.5, 2, 0, 2, 0, 0, 0, 1, 1, 0],\n",
    "[1, 2, 0, 1, 0, 0, 0, 1, 0, 1],\n",
    "[1, 1.5, 0, 1.25, 0, 0, 0, 0, 0, 1.25],\n",
    "[1, 1, 1.5, 0, 1, 1, 0, 0, 0, 0],\n",
    "[1.5, 2, 0, 1.25, 0, 0, 0, 1, 1, 0]\n",
    "]"
   ]
  },
  {
   "cell_type": "code",
   "execution_count": 16,
   "metadata": {},
   "outputs": [],
   "source": [
    "subject=pd.DataFrame(weight,columns=['國文', '英文','數甲', '數乙', '物理', '化學', '生物', '歷史', '地理', '公民'],\n",
    "                  index=['土語系','財政系','金融系','國貿系','會計系','法律系','公行系' ,'應數系','教育系'])"
   ]
  },
  {
   "cell_type": "code",
   "execution_count": 19,
   "metadata": {},
   "outputs": [
    {
     "data": {
      "text/html": [
       "<div>\n",
       "<style scoped>\n",
       "    .dataframe tbody tr th:only-of-type {\n",
       "        vertical-align: middle;\n",
       "    }\n",
       "\n",
       "    .dataframe tbody tr th {\n",
       "        vertical-align: top;\n",
       "    }\n",
       "\n",
       "    .dataframe thead th {\n",
       "        text-align: right;\n",
       "    }\n",
       "</style>\n",
       "<table border=\"1\" class=\"dataframe\">\n",
       "  <thead>\n",
       "    <tr style=\"text-align: right;\">\n",
       "      <th></th>\n",
       "      <th>國文</th>\n",
       "      <th>英文</th>\n",
       "      <th>數甲</th>\n",
       "      <th>數乙</th>\n",
       "      <th>物理</th>\n",
       "      <th>化學</th>\n",
       "      <th>生物</th>\n",
       "      <th>歷史</th>\n",
       "      <th>地理</th>\n",
       "      <th>公民</th>\n",
       "      <th>加權分數</th>\n",
       "    </tr>\n",
       "  </thead>\n",
       "  <tbody>\n",
       "    <tr>\n",
       "      <th>土語系</th>\n",
       "      <td>2.0</td>\n",
       "      <td>2.0</td>\n",
       "      <td>0.0</td>\n",
       "      <td>1.00</td>\n",
       "      <td>0</td>\n",
       "      <td>0</td>\n",
       "      <td>0</td>\n",
       "      <td>1</td>\n",
       "      <td>1</td>\n",
       "      <td>0.00</td>\n",
       "      <td>589.200</td>\n",
       "    </tr>\n",
       "    <tr>\n",
       "      <th>財政系</th>\n",
       "      <td>1.0</td>\n",
       "      <td>1.5</td>\n",
       "      <td>0.0</td>\n",
       "      <td>1.50</td>\n",
       "      <td>0</td>\n",
       "      <td>0</td>\n",
       "      <td>0</td>\n",
       "      <td>0</td>\n",
       "      <td>0</td>\n",
       "      <td>0.00</td>\n",
       "      <td>350.350</td>\n",
       "    </tr>\n",
       "    <tr>\n",
       "      <th>金融系</th>\n",
       "      <td>1.0</td>\n",
       "      <td>1.5</td>\n",
       "      <td>0.0</td>\n",
       "      <td>2.00</td>\n",
       "      <td>0</td>\n",
       "      <td>0</td>\n",
       "      <td>0</td>\n",
       "      <td>0</td>\n",
       "      <td>0</td>\n",
       "      <td>0.00</td>\n",
       "      <td>398.600</td>\n",
       "    </tr>\n",
       "    <tr>\n",
       "      <th>國貿系</th>\n",
       "      <td>1.5</td>\n",
       "      <td>2.0</td>\n",
       "      <td>0.0</td>\n",
       "      <td>2.00</td>\n",
       "      <td>0</td>\n",
       "      <td>0</td>\n",
       "      <td>0</td>\n",
       "      <td>0</td>\n",
       "      <td>0</td>\n",
       "      <td>0.00</td>\n",
       "      <td>481.550</td>\n",
       "    </tr>\n",
       "    <tr>\n",
       "      <th>會計系</th>\n",
       "      <td>1.5</td>\n",
       "      <td>2.0</td>\n",
       "      <td>0.0</td>\n",
       "      <td>2.00</td>\n",
       "      <td>0</td>\n",
       "      <td>0</td>\n",
       "      <td>0</td>\n",
       "      <td>1</td>\n",
       "      <td>1</td>\n",
       "      <td>0.00</td>\n",
       "      <td>642.450</td>\n",
       "    </tr>\n",
       "    <tr>\n",
       "      <th>法律系</th>\n",
       "      <td>1.0</td>\n",
       "      <td>2.0</td>\n",
       "      <td>0.0</td>\n",
       "      <td>1.00</td>\n",
       "      <td>0</td>\n",
       "      <td>0</td>\n",
       "      <td>0</td>\n",
       "      <td>1</td>\n",
       "      <td>0</td>\n",
       "      <td>1.00</td>\n",
       "      <td>508.900</td>\n",
       "    </tr>\n",
       "    <tr>\n",
       "      <th>公行系</th>\n",
       "      <td>1.0</td>\n",
       "      <td>1.5</td>\n",
       "      <td>0.0</td>\n",
       "      <td>1.25</td>\n",
       "      <td>0</td>\n",
       "      <td>0</td>\n",
       "      <td>0</td>\n",
       "      <td>0</td>\n",
       "      <td>0</td>\n",
       "      <td>1.25</td>\n",
       "      <td>436.975</td>\n",
       "    </tr>\n",
       "    <tr>\n",
       "      <th>應數系</th>\n",
       "      <td>1.0</td>\n",
       "      <td>1.0</td>\n",
       "      <td>1.5</td>\n",
       "      <td>0.00</td>\n",
       "      <td>1</td>\n",
       "      <td>1</td>\n",
       "      <td>0</td>\n",
       "      <td>0</td>\n",
       "      <td>0</td>\n",
       "      <td>0.00</td>\n",
       "      <td>461.300</td>\n",
       "    </tr>\n",
       "    <tr>\n",
       "      <th>教育系</th>\n",
       "      <td>1.5</td>\n",
       "      <td>2.0</td>\n",
       "      <td>0.0</td>\n",
       "      <td>1.25</td>\n",
       "      <td>0</td>\n",
       "      <td>0</td>\n",
       "      <td>0</td>\n",
       "      <td>1</td>\n",
       "      <td>1</td>\n",
       "      <td>0.00</td>\n",
       "      <td>570.075</td>\n",
       "    </tr>\n",
       "  </tbody>\n",
       "</table>\n",
       "</div>"
      ],
      "text/plain": [
       "      國文   英文   數甲    數乙  物理  化學  生物  歷史  地理    公民     加權分數\n",
       "土語系  2.0  2.0  0.0  1.00   0   0   0   1   1  0.00  589.200\n",
       "財政系  1.0  1.5  0.0  1.50   0   0   0   0   0  0.00  350.350\n",
       "金融系  1.0  1.5  0.0  2.00   0   0   0   0   0  0.00  398.600\n",
       "國貿系  1.5  2.0  0.0  2.00   0   0   0   0   0  0.00  481.550\n",
       "會計系  1.5  2.0  0.0  2.00   0   0   0   1   1  0.00  642.450\n",
       "法律系  1.0  2.0  0.0  1.00   0   0   0   1   0  1.00  508.900\n",
       "公行系  1.0  1.5  0.0  1.25   0   0   0   0   0  1.25  436.975\n",
       "應數系  1.0  1.0  1.5  0.00   1   1   0   0   0  0.00  461.300\n",
       "教育系  1.5  2.0  0.0  1.25   0   0   0   1   1  0.00  570.075"
      ]
     },
     "execution_count": 19,
     "metadata": {},
     "output_type": "execute_result"
    }
   ],
   "source": [
    "sum = np.dot(weight,score)\n",
    "sum_table = pd.DataFrame(sum,columns=['加權分數'],index=['土語系','財政系','金融系','國貿系','會計系','法律系','公行系' ,'應數系','教育系'])\n",
    "table = pd.concat([subject,sum_table],axis=1)\n",
    "table"
   ]
  },
  {
   "cell_type": "code",
   "execution_count": null,
   "metadata": {},
   "outputs": [],
   "source": []
  }
 ],
 "metadata": {
  "kernelspec": {
   "display_name": "Python 3",
   "language": "python",
   "name": "python3"
  },
  "language_info": {
   "codemirror_mode": {
    "name": "ipython",
    "version": 3
   },
   "file_extension": ".py",
   "mimetype": "text/x-python",
   "name": "python",
   "nbconvert_exporter": "python",
   "pygments_lexer": "ipython3",
   "version": "3.7.3"
  }
 },
 "nbformat": 4,
 "nbformat_minor": 2
}
