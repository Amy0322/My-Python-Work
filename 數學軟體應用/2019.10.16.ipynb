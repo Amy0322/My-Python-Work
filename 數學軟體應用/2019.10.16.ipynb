{
 "cells": [
  {
   "cell_type": "code",
   "execution_count": 1,
   "metadata": {},
   "outputs": [
    {
     "name": "stderr",
     "output_type": "stream",
     "text": [
      "D:\\Anaconda\\lib\\importlib\\_bootstrap.py:219: RuntimeWarning: numpy.ufunc size changed, may indicate binary incompatibility. Expected 192 from C header, got 216 from PyObject\n",
      "  return f(*args, **kwds)\n"
     ]
    }
   ],
   "source": [
    "%matplotlib inline\n",
    "\n",
    "import numpy as np\n",
    "import matplotlib.pyplot as plt\n",
    "import pandas as pd"
   ]
  },
  {
   "cell_type": "code",
   "execution_count": 2,
   "metadata": {},
   "outputs": [
    {
     "data": {
      "text/plain": [
       "'拍拍'"
      ]
     },
     "execution_count": 2,
     "metadata": {},
     "output_type": "execute_result"
    }
   ],
   "source": [
    "st = \"拍拍\"\n",
    "st"
   ]
  },
  {
   "cell_type": "code",
   "execution_count": 4,
   "metadata": {},
   "outputs": [
    {
     "name": "stdout",
     "output_type": "stream",
     "text": [
      "拍拍\n"
     ]
    }
   ],
   "source": [
    "print(st)"
   ]
  },
  {
   "cell_type": "code",
   "execution_count": 5,
   "metadata": {},
   "outputs": [
    {
     "data": {
      "text/plain": [
       "2"
      ]
     },
     "execution_count": 5,
     "metadata": {},
     "output_type": "execute_result"
    }
   ],
   "source": [
    "st.count('拍')"
   ]
  },
  {
   "cell_type": "code",
   "execution_count": 6,
   "metadata": {},
   "outputs": [],
   "source": [
    "#定義模組card\n",
    "class card:\n",
    "    suit = 3\n",
    "    rank = 5"
   ]
  },
  {
   "cell_type": "code",
   "execution_count": 7,
   "metadata": {},
   "outputs": [],
   "source": [
    "card01 = card()"
   ]
  },
  {
   "cell_type": "code",
   "execution_count": 8,
   "metadata": {},
   "outputs": [
    {
     "data": {
      "text/plain": [
       "3"
      ]
     },
     "execution_count": 8,
     "metadata": {},
     "output_type": "execute_result"
    }
   ],
   "source": [
    "card01.suit"
   ]
  },
  {
   "cell_type": "code",
   "execution_count": 9,
   "metadata": {},
   "outputs": [
    {
     "data": {
      "text/plain": [
       "2"
      ]
     },
     "execution_count": 9,
     "metadata": {},
     "output_type": "execute_result"
    }
   ],
   "source": [
    "card01.suit = 2\n",
    "card01.suit"
   ]
  },
  {
   "cell_type": "code",
   "execution_count": 10,
   "metadata": {},
   "outputs": [
    {
     "data": {
      "text/plain": [
       "__main__.card"
      ]
     },
     "execution_count": 10,
     "metadata": {},
     "output_type": "execute_result"
    }
   ],
   "source": [
    "#資料型態類別\n",
    "type(card01)"
   ]
  },
  {
   "cell_type": "markdown",
   "metadata": {},
   "source": [
    "### 特別method\n",
    "    __init__"
   ]
  },
  {
   "cell_type": "code",
   "execution_count": 11,
   "metadata": {},
   "outputs": [],
   "source": [
    "#class名稱第一字常大寫\n",
    "class Card:\n",
    "    def __init__(self,s,r):\n",
    "        self.suit = s\n",
    "        self.rank = r"
   ]
  },
  {
   "cell_type": "code",
   "execution_count": 12,
   "metadata": {},
   "outputs": [],
   "source": [
    "card01 = Card(2,10)"
   ]
  },
  {
   "cell_type": "code",
   "execution_count": 13,
   "metadata": {},
   "outputs": [
    {
     "data": {
      "text/plain": [
       "2"
      ]
     },
     "execution_count": 13,
     "metadata": {},
     "output_type": "execute_result"
    }
   ],
   "source": [
    "card01.suit"
   ]
  },
  {
   "cell_type": "code",
   "execution_count": 14,
   "metadata": {},
   "outputs": [
    {
     "data": {
      "text/plain": [
       "10"
      ]
     },
     "execution_count": 14,
     "metadata": {},
     "output_type": "execute_result"
    }
   ],
   "source": [
    "card01.rank"
   ]
  },
  {
   "cell_type": "code",
   "execution_count": 15,
   "metadata": {},
   "outputs": [
    {
     "data": {
      "text/plain": [
       "<__main__.Card at 0x1f040f80f60>"
      ]
     },
     "execution_count": 15,
     "metadata": {},
     "output_type": "execute_result"
    }
   ],
   "source": [
    "card01"
   ]
  },
  {
   "cell_type": "code",
   "execution_count": 18,
   "metadata": {},
   "outputs": [],
   "source": [
    "class Card:\n",
    "    SUITs = [\"黑桃\",'紅心','菱形','梅花']\n",
    "    RANKs = ['A', '1', '2', '3', '4', '5', '6', '7', '8', '9', '10', 'J', 'Q', 'K']\n",
    "    \n",
    "    def __init__(self,s,r):\n",
    "        self.suit = s\n",
    "        self.rank = r\n",
    "        \n",
    "    def show(self):\n",
    "        thecard = self.SUITs[self.suit]+self.RANKs[self.rank]\n",
    "        print(thecard)"
   ]
  },
  {
   "cell_type": "code",
   "execution_count": 19,
   "metadata": {},
   "outputs": [],
   "source": [
    "card01 = Card(1,8)\n",
    "card02 = Card(3,10)"
   ]
  },
  {
   "cell_type": "code",
   "execution_count": 20,
   "metadata": {},
   "outputs": [
    {
     "name": "stdout",
     "output_type": "stream",
     "text": [
      "梅花10\n"
     ]
    }
   ],
   "source": [
    "card02.show()"
   ]
  },
  {
   "cell_type": "code",
   "execution_count": 21,
   "metadata": {},
   "outputs": [],
   "source": [
    "class Card:\n",
    "    SUITs = [\"黑桃\",'紅心','菱形','梅花']\n",
    "    RANKs = ['A', '1', '2', '3', '4', '5', '6', '7', '8', '9', '10', 'J', 'Q', 'K']\n",
    "    \n",
    "    def __init__(self,s,r):\n",
    "        self.suit = s\n",
    "        self.rank = r\n",
    "        \n",
    "    def __repr__(self):\n",
    "        thecard = self.SUITs[self.suit]+self.RANKs[self.rank]\n",
    "        return thecard"
   ]
  },
  {
   "cell_type": "code",
   "execution_count": 24,
   "metadata": {},
   "outputs": [],
   "source": [
    "card01 = Card(0,7)\n",
    "card02 = Card(2,11)"
   ]
  },
  {
   "cell_type": "code",
   "execution_count": 25,
   "metadata": {},
   "outputs": [
    {
     "data": {
      "text/plain": [
       "菱形J"
      ]
     },
     "execution_count": 25,
     "metadata": {},
     "output_type": "execute_result"
    }
   ],
   "source": [
    "card02"
   ]
  },
  {
   "cell_type": "code",
   "execution_count": 26,
   "metadata": {},
   "outputs": [
    {
     "name": "stdout",
     "output_type": "stream",
     "text": [
      "菱形J\n"
     ]
    }
   ],
   "source": [
    "print(card02)"
   ]
  },
  {
   "cell_type": "markdown",
   "metadata": {},
   "source": [
    "## Python的檔案功能"
   ]
  },
  {
   "cell_type": "code",
   "execution_count": 27,
   "metadata": {},
   "outputs": [],
   "source": [
    "mydic = {'apple':'蘋果','orange':'橘子','banana':'香蕉'}"
   ]
  },
  {
   "cell_type": "code",
   "execution_count": 29,
   "metadata": {},
   "outputs": [
    {
     "data": {
      "text/plain": [
       "dict_keys(['apple', 'orange', 'banana'])"
      ]
     },
     "execution_count": 29,
     "metadata": {},
     "output_type": "execute_result"
    }
   ],
   "source": [
    "mydic.keys()"
   ]
  },
  {
   "cell_type": "code",
   "execution_count": 30,
   "metadata": {},
   "outputs": [
    {
     "data": {
      "text/plain": [
       "dict_values(['蘋果', '橘子', '香蕉'])"
      ]
     },
     "execution_count": 30,
     "metadata": {},
     "output_type": "execute_result"
    }
   ],
   "source": [
    "mydic.values()"
   ]
  },
  {
   "cell_type": "code",
   "execution_count": 32,
   "metadata": {},
   "outputs": [
    {
     "name": "stdout",
     "output_type": "stream",
     "text": [
      "apple,蘋果\n",
      "orange,橘子\n",
      "banana,香蕉\n"
     ]
    }
   ],
   "source": [
    "for eng in mydic.keys():\n",
    "    print (eng+','+mydic[eng])"
   ]
  },
  {
   "cell_type": "code",
   "execution_count": 33,
   "metadata": {},
   "outputs": [
    {
     "name": "stdout",
     "output_type": "stream",
     "text": [
      "apple,蘋果\n",
      "orange,橘子\n",
      "banana,香蕉\n"
     ]
    }
   ],
   "source": [
    "for eng in mydic.keys():\n",
    "    chi = mydic[eng]\n",
    "    print(f'{eng},{chi}')"
   ]
  },
  {
   "cell_type": "code",
   "execution_count": 34,
   "metadata": {},
   "outputs": [
    {
     "name": "stdout",
     "output_type": "stream",
     "text": [
      "apple,蘋果\n",
      "orange,橘子\n",
      "banana,香蕉\n"
     ]
    }
   ],
   "source": [
    "for eng in mydic.keys():\n",
    "    spam = [eng,mydic[eng]]\n",
    "    print(','.join(spam))"
   ]
  },
  {
   "cell_type": "markdown",
   "metadata": {},
   "source": [
    "## 存檔"
   ]
  },
  {
   "cell_type": "code",
   "execution_count": 37,
   "metadata": {},
   "outputs": [],
   "source": [
    "f = open('mydic.csv', 'w')"
   ]
  },
  {
   "cell_type": "code",
   "execution_count": 38,
   "metadata": {},
   "outputs": [],
   "source": [
    "for eng in mydic.keys():\n",
    "    print (eng+','+mydic[eng],file=f)"
   ]
  },
  {
   "cell_type": "code",
   "execution_count": 39,
   "metadata": {},
   "outputs": [],
   "source": [
    "f.close()"
   ]
  },
  {
   "cell_type": "code",
   "execution_count": 40,
   "metadata": {},
   "outputs": [
    {
     "name": "stdout",
     "output_type": "stream",
     "text": [
      " 磁碟區 C 中的磁碟是 OS\n",
      " 磁碟區序號:  B69C-0A6A\n",
      "\n",
      " C:\\Users\\USER\\python 的目錄\n",
      "\n",
      "2019/10/16  上午 10:24    <DIR>          .\n",
      "2019/10/16  上午 10:24    <DIR>          ..\n",
      "2019/10/16  上午 09:13    <DIR>          .ipynb_checkpoints\n",
      "2019/10/15  下午 11:26            11,399 2019.09.25.ipynb\n",
      "2019/10/02  上午 10:14             4,597 2019.10.02.ipynb\n",
      "2019/10/12  下午 10:46            25,867 2019.10.09.ipynb\n",
      "2019/10/16  上午 10:23             9,201 2019.10.16.ipynb\n",
      "2019/10/07  下午 01:16            60,725 2019.9.18.ipynb\n",
      "2019/07/31  下午 11:13           424,295 Autoencoder and VAE.ipynb\n",
      "2019/07/29  下午 03:10            16,521 CNN.ipynb\n",
      "2019/07/31  下午 05:16            17,862 Model functional API.ipynb\n",
      "2019/10/16  上午 10:24                38 mydic.csv\n",
      "2019/07/29  下午 09:14            23,324 NN.ipynb\n",
      "2019/10/02  上午 10:00               434 poem.py\n",
      "2019/07/29  下午 03:47            12,693 RNN.ipynb\n",
      "2019/07/29  下午 10:29            16,102 Transfer learning-CNN.ipynb\n",
      "2019/07/31  下午 03:43            17,422 transfer learning-NN.ipynb\n",
      "2019/07/31  下午 05:55            28,213 自定義的不具可訓練權重之神經網路層.ipynb\n",
      "2019/09/15  上午 12:03            23,995 作業1.ipynb\n",
      "2019/09/22  下午 04:51             2,779 作業2.ipynb\n",
      "2019/10/02  上午 12:04             5,940 作業3.ipynb\n",
      "2019/10/07  下午 11:40             3,452 作業4.ipynb\n",
      "2019/10/16  上午 12:15            22,389 作業5.ipynb\n",
      "              20 個檔案         727,248 位元組\n",
      "               3 個目錄  15,544,881,152 位元組可用\n"
     ]
    }
   ],
   "source": [
    "%ls"
   ]
  },
  {
   "cell_type": "code",
   "execution_count": 41,
   "metadata": {},
   "outputs": [
    {
     "name": "stdout",
     "output_type": "stream",
     "text": [
      "apple,蘋果\n",
      "orange,橘子\n",
      "banana,香蕉\n"
     ]
    }
   ],
   "source": [
    "!type mydic.csv"
   ]
  },
  {
   "cell_type": "markdown",
   "metadata": {},
   "source": [
    "## 讀回我們存的檔案"
   ]
  },
  {
   "cell_type": "code",
   "execution_count": 42,
   "metadata": {},
   "outputs": [],
   "source": [
    "f = open('mydic.csv','r')"
   ]
  },
  {
   "cell_type": "code",
   "execution_count": 43,
   "metadata": {},
   "outputs": [],
   "source": [
    "mydata = f.readlines()"
   ]
  },
  {
   "cell_type": "code",
   "execution_count": 44,
   "metadata": {},
   "outputs": [],
   "source": [
    "f.close()"
   ]
  },
  {
   "cell_type": "code",
   "execution_count": 45,
   "metadata": {},
   "outputs": [
    {
     "data": {
      "text/plain": [
       "['apple,蘋果\\n', 'orange,橘子\\n', 'banana,香蕉\\n']"
      ]
     },
     "execution_count": 45,
     "metadata": {},
     "output_type": "execute_result"
    }
   ],
   "source": [
    "mydata"
   ]
  },
  {
   "cell_type": "code",
   "execution_count": 46,
   "metadata": {},
   "outputs": [
    {
     "name": "stdout",
     "output_type": "stream",
     "text": [
      "apple,蘋果\n",
      "\n",
      "orange,橘子\n",
      "\n",
      "banana,香蕉\n",
      "\n"
     ]
    }
   ],
   "source": [
    "for line in mydata:\n",
    "    print(line)"
   ]
  },
  {
   "cell_type": "code",
   "execution_count": 47,
   "metadata": {},
   "outputs": [],
   "source": [
    "line = mydata[1]"
   ]
  },
  {
   "cell_type": "code",
   "execution_count": 48,
   "metadata": {},
   "outputs": [],
   "source": [
    "#將\\n刪除\n",
    "line_new = line.rstrip('\\n')"
   ]
  },
  {
   "cell_type": "code",
   "execution_count": 49,
   "metadata": {},
   "outputs": [
    {
     "data": {
      "text/plain": [
       "['orange', '橘子']"
      ]
     },
     "execution_count": 49,
     "metadata": {},
     "output_type": "execute_result"
    }
   ],
   "source": [
    "line_new.split(',')"
   ]
  },
  {
   "cell_type": "code",
   "execution_count": 64,
   "metadata": {},
   "outputs": [],
   "source": [
    "newdic = {}"
   ]
  },
  {
   "cell_type": "code",
   "execution_count": 65,
   "metadata": {},
   "outputs": [],
   "source": [
    "for line in mydata:\n",
    "    line_new = line.rstrip('\\n')\n",
    "    my_list = line_new.split(',')\n",
    "    eng,chi=my_list\n",
    "    newdic[eng]=chi"
   ]
  },
  {
   "cell_type": "code",
   "execution_count": 66,
   "metadata": {},
   "outputs": [
    {
     "data": {
      "text/plain": [
       "{'apple': '蘋果', 'orange': '橘子', 'banana': '香蕉'}"
      ]
     },
     "execution_count": 66,
     "metadata": {},
     "output_type": "execute_result"
    }
   ],
   "source": [
    "newdic"
   ]
  },
  {
   "cell_type": "markdown",
   "metadata": {},
   "source": [
    "## Python的Pickle(存任何python上的東西)存取法"
   ]
  },
  {
   "cell_type": "code",
   "execution_count": 67,
   "metadata": {},
   "outputs": [],
   "source": [
    "import pickle"
   ]
  },
  {
   "cell_type": "code",
   "execution_count": 68,
   "metadata": {},
   "outputs": [],
   "source": [
    "#w:存文字檔 wb:存二進位檔(圖片等)\n",
    "f = open('mydic.pickle','wb')\n",
    "pickle.dump(mydic,f)"
   ]
  },
  {
   "cell_type": "code",
   "execution_count": 69,
   "metadata": {},
   "outputs": [],
   "source": [
    "f.close()"
   ]
  },
  {
   "cell_type": "code",
   "execution_count": 70,
   "metadata": {},
   "outputs": [
    {
     "name": "stdout",
     "output_type": "stream",
     "text": [
      " 磁碟區 C 中的磁碟是 OS\n",
      " 磁碟區序號:  B69C-0A6A\n",
      "\n",
      " C:\\Users\\USER\\python 的目錄\n",
      "\n",
      "2019/10/16  上午 10:57    <DIR>          .\n",
      "2019/10/16  上午 10:57    <DIR>          ..\n",
      "2019/10/16  上午 09:13    <DIR>          .ipynb_checkpoints\n",
      "2019/10/15  下午 11:26            11,399 2019.09.25.ipynb\n",
      "2019/10/02  上午 10:14             4,597 2019.10.02.ipynb\n",
      "2019/10/12  下午 10:46            25,867 2019.10.09.ipynb\n",
      "2019/10/16  上午 10:57            15,391 2019.10.16.ipynb\n",
      "2019/10/07  下午 01:16            60,725 2019.9.18.ipynb\n",
      "2019/07/31  下午 11:13           424,295 Autoencoder and VAE.ipynb\n",
      "2019/07/29  下午 03:10            16,521 CNN.ipynb\n",
      "2019/07/31  下午 05:16            17,862 Model functional API.ipynb\n",
      "2019/10/16  上午 10:24                38 mydic.csv\n",
      "2019/10/16  上午 10:57                85 mydic.pickle\n",
      "2019/07/29  下午 09:14            23,324 NN.ipynb\n",
      "2019/10/02  上午 10:00               434 poem.py\n",
      "2019/07/29  下午 03:47            12,693 RNN.ipynb\n",
      "2019/07/29  下午 10:29            16,102 Transfer learning-CNN.ipynb\n",
      "2019/07/31  下午 03:43            17,422 transfer learning-NN.ipynb\n",
      "2019/07/31  下午 05:55            28,213 自定義的不具可訓練權重之神經網路層.ipynb\n",
      "2019/09/15  上午 12:03            23,995 作業1.ipynb\n",
      "2019/09/22  下午 04:51             2,779 作業2.ipynb\n",
      "2019/10/02  上午 12:04             5,940 作業3.ipynb\n",
      "2019/10/07  下午 11:40             3,452 作業4.ipynb\n",
      "2019/10/16  上午 12:15            22,389 作業5.ipynb\n",
      "              21 個檔案         733,523 位元組\n",
      "               3 個目錄  15,517,978,624 位元組可用\n"
     ]
    }
   ],
   "source": [
    "%ls"
   ]
  },
  {
   "cell_type": "code",
   "execution_count": 71,
   "metadata": {},
   "outputs": [],
   "source": [
    "f = open('mydic.pickle','rb')"
   ]
  },
  {
   "cell_type": "code",
   "execution_count": 72,
   "metadata": {},
   "outputs": [],
   "source": [
    "egg = pickle.load(f)"
   ]
  },
  {
   "cell_type": "code",
   "execution_count": 73,
   "metadata": {},
   "outputs": [],
   "source": [
    "f.close()"
   ]
  },
  {
   "cell_type": "code",
   "execution_count": 74,
   "metadata": {},
   "outputs": [
    {
     "data": {
      "text/plain": [
       "{'apple': '蘋果', 'orange': '橘子', 'banana': '香蕉'}"
      ]
     },
     "execution_count": 74,
     "metadata": {},
     "output_type": "execute_result"
    }
   ],
   "source": [
    "egg"
   ]
  },
  {
   "cell_type": "markdown",
   "metadata": {},
   "source": [
    "## 隨意弄個檔案"
   ]
  },
  {
   "cell_type": "code",
   "execution_count": 79,
   "metadata": {},
   "outputs": [
    {
     "name": "stdout",
     "output_type": "stream",
     "text": [
      "Overwriting test.txt\n"
     ]
    }
   ],
   "source": [
    "%%writefile 'test.txt'\n",
    "sky rain\n",
    "air  tree dog"
   ]
  },
  {
   "cell_type": "code",
   "execution_count": 80,
   "metadata": {},
   "outputs": [
    {
     "name": "stdout",
     "output_type": "stream",
     "text": [
      " 磁碟區 C 中的磁碟是 OS\n",
      " 磁碟區序號:  B69C-0A6A\n",
      "\n",
      " C:\\Users\\USER\\python 的目錄\n",
      "\n",
      "2019/10/16  上午 11:23    <DIR>          .\n",
      "2019/10/16  上午 11:23    <DIR>          ..\n",
      "2019/10/16  上午 09:13    <DIR>          .ipynb_checkpoints\n",
      "2019/10/15  下午 11:26            11,399 2019.09.25.ipynb\n",
      "2019/10/02  上午 10:14             4,597 2019.10.02.ipynb\n",
      "2019/10/12  下午 10:46            25,867 2019.10.09.ipynb\n",
      "2019/10/16  上午 11:23            21,389 2019.10.16.ipynb\n",
      "2019/10/07  下午 01:16            60,725 2019.9.18.ipynb\n",
      "2019/07/31  下午 11:13           424,295 Autoencoder and VAE.ipynb\n",
      "2019/07/29  下午 03:10            16,521 CNN.ipynb\n",
      "2019/07/31  下午 05:16            17,862 Model functional API.ipynb\n",
      "2019/10/16  上午 10:24                38 mydic.csv\n",
      "2019/10/16  上午 10:57                85 mydic.pickle\n",
      "2019/07/29  下午 09:14            23,324 NN.ipynb\n",
      "2019/10/02  上午 10:00               434 poem.py\n",
      "2019/07/29  下午 03:47            12,693 RNN.ipynb\n",
      "2019/10/16  上午 11:30                25 test.txt\n",
      "2019/07/29  下午 10:29            16,102 Transfer learning-CNN.ipynb\n",
      "2019/07/31  下午 03:43            17,422 transfer learning-NN.ipynb\n",
      "2019/07/31  下午 05:55            28,213 自定義的不具可訓練權重之神經網路層.ipynb\n",
      "2019/09/15  上午 12:03            23,995 作業1.ipynb\n",
      "2019/09/22  下午 04:51             2,779 作業2.ipynb\n",
      "2019/10/02  上午 12:04             5,940 作業3.ipynb\n",
      "2019/10/07  下午 11:40             3,452 作業4.ipynb\n",
      "2019/10/16  上午 12:15            22,389 作業5.ipynb\n",
      "              22 個檔案         739,546 位元組\n",
      "               3 個目錄  15,446,118,400 位元組可用\n"
     ]
    }
   ],
   "source": [
    "%ls"
   ]
  },
  {
   "cell_type": "code",
   "execution_count": 81,
   "metadata": {},
   "outputs": [
    {
     "name": "stdout",
     "output_type": "stream",
     "text": [
      "sky rain\n",
      "air  tree dog\n"
     ]
    }
   ],
   "source": [
    "!type test.txt"
   ]
  },
  {
   "cell_type": "code",
   "execution_count": 85,
   "metadata": {},
   "outputs": [],
   "source": [
    "f = open('test.txt','r')"
   ]
  },
  {
   "cell_type": "code",
   "execution_count": 86,
   "metadata": {},
   "outputs": [],
   "source": [
    "ham = f.readlines()"
   ]
  },
  {
   "cell_type": "code",
   "execution_count": 87,
   "metadata": {},
   "outputs": [],
   "source": [
    "f.close()"
   ]
  },
  {
   "cell_type": "code",
   "execution_count": 88,
   "metadata": {},
   "outputs": [
    {
     "data": {
      "text/plain": [
       "['sky rain\\n', 'air  tree dog\\n']"
      ]
     },
     "execution_count": 88,
     "metadata": {},
     "output_type": "execute_result"
    }
   ],
   "source": [
    "ham"
   ]
  },
  {
   "cell_type": "code",
   "execution_count": 89,
   "metadata": {},
   "outputs": [],
   "source": [
    "line = ham[1]"
   ]
  },
  {
   "cell_type": "code",
   "execution_count": 90,
   "metadata": {},
   "outputs": [
    {
     "data": {
      "text/plain": [
       "'air  tree dog\\n'"
      ]
     },
     "execution_count": 90,
     "metadata": {},
     "output_type": "execute_result"
    }
   ],
   "source": [
    "line"
   ]
  },
  {
   "cell_type": "code",
   "execution_count": 91,
   "metadata": {},
   "outputs": [
    {
     "data": {
      "text/plain": [
       "['air', '', 'tree', 'dog\\n']"
      ]
     },
     "execution_count": 91,
     "metadata": {},
     "output_type": "execute_result"
    }
   ],
   "source": [
    "line.split(' ')"
   ]
  },
  {
   "cell_type": "code",
   "execution_count": 92,
   "metadata": {},
   "outputs": [],
   "source": [
    "egg = line.rstrip('\\n').split(' ')"
   ]
  },
  {
   "cell_type": "code",
   "execution_count": 93,
   "metadata": {},
   "outputs": [
    {
     "data": {
      "text/plain": [
       "['air', '', 'tree', 'dog']"
      ]
     },
     "execution_count": 93,
     "metadata": {},
     "output_type": "execute_result"
    }
   ],
   "source": [
    "egg"
   ]
  },
  {
   "cell_type": "code",
   "execution_count": 95,
   "metadata": {},
   "outputs": [
    {
     "data": {
      "text/plain": [
       "['air', 'tree', 'dog']"
      ]
     },
     "execution_count": 95,
     "metadata": {},
     "output_type": "execute_result"
    }
   ],
   "source": [
    "list(filter(lambda w:(w !=''),egg))"
   ]
  },
  {
   "cell_type": "code",
   "execution_count": 96,
   "metadata": {},
   "outputs": [
    {
     "data": {
      "text/plain": [
       "'air  tree dog\\n'"
      ]
     },
     "execution_count": 96,
     "metadata": {},
     "output_type": "execute_result"
    }
   ],
   "source": [
    "line"
   ]
  },
  {
   "cell_type": "code",
   "execution_count": 97,
   "metadata": {},
   "outputs": [
    {
     "data": {
      "text/plain": [
       "['air', 'tree', 'dog']"
      ]
     },
     "execution_count": 97,
     "metadata": {},
     "output_type": "execute_result"
    }
   ],
   "source": [
    "line.rstrip('\\n').split()"
   ]
  },
  {
   "cell_type": "code",
   "execution_count": 99,
   "metadata": {},
   "outputs": [
    {
     "data": {
      "text/plain": [
       "['sky rain\\n', 'air  tree dog\\n']"
      ]
     },
     "execution_count": 99,
     "metadata": {},
     "output_type": "execute_result"
    }
   ],
   "source": [
    "ham"
   ]
  },
  {
   "cell_type": "code",
   "execution_count": 101,
   "metadata": {},
   "outputs": [],
   "source": [
    "words = []\n",
    "\n",
    "for line in spam:\n",
    "    newlist = line.rstrip('\\n').split()\n",
    "    words = words + newlist"
   ]
  },
  {
   "cell_type": "code",
   "execution_count": 102,
   "metadata": {},
   "outputs": [
    {
     "data": {
      "text/plain": [
       "['banana', '香蕉']"
      ]
     },
     "execution_count": 102,
     "metadata": {},
     "output_type": "execute_result"
    }
   ],
   "source": [
    "words"
   ]
  },
  {
   "cell_type": "code",
   "execution_count": null,
   "metadata": {},
   "outputs": [],
   "source": []
  }
 ],
 "metadata": {
  "kernelspec": {
   "display_name": "Python 3",
   "language": "python",
   "name": "python3"
  },
  "language_info": {
   "codemirror_mode": {
    "name": "ipython",
    "version": 3
   },
   "file_extension": ".py",
   "mimetype": "text/x-python",
   "name": "python",
   "nbconvert_exporter": "python",
   "pygments_lexer": "ipython3",
   "version": "3.7.3"
  }
 },
 "nbformat": 4,
 "nbformat_minor": 2
}
