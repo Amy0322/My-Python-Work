{
 "cells": [
  {
   "cell_type": "markdown",
   "metadata": {},
   "source": [
    "# Python網頁框架\n",
    "* Django(大型專案)\n",
    "* Flask(小巧)"
   ]
  },
  {
   "cell_type": "code",
   "execution_count": 7,
   "metadata": {},
   "outputs": [
    {
     "name": "stdout",
     "output_type": "stream",
     "text": [
      "Collecting streamlit\n",
      "  Using cached https://files.pythonhosted.org/packages/37/e2/c92db0c7e99f33f2e06d7a7fbd5237dfbb3272ee4ecaedc8c064a6c305a8/streamlit-0.51.0-py2.py3-none-any.whl\n",
      "Requirement already satisfied: pandas>=0.21.0 in d:\\anaconda\\lib\\site-packages (from streamlit) (0.24.2)\n",
      "Requirement already satisfied: tornado<6.0,>=5.0 in d:\\anaconda\\lib\\site-packages (from streamlit) (5.1.1)\n",
      "Requirement already satisfied: altair>=3.2.0 in d:\\anaconda\\lib\\site-packages (from streamlit) (4.0.0)\n",
      "Requirement already satisfied: protobuf>=3.6.0 in d:\\anaconda\\lib\\site-packages (from streamlit) (3.8.0)\n",
      "Requirement already satisfied: tzlocal in d:\\anaconda\\lib\\site-packages (from streamlit) (2.0.0)\n",
      "Requirement already satisfied: validators in d:\\anaconda\\lib\\site-packages (from streamlit) (0.14.1)\n",
      "Requirement already satisfied: boto3 in d:\\anaconda\\lib\\site-packages (from streamlit) (1.10.41)\n",
      "Requirement already satisfied: toml in d:\\anaconda\\lib\\site-packages (from streamlit) (0.10.0)\n",
      "Requirement already satisfied: astor in d:\\anaconda\\lib\\site-packages (from streamlit) (0.7.1)\n",
      "Requirement already satisfied: click>=7.0 in d:\\anaconda\\lib\\site-packages (from streamlit) (7.0)\n",
      "Requirement already satisfied: future in d:\\anaconda\\lib\\site-packages (from streamlit) (0.17.1)\n",
      "Collecting pillow>=6.2.0 (from streamlit)\n",
      "  Using cached https://files.pythonhosted.org/packages/70/f4/9dd0b7b0fea09cf4e7a2822031f2157f40d41f0252a89558bdb583e24ef1/Pillow-6.2.1-cp37-cp37m-win_amd64.whl\n",
      "Requirement already satisfied: botocore in d:\\anaconda\\lib\\site-packages (from streamlit) (1.13.41)\n",
      "Requirement already satisfied: requests in d:\\anaconda\\lib\\site-packages (from streamlit) (2.21.0)\n",
      "Collecting enum-compat (from streamlit)\n",
      "  Using cached https://files.pythonhosted.org/packages/55/ae/467bc4509246283bb59746e21a1a2f5a8aecbef56b1fa6eaca78cd438c8b/enum_compat-0.0.3-py3-none-any.whl\n",
      "Requirement already satisfied: base58 in d:\\anaconda\\lib\\site-packages (from streamlit) (1.0.3)\n",
      "Collecting watchdog (from streamlit)\n",
      "Collecting blinker (from streamlit)\n",
      "Requirement already satisfied: numpy in d:\\anaconda\\lib\\site-packages (from streamlit) (1.16.2)\n",
      "Requirement already satisfied: python-dateutil>=2.5.0 in d:\\anaconda\\lib\\site-packages (from pandas>=0.21.0->streamlit) (2.8.0)\n",
      "Requirement already satisfied: pytz>=2011k in d:\\anaconda\\lib\\site-packages (from pandas>=0.21.0->streamlit) (2018.9)\n",
      "Requirement already satisfied: toolz in d:\\anaconda\\lib\\site-packages (from altair>=3.2.0->streamlit) (0.9.0)\n",
      "Requirement already satisfied: jsonschema in d:\\anaconda\\lib\\site-packages (from altair>=3.2.0->streamlit) (3.0.1)\n",
      "Requirement already satisfied: entrypoints in d:\\anaconda\\lib\\site-packages (from altair>=3.2.0->streamlit) (0.3)\n",
      "Requirement already satisfied: jinja2 in d:\\anaconda\\lib\\site-packages (from altair>=3.2.0->streamlit) (2.10)\n",
      "Requirement already satisfied: six>=1.9 in d:\\anaconda\\lib\\site-packages (from protobuf>=3.6.0->streamlit) (1.12.0)\n",
      "Requirement already satisfied: setuptools in d:\\anaconda\\lib\\site-packages (from protobuf>=3.6.0->streamlit) (40.8.0)\n",
      "Requirement already satisfied: decorator>=3.4.0 in d:\\anaconda\\lib\\site-packages (from validators->streamlit) (4.4.0)\n",
      "Requirement already satisfied: s3transfer<0.3.0,>=0.2.0 in d:\\anaconda\\lib\\site-packages (from boto3->streamlit) (0.2.1)\n",
      "Requirement already satisfied: jmespath<1.0.0,>=0.7.1 in d:\\anaconda\\lib\\site-packages (from boto3->streamlit) (0.9.4)\n",
      "Requirement already satisfied: docutils<0.16,>=0.10 in d:\\anaconda\\lib\\site-packages (from botocore->streamlit) (0.14)\n",
      "Requirement already satisfied: urllib3<1.26,>=1.20; python_version >= \"3.4\" in d:\\anaconda\\lib\\site-packages (from botocore->streamlit) (1.24.1)\n",
      "Requirement already satisfied: idna<2.9,>=2.5 in d:\\anaconda\\lib\\site-packages (from requests->streamlit) (2.8)\n",
      "Requirement already satisfied: chardet<3.1.0,>=3.0.2 in d:\\anaconda\\lib\\site-packages (from requests->streamlit) (3.0.4)\n",
      "Requirement already satisfied: certifi>=2017.4.17 in d:\\anaconda\\lib\\site-packages (from requests->streamlit) (2019.3.9)\n",
      "Collecting argh>=0.24.1 (from watchdog->streamlit)\n",
      "  Using cached https://files.pythonhosted.org/packages/06/1c/e667a7126f0b84aaa1c56844337bf0ac12445d1beb9c8a6199a7314944bf/argh-0.26.2-py2.py3-none-any.whl\n",
      "Requirement already satisfied: PyYAML>=3.10 in d:\\anaconda\\lib\\site-packages (from watchdog->streamlit) (5.1)\n",
      "Collecting pathtools>=0.1.1 (from watchdog->streamlit)\n",
      "Requirement already satisfied: attrs>=17.4.0 in d:\\anaconda\\lib\\site-packages (from jsonschema->altair>=3.2.0->streamlit) (19.1.0)\n",
      "Requirement already satisfied: pyrsistent>=0.14.0 in d:\\anaconda\\lib\\site-packages (from jsonschema->altair>=3.2.0->streamlit) (0.14.11)\n",
      "Requirement already satisfied: MarkupSafe>=0.23 in d:\\anaconda\\lib\\site-packages (from jinja2->altair>=3.2.0->streamlit) (1.1.1)\n",
      "Installing collected packages: pillow, enum-compat, argh, pathtools, watchdog, blinker, streamlit\n",
      "  Found existing installation: Pillow 5.4.1\n",
      "    Can't uninstall 'Pillow'. No files were found to uninstall.\n",
      "Successfully installed argh-0.26.2 blinker-1.4 enum-compat-0.0.3 pathtools-0.1.2 pillow-6.2.1 streamlit-0.51.0 watchdog-0.9.0\n"
     ]
    }
   ],
   "source": [
    "!pip install streamlit"
   ]
  },
  {
   "cell_type": "code",
   "execution_count": 12,
   "metadata": {},
   "outputs": [
    {
     "name": "stdout",
     "output_type": "stream",
     "text": [
      "Writing web02.py\n"
     ]
    }
   ],
   "source": [
    "%%writefile web02.py\n",
    "import pandas as pd\n",
    "\n",
    "df = pd.DataFrame({\"A\":[33,99,100],\"B\":[50,31,67]})\n",
    "\n",
    "df"
   ]
  },
  {
   "cell_type": "code",
   "execution_count": 13,
   "metadata": {},
   "outputs": [
    {
     "name": "stderr",
     "output_type": "stream",
     "text": [
      "'cp950' codec can't encode character '\\U0001f44b' in position 4: illegal multibyte sequence\n"
     ]
    }
   ],
   "source": [
    "!streamlit run web02.py"
   ]
  },
  {
   "cell_type": "code",
   "execution_count": null,
   "metadata": {},
   "outputs": [],
   "source": []
  }
 ],
 "metadata": {
  "kernelspec": {
   "display_name": "Python 3",
   "language": "python",
   "name": "python3"
  },
  "language_info": {
   "codemirror_mode": {
    "name": "ipython",
    "version": 3
   },
   "file_extension": ".py",
   "mimetype": "text/x-python",
   "name": "python",
   "nbconvert_exporter": "python",
   "pygments_lexer": "ipython3",
   "version": "3.7.3"
  }
 },
 "nbformat": 4,
 "nbformat_minor": 2
}
