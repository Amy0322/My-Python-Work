{
 "cells": [
  {
   "cell_type": "code",
   "execution_count": 1,
   "metadata": {},
   "outputs": [],
   "source": [
    "%matplotlib inline\n",
    "import numpy as np\n",
    "import matplotlib.pyplot as plt\n",
    "from ipywidgets import interact"
   ]
  },
  {
   "cell_type": "markdown",
   "metadata": {},
   "source": [
    "## 考試加權分數"
   ]
  },
  {
   "cell_type": "code",
   "execution_count": 2,
   "metadata": {},
   "outputs": [],
   "source": [
    "x = ['國文','英文','數甲','數乙','物理','化學','生物','歷史','地理','公民']\n",
    "score = np.zeros(10)\n",
    "y = 0.0\n",
    "weight = {\n",
    "    \"土語系\": [2, 2, 0, 1, 0, 0, 0, 1, 1, 0],\n",
    "    \"財政系\": [1, 1.5, 0, 1.5, 0, 0, 0, 0, 0, 0],\n",
    "    \"金融系\": [1, 1.5, 0, 2, 0, 0, 0, 0, 0, 0],\n",
    "    \"國貿系\": [1.5, 2, 0, 2, 0, 0, 0, 0, 0, 0],\n",
    "    \"會計系\": [1.5, 2, 0, 2, 0, 0, 0, 1, 1, 0],\n",
    "    \"法律系\": [1, 2, 0, 1, 0, 0, 0, 1, 0, 1],\n",
    "    \"公行系\": [1, 1.5, 0, 1.25, 0, 0, 0, 0, 0, 1.25],\n",
    "    \"應數系\": [1, 1, 1.5, 0, 1, 1, 0, 0, 0, 0],\n",
    "    \"教育系\": [1.5, 2, 0, 1.25, 0, 0, 0, 1, 1, 0]\n",
    "}"
   ]
  },
  {
   "cell_type": "code",
   "execution_count": 3,
   "metadata": {},
   "outputs": [
    {
     "name": "stdout",
     "output_type": "stream",
     "text": [
      "請輸入國文分數55\n",
      "請輸入英文分數96\n",
      "請輸入數甲分數14\n",
      "請輸入數乙分數58\n",
      "請輸入物理分數94\n",
      "請輸入化學分數0\n",
      "請輸入生物分數30\n",
      "請輸入歷史分數78\n",
      "請輸入地理分數84\n",
      "請輸入公民分數55\n"
     ]
    },
    {
     "data": {
      "application/vnd.jupyter.widget-view+json": {
       "model_id": "163e40479a804b418f196b5c505405f3",
       "version_major": 2,
       "version_minor": 0
      },
      "text/plain": [
       "interactive(children=(Dropdown(description='系別', options=('土語系', '國貿系', '金融系', '應數系', '教育系', '法律系', '公行系', '會計…"
      ]
     },
     "metadata": {},
     "output_type": "display_data"
    }
   ],
   "source": [
    "for i in range(10):\n",
    "    score[i] = input(\"請輸入{}分數\".format(x[i]))\n",
    "def WG(系別):\n",
    "    y = np.dot(weight[系別],score)\n",
    "    print('選擇{}，加權成績為{:.1f}'.format(系別,y))\n",
    "interact(WG,系別={\"土語系\",\"財政系\",\"金融系\",\"國貿系\",\"會計系\",\"法律系\",\"公行系\",\"應數系\",\"教育系\"});"
   ]
  },
  {
   "cell_type": "markdown",
   "metadata": {},
   "source": [
    "## 登錄成績"
   ]
  },
  {
   "cell_type": "code",
   "execution_count": 2,
   "metadata": {},
   "outputs": [
    {
     "name": "stdout",
     "output_type": "stream",
     "text": [
      "班級總人數:5\n",
      "請輸入分數，並以逗號分開，若無分數請打x:\n",
      "60,x,88,51,98\n",
      "1 號 60 分\n",
      "2 號無分數\n",
      "3 號 88 分\n",
      "4 號 51 分\n",
      "5 號 98 分\n",
      "及格人數: 3 不及格人數: 1\n"
     ]
    }
   ],
   "source": [
    "num = int(input('班級總人數:'))\n",
    "grades = []\n",
    "a = input(\"請輸入分數，並以逗號分開，若無分數請打x:\\n\")\n",
    "grades = a.split(\",\")\n",
    "pass_num=0\n",
    "fail_num=0\n",
    "def sort(s):\n",
    "    if s!=\"x\":\n",
    "        if int(s)>=60:\n",
    "            global pass_num\n",
    "            pass_num=pass_num+1\n",
    "        elif int(s)<60:\n",
    "            global fail_num\n",
    "            fail_num=fail_num+1\n",
    "for number in range(num):\n",
    "    if grades[number]==\"x\":\n",
    "        print(number+1,\"號無分數\")\n",
    "    else:\n",
    "        print(number+1,\"號\",grades[number],\"分\")\n",
    "    sort(grades[number])\n",
    "print('及格人數:',pass_num,'不及格人數:',fail_num)"
   ]
  },
  {
   "cell_type": "code",
   "execution_count": null,
   "metadata": {},
   "outputs": [],
   "source": []
  }
 ],
 "metadata": {
  "kernelspec": {
   "display_name": "Python 3",
   "language": "python",
   "name": "python3"
  },
  "language_info": {
   "codemirror_mode": {
    "name": "ipython",
    "version": 3
   },
   "file_extension": ".py",
   "mimetype": "text/x-python",
   "name": "python",
   "nbconvert_exporter": "python",
   "pygments_lexer": "ipython3",
   "version": "3.7.3"
  }
 },
 "nbformat": 4,
 "nbformat_minor": 2
}
