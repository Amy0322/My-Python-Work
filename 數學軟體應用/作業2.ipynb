{
 "cells": [
  {
   "cell_type": "code",
   "execution_count": 8,
   "metadata": {},
   "outputs": [
    {
     "name": "stdout",
     "output_type": "stream",
     "text": [
      "你今天有遇到甚麼讓你心情不好的事嗎?\n",
      ">>沒有\n",
      "那真是太好了!\n",
      "你今天有遇到甚麼讓你心情不好的事嗎?\n",
      ">>有\n",
      "怎麼了?\n",
      ">>一直下雨心情不好\n",
      "拍拍\n",
      "你今天有遇到甚麼讓你心情不好的事嗎?\n",
      ">>掰掰\n",
      "掰掰\n"
     ]
    }
   ],
   "source": [
    "while(True):\n",
    "    message = input(\"你今天有遇到甚麼讓你心情不好的事嗎?\\n>>\")\n",
    "    if(message == \"沒有\"):\n",
    "        print(\"那真是太好了!\")\n",
    "    elif(message == \"有\"):\n",
    "        message2 = input(\"怎麼了?\\n>>\")\n",
    "        print(\"拍拍\")\n",
    "    elif(message==\"掰掰\"):\n",
    "        print(\"掰掰\")\n",
    "        break"
   ]
  },
  {
   "cell_type": "code",
   "execution_count": 10,
   "metadata": {},
   "outputs": [
    {
     "name": "stdout",
     "output_type": "stream",
     "text": [
      "你今天的預算多少錢?\n",
      "500\n",
      "今天早餐花了多少錢?\n",
      "50\n",
      "今天午餐花了多少錢?\n",
      "100\n",
      "今天晚餐花了多少錢?\n",
      "200\n",
      "還有多少的額外花費嗎?\n",
      "60\n",
      "今天還剩下90元\n"
     ]
    }
   ],
   "source": [
    "total = input(\"你今天的預算多少錢?\\n\")\n",
    "total = int(total)\n",
    "if(total>0):\n",
    "    message1 = input(\"今天早餐花了多少錢?\\n\")\n",
    "    message1 = int(message1)\n",
    "    total = total - message1\n",
    "    message2 = input(\"今天午餐花了多少錢?\\n\")\n",
    "    message2 = int(message2)\n",
    "    total = total - message2\n",
    "    message3 = input(\"今天晚餐花了多少錢?\\n\")\n",
    "    message3 = int(message3)\n",
    "    total = total - message3\n",
    "    message4 = input(\"還有多少的額外花費嗎?\\n\")\n",
    "    message4 = int(message4)\n",
    "    total = total - message4\n",
    "    \n",
    "    if(total>0):\n",
    "        print(\"今天還剩下\"+str(abs(total))+\"元\")\n",
    "    elif(total == 0):\n",
    "        print(\"今天的預算剛剛好花完了\")\n",
    "    else:\n",
    "        print(\"今天透支了\"+str(abs(total))+\"元\")"
   ]
  },
  {
   "cell_type": "code",
   "execution_count": null,
   "metadata": {},
   "outputs": [],
   "source": []
  }
 ],
 "metadata": {
  "kernelspec": {
   "display_name": "Python 3",
   "language": "python",
   "name": "python3"
  },
  "language_info": {
   "codemirror_mode": {
    "name": "ipython",
    "version": 3
   },
   "file_extension": ".py",
   "mimetype": "text/x-python",
   "name": "python",
   "nbconvert_exporter": "python",
   "pygments_lexer": "ipython3",
   "version": "3.7.3"
  }
 },
 "nbformat": 4,
 "nbformat_minor": 2
}
