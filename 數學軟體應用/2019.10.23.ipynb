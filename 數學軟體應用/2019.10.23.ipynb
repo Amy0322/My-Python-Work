{
 "cells": [
  {
   "cell_type": "code",
   "execution_count": 3,
   "metadata": {},
   "outputs": [],
   "source": [
    "%matplotlib inline\n",
    "import numpy as np\n",
    "import matplotlib.pyplot as plt\n",
    "import pandas as pd"
   ]
  },
  {
   "cell_type": "markdown",
   "metadata": {},
   "source": [
    "## array oriented programming"
   ]
  },
  {
   "cell_type": "code",
   "execution_count": 4,
   "metadata": {},
   "outputs": [],
   "source": [
    "grades = [56,62,71,45,70]"
   ]
  },
  {
   "cell_type": "code",
   "execution_count": 9,
   "metadata": {},
   "outputs": [],
   "source": [
    "new_grade = []\n",
    "for i in grades:\n",
    "    new_grade.append(np.sqrt(i)*10)"
   ]
  },
  {
   "cell_type": "code",
   "execution_count": 12,
   "metadata": {},
   "outputs": [
    {
     "data": {
      "text/plain": [
       "[74.83314773547883,\n",
       " 78.74007874011811,\n",
       " 84.2614977317636,\n",
       " 67.0820393249937,\n",
       " 83.66600265340756]"
      ]
     },
     "execution_count": 12,
     "metadata": {},
     "output_type": "execute_result"
    }
   ],
   "source": [
    "new_grade"
   ]
  },
  {
   "cell_type": "code",
   "execution_count": 14,
   "metadata": {},
   "outputs": [],
   "source": [
    "arr_grades = np.array(grades)"
   ]
  },
  {
   "cell_type": "code",
   "execution_count": 16,
   "metadata": {},
   "outputs": [],
   "source": [
    "arr_new_grades = np.sqrt(arr_grades)*10+15"
   ]
  },
  {
   "cell_type": "code",
   "execution_count": 18,
   "metadata": {},
   "outputs": [
    {
     "data": {
      "text/plain": [
       "92.71655323715235"
      ]
     },
     "execution_count": 18,
     "metadata": {},
     "output_type": "execute_result"
    }
   ],
   "source": [
    "arr_new_grades.mean()"
   ]
  },
  {
   "cell_type": "code",
   "execution_count": 19,
   "metadata": {},
   "outputs": [
    {
     "data": {
      "text/plain": [
       "6.33540471768489"
      ]
     },
     "execution_count": 19,
     "metadata": {},
     "output_type": "execute_result"
    }
   ],
   "source": [
    "arr_new_grades.std()"
   ]
  },
  {
   "cell_type": "markdown",
   "metadata": {},
   "source": [
    "## brocasting"
   ]
  },
  {
   "cell_type": "code",
   "execution_count": 20,
   "metadata": {},
   "outputs": [
    {
     "data": {
      "text/plain": [
       "array([ 8,  9, 10, 14, 17])"
      ]
     },
     "execution_count": 20,
     "metadata": {},
     "output_type": "execute_result"
    }
   ],
   "source": [
    "np.array([3,4,5,9,12])+5"
   ]
  },
  {
   "cell_type": "code",
   "execution_count": 21,
   "metadata": {},
   "outputs": [],
   "source": [
    "mygrades = np.array([89,99,60])"
   ]
  },
  {
   "cell_type": "code",
   "execution_count": 22,
   "metadata": {},
   "outputs": [],
   "source": [
    "weights = np.array([0.3,0.4,0.3])"
   ]
  },
  {
   "cell_type": "code",
   "execution_count": 24,
   "metadata": {},
   "outputs": [],
   "source": [
    "g = mygrades * weights"
   ]
  },
  {
   "cell_type": "code",
   "execution_count": 25,
   "metadata": {},
   "outputs": [
    {
     "data": {
      "text/plain": [
       "84.3"
      ]
     },
     "execution_count": 25,
     "metadata": {},
     "output_type": "execute_result"
    }
   ],
   "source": [
    "g.sum()"
   ]
  },
  {
   "cell_type": "code",
   "execution_count": 26,
   "metadata": {},
   "outputs": [
    {
     "data": {
      "text/plain": [
       "84.3"
      ]
     },
     "execution_count": 26,
     "metadata": {},
     "output_type": "execute_result"
    }
   ],
   "source": [
    "np.dot(mygrades,weights)"
   ]
  },
  {
   "cell_type": "code",
   "execution_count": 27,
   "metadata": {},
   "outputs": [
    {
     "data": {
      "text/plain": [
       "84.3"
      ]
     },
     "execution_count": 27,
     "metadata": {},
     "output_type": "execute_result"
    }
   ],
   "source": [
    "mygrades @ weights"
   ]
  },
  {
   "cell_type": "markdown",
   "metadata": {},
   "source": [
    "## 不同shape轉換"
   ]
  },
  {
   "cell_type": "markdown",
   "metadata": {},
   "source": [
    "#### 0階array(0階tensor)"
   ]
  },
  {
   "cell_type": "code",
   "execution_count": 28,
   "metadata": {},
   "outputs": [],
   "source": [
    "egg = 97.3"
   ]
  },
  {
   "cell_type": "markdown",
   "metadata": {},
   "source": [
    "#### 1階array(1階tensor)"
   ]
  },
  {
   "cell_type": "code",
   "execution_count": 29,
   "metadata": {},
   "outputs": [],
   "source": [
    "egg = np.array([9,4,6,2])"
   ]
  },
  {
   "cell_type": "markdown",
   "metadata": {},
   "source": [
    "#### 2階array(2階tensor) -->矩陣(2列*3行)"
   ]
  },
  {
   "cell_type": "code",
   "execution_count": 31,
   "metadata": {},
   "outputs": [],
   "source": [
    "A = np.array([[1,2,3],[4,5,6]])"
   ]
  },
  {
   "cell_type": "code",
   "execution_count": 32,
   "metadata": {},
   "outputs": [
    {
     "data": {
      "text/plain": [
       "array([[1, 2, 3],\n",
       "       [4, 5, 6]])"
      ]
     },
     "execution_count": 32,
     "metadata": {},
     "output_type": "execute_result"
    }
   ],
   "source": [
    "A"
   ]
  },
  {
   "cell_type": "code",
   "execution_count": 33,
   "metadata": {},
   "outputs": [],
   "source": [
    "B = np.array([3,9,6,12,8,20,1,10,7])"
   ]
  },
  {
   "cell_type": "markdown",
   "metadata": {},
   "source": [
    "#### 一個array變成矩陣"
   ]
  },
  {
   "cell_type": "code",
   "execution_count": 34,
   "metadata": {},
   "outputs": [
    {
     "data": {
      "text/plain": [
       "(9,)"
      ]
     },
     "execution_count": 34,
     "metadata": {},
     "output_type": "execute_result"
    }
   ],
   "source": [
    "B.shape"
   ]
  },
  {
   "cell_type": "code",
   "execution_count": 35,
   "metadata": {},
   "outputs": [
    {
     "data": {
      "text/plain": [
       "array([[ 3,  9,  6],\n",
       "       [12,  8, 20],\n",
       "       [ 1, 10,  7]])"
      ]
     },
     "execution_count": 35,
     "metadata": {},
     "output_type": "execute_result"
    }
   ],
   "source": [
    "B.reshape(3,3)"
   ]
  },
  {
   "cell_type": "code",
   "execution_count": 36,
   "metadata": {},
   "outputs": [],
   "source": [
    "B = B.reshape(3,3)"
   ]
  },
  {
   "cell_type": "markdown",
   "metadata": {},
   "source": [
    "#### 矩陣相乘"
   ]
  },
  {
   "cell_type": "code",
   "execution_count": 38,
   "metadata": {},
   "outputs": [],
   "source": [
    "C = A @ B"
   ]
  },
  {
   "cell_type": "code",
   "execution_count": 39,
   "metadata": {},
   "outputs": [
    {
     "data": {
      "text/plain": [
       "array([[ 30,  55,  67],\n",
       "       [ 78, 136, 166]])"
      ]
     },
     "execution_count": 39,
     "metadata": {},
     "output_type": "execute_result"
    }
   ],
   "source": [
    "C"
   ]
  },
  {
   "cell_type": "code",
   "execution_count": 40,
   "metadata": {},
   "outputs": [
    {
     "data": {
      "text/plain": [
       "array([ 78, 136, 166])"
      ]
     },
     "execution_count": 40,
     "metadata": {},
     "output_type": "execute_result"
    }
   ],
   "source": [
    "C[1]"
   ]
  },
  {
   "cell_type": "code",
   "execution_count": 41,
   "metadata": {},
   "outputs": [
    {
     "data": {
      "text/plain": [
       "136"
      ]
     },
     "execution_count": 41,
     "metadata": {},
     "output_type": "execute_result"
    }
   ],
   "source": [
    "C[1,1]"
   ]
  },
  {
   "cell_type": "code",
   "execution_count": 42,
   "metadata": {},
   "outputs": [
    {
     "data": {
      "text/plain": [
       "array([30, 55, 67])"
      ]
     },
     "execution_count": 42,
     "metadata": {},
     "output_type": "execute_result"
    }
   ],
   "source": [
    "C[0]"
   ]
  },
  {
   "cell_type": "markdown",
   "metadata": {},
   "source": [
    "#### :為全部都要"
   ]
  },
  {
   "cell_type": "code",
   "execution_count": 43,
   "metadata": {},
   "outputs": [
    {
     "data": {
      "text/plain": [
       "array([ 67, 166])"
      ]
     },
     "execution_count": 43,
     "metadata": {},
     "output_type": "execute_result"
    }
   ],
   "source": [
    "C[:,2]"
   ]
  },
  {
   "cell_type": "markdown",
   "metadata": {},
   "source": [
    "#### 整平"
   ]
  },
  {
   "cell_type": "code",
   "execution_count": 44,
   "metadata": {},
   "outputs": [
    {
     "data": {
      "text/plain": [
       "array([1, 2, 3, 4, 5, 6])"
      ]
     },
     "execution_count": 44,
     "metadata": {},
     "output_type": "execute_result"
    }
   ],
   "source": [
    "A.ravel()"
   ]
  },
  {
   "cell_type": "code",
   "execution_count": 45,
   "metadata": {},
   "outputs": [],
   "source": [
    "X = np.array([3,9,1,3,-5,1,2])"
   ]
  },
  {
   "cell_type": "markdown",
   "metadata": {},
   "source": [
    "要變成這樣:\n",
    "    [[3],[9],[1],...]"
   ]
  },
  {
   "cell_type": "code",
   "execution_count": 47,
   "metadata": {},
   "outputs": [
    {
     "data": {
      "text/plain": [
       "array([[ 3],\n",
       "       [ 9],\n",
       "       [ 1],\n",
       "       [ 3],\n",
       "       [-5],\n",
       "       [ 1],\n",
       "       [ 2]])"
      ]
     },
     "execution_count": 47,
     "metadata": {},
     "output_type": "execute_result"
    }
   ],
   "source": [
    "X.reshape(7,1)"
   ]
  },
  {
   "cell_type": "code",
   "execution_count": 48,
   "metadata": {},
   "outputs": [
    {
     "data": {
      "text/plain": [
       "7"
      ]
     },
     "execution_count": 48,
     "metadata": {},
     "output_type": "execute_result"
    }
   ],
   "source": [
    "len(X)"
   ]
  },
  {
   "cell_type": "code",
   "execution_count": 49,
   "metadata": {},
   "outputs": [
    {
     "data": {
      "text/plain": [
       "array([[ 3],\n",
       "       [ 9],\n",
       "       [ 1],\n",
       "       [ 3],\n",
       "       [-5],\n",
       "       [ 1],\n",
       "       [ 2]])"
      ]
     },
     "execution_count": 49,
     "metadata": {},
     "output_type": "execute_result"
    }
   ],
   "source": [
    "X.reshape(len(X),1)"
   ]
  },
  {
   "cell_type": "markdown",
   "metadata": {},
   "source": [
    "### array的filter功能"
   ]
  },
  {
   "cell_type": "code",
   "execution_count": 54,
   "metadata": {},
   "outputs": [],
   "source": [
    "grades = np.array([59,30,25,65,60,100,85,8])"
   ]
  },
  {
   "cell_type": "code",
   "execution_count": 55,
   "metadata": {},
   "outputs": [],
   "source": [
    "passed = np.array([False,False,False,True,True,True,True,False])"
   ]
  },
  {
   "cell_type": "code",
   "execution_count": 56,
   "metadata": {},
   "outputs": [
    {
     "data": {
      "text/plain": [
       "array([ 65,  60, 100,  85])"
      ]
     },
     "execution_count": 56,
     "metadata": {},
     "output_type": "execute_result"
    }
   ],
   "source": [
    "grades[passed]"
   ]
  },
  {
   "cell_type": "code",
   "execution_count": 57,
   "metadata": {},
   "outputs": [],
   "source": [
    "passed = (grades>=60)"
   ]
  },
  {
   "cell_type": "code",
   "execution_count": 58,
   "metadata": {},
   "outputs": [
    {
     "data": {
      "text/plain": [
       "array([False, False, False,  True,  True,  True,  True, False])"
      ]
     },
     "execution_count": 58,
     "metadata": {},
     "output_type": "execute_result"
    }
   ],
   "source": [
    "passed"
   ]
  },
  {
   "cell_type": "code",
   "execution_count": 59,
   "metadata": {},
   "outputs": [
    {
     "data": {
      "text/plain": [
       "array([ 65,  60, 100,  85])"
      ]
     },
     "execution_count": 59,
     "metadata": {},
     "output_type": "execute_result"
    }
   ],
   "source": [
    "grades[passed]"
   ]
  },
  {
   "cell_type": "code",
   "execution_count": 60,
   "metadata": {},
   "outputs": [
    {
     "data": {
      "text/plain": [
       "array([65, 60])"
      ]
     },
     "execution_count": 60,
     "metadata": {},
     "output_type": "execute_result"
    }
   ],
   "source": [
    "grades[(grades>=60)&(grades<80)]"
   ]
  },
  {
   "cell_type": "markdown",
   "metadata": {},
   "source": [
    "### 畫圖"
   ]
  },
  {
   "cell_type": "code",
   "execution_count": 61,
   "metadata": {},
   "outputs": [],
   "source": [
    "# π:\\pi+tab鍵\n",
    "π = np.pi"
   ]
  },
  {
   "cell_type": "code",
   "execution_count": 62,
   "metadata": {},
   "outputs": [],
   "source": [
    "x = np.linspace(-2*π,2*π,1000)"
   ]
  },
  {
   "cell_type": "code",
   "execution_count": 63,
   "metadata": {},
   "outputs": [],
   "source": [
    "y = np.sin(x)"
   ]
  },
  {
   "cell_type": "code",
   "execution_count": 64,
   "metadata": {},
   "outputs": [
    {
     "data": {
      "text/plain": [
       "True"
      ]
     },
     "execution_count": 64,
     "metadata": {},
     "output_type": "execute_result"
    }
   ],
   "source": [
    "len(x) == len(y)"
   ]
  },
  {
   "cell_type": "code",
   "execution_count": 65,
   "metadata": {},
   "outputs": [
    {
     "data": {
      "text/plain": [
       "[<matplotlib.lines.Line2D at 0x1eed6086518>]"
      ]
     },
     "execution_count": 65,
     "metadata": {},
     "output_type": "execute_result"
    },
    {
     "data": {
      "image/png": "[encoded data removed]",
      "text/plain": [
       "<Figure size 432x288 with 1 Axes>"
      ]
     },
     "metadata": {
      "needs_background": "light"
     },
     "output_type": "display_data"
    }
   ],
   "source": [
    "plt.plot(x,y)"
   ]
  },
  {
   "cell_type": "code",
   "execution_count": 66,
   "metadata": {},
   "outputs": [
    {
     "data": {
      "text/plain": [
       "array([2.44929360e-16, 1.25786178e-02, 2.51552454e-02, 3.77278927e-02,\n",
       "       5.02945704e-02, 6.28532900e-02, 7.54020646e-02, 8.79389084e-02,\n",
       "       1.00461838e-01, 1.12968871e-01, 1.25458030e-01, 1.37927338e-01,\n",
       "       1.50374822e-01, 1.62798512e-01, 1.75196443e-01, 1.87566653e-01,\n",
       "       1.99907185e-01, 2.12216086e-01, 2.24491409e-01, 2.36731210e-01,\n",
       "       2.48933554e-01, 2.61096510e-01, 2.73218154e-01, 2.85296566e-01,\n",
       "       2.97329837e-01, 3.09316061e-01, 3.21253344e-01, 3.33139795e-01,\n",
       "       3.44973534e-01, 3.56752688e-01, 3.68475395e-01, 3.80139798e-01,\n",
       "       3.91744053e-01, 4.03286322e-01, 4.14764781e-01, 4.26177612e-01,\n",
       "       4.37523010e-01, 4.48799180e-01, 4.60004337e-01, 4.71136709e-01,\n",
       "       4.82194534e-01, 4.93176062e-01, 5.04079556e-01, 5.14903290e-01,\n",
       "       5.25645553e-01, 5.36304643e-01, 5.46878875e-01, 5.57366576e-01,\n",
       "       5.67766086e-01, 5.78075760e-01, 5.88293965e-01, 5.98419086e-01,\n",
       "       6.08449521e-01, 6.18383682e-01, 6.28219997e-01, 6.37956911e-01,\n",
       "       6.47592882e-01, 6.57126385e-01, 6.66555913e-01, 6.75879973e-01,\n",
       "       6.85097090e-01, 6.94205806e-01, 7.03204679e-01, 7.12092285e-01,\n",
       "       7.20867219e-01, 7.29528091e-01, 7.38073532e-01, 7.46502188e-01,\n",
       "       7.54812728e-01, 7.63003834e-01, 7.71074213e-01, 7.79022586e-01,\n",
       "       7.86847695e-01, 7.94548304e-01, 8.02123193e-01, 8.09571163e-01,\n",
       "       8.16891037e-01, 8.24081656e-01, 8.31141882e-01, 8.38070599e-01,\n",
       "       8.44866709e-01, 8.51529138e-01, 8.58056831e-01, 8.64448755e-01,\n",
       "       8.70703900e-01, 8.76821275e-01, 8.82799913e-01, 8.88638867e-01,\n",
       "       8.94337213e-01, 8.99894051e-01, 9.05308500e-01, 9.10579704e-01,\n",
       "       9.15706829e-01, 9.20689063e-01, 9.25525619e-01, 9.30215731e-01,\n",
       "       9.34758657e-01, 9.39153678e-01, 9.43400098e-01, 9.47497247e-01,\n",
       "       9.51444475e-01, 9.55241158e-01, 9.58886695e-01, 9.62380509e-01,\n",
       "       9.65722048e-01, 9.68910783e-01, 9.71946209e-01, 9.74827847e-01,\n",
       "       9.77555239e-01, 9.80127955e-01, 9.82545587e-01, 9.84807753e-01,\n",
       "       9.86914095e-01, 9.88864280e-01, 9.90657999e-01, 9.92294968e-01,\n",
       "       9.93774928e-01, 9.95097645e-01, 9.96262911e-01, 9.97270539e-01,\n",
       "       9.98120372e-01, 9.98812274e-01, 9.99346136e-01, 9.99721874e-01,\n",
       "       9.99939428e-01, 9.99998764e-01, 9.99899872e-01, 9.99642768e-01,\n",
       "       9.99227492e-01, 9.98654111e-01, 9.97922715e-01, 9.97033420e-01,\n",
       "       9.95986366e-01, 9.94781719e-01, 9.93419671e-01, 9.91900435e-01,\n",
       "       9.90224253e-01, 9.88391391e-01, 9.86402137e-01, 9.84256806e-01,\n",
       "       9.81955739e-01, 9.79499299e-01, 9.76887875e-01, 9.74121880e-01,\n",
       "       9.71201752e-01, 9.68127953e-01, 9.64900969e-01, 9.61521310e-01,\n",
       "       9.57989512e-01, 9.54306134e-01, 9.50471757e-01, 9.46486990e-01,\n",
       "       9.42352462e-01, 9.38068827e-01, 9.33636764e-01, 9.29056973e-01,\n",
       "       9.24330180e-01, 9.19457131e-01, 9.14438599e-01, 9.09275378e-01,\n",
       "       9.03968283e-01, 8.98518156e-01, 8.92925858e-01, 8.87192274e-01,\n",
       "       8.81318312e-01, 8.75304901e-01, 8.69152992e-01, 8.62863558e-01,\n",
       "       8.56437596e-01, 8.49876121e-01, 8.43180172e-01, 8.36350809e-01,\n",
       "       8.29389112e-01, 8.22296182e-01, 8.15073141e-01, 8.07721134e-01,\n",
       "       8.00241323e-01, 7.92634891e-01, 7.84903042e-01, 7.77046999e-01,\n",
       "       7.69068007e-01, 7.60967326e-01, 7.52746238e-01, 7.44406046e-01,\n",
       "       7.35948067e-01, 7.27373642e-01, 7.18684125e-01, 7.09880892e-01,\n",
       "       7.00965337e-01, 6.91938869e-01, 6.82802917e-01, 6.73558927e-01,\n",
       "       6.64208361e-01, 6.54752698e-01, 6.45193436e-01, 6.35532086e-01,\n",
       "       6.25770177e-01, 6.15909254e-01, 6.05950876e-01, 5.95896621e-01,\n",
       "       5.85748078e-01, 5.75506853e-01, 5.65174567e-01, 5.54752854e-01,\n",
       "       5.44243365e-01, 5.33647760e-01, 5.22967718e-01, 5.12204928e-01,\n",
       "       5.01361093e-01, 4.90437928e-01, 4.79437162e-01, 4.68360536e-01,\n",
       "       4.57209803e-01, 4.45986726e-01, 4.34693081e-01, 4.23330656e-01,\n",
       "       4.11901248e-01, 4.00406666e-01, 3.88848729e-01, 3.77229264e-01,\n",
       "       3.65550112e-01, 3.53813119e-01, 3.42020143e-01, 3.30173050e-01,\n",
       "       3.18273715e-01, 3.06324020e-01, 2.94325855e-01, 2.82281120e-01,\n",
       "       2.70191721e-01, 2.58059569e-01, 2.45886586e-01, 2.33674696e-01,\n",
       "       2.21425832e-01, 2.09141933e-01, 1.96824941e-01, 1.84476807e-01,\n",
       "       1.72099483e-01, 1.59694928e-01, 1.47265105e-01, 1.34811980e-01,\n",
       "       1.22337524e-01, 1.09843712e-01, 9.73325184e-02, 8.48059245e-02,\n",
       "       7.22659119e-02, 5.97144649e-02, 4.71535694e-02, 3.45852128e-02,\n",
       "       2.20113839e-02, 9.43407223e-03, 6.28943332e-03, 1.88673048e-02,\n",
       "       3.14421909e-02, 4.40121020e-02, 5.65750492e-02, 6.91290446e-02,\n",
       "       8.16721019e-02, 9.42022363e-02, 1.06717465e-01, 1.19215809e-01,\n",
       "       1.31695289e-01, 1.44153931e-01, 1.56589764e-01, 1.69000820e-01,\n",
       "       1.81385136e-01, 1.93740751e-01, 2.06065711e-01, 2.18358066e-01,\n",
       "       2.30615871e-01, 2.42837185e-01, 2.55020076e-01, 2.67162616e-01,\n",
       "       2.79262883e-01, 2.91318963e-01, 3.03328948e-01, 3.15290939e-01,\n",
       "       3.27203041e-01, 3.39063370e-01, 3.50870051e-01, 3.62621214e-01,\n",
       "       3.74315000e-01, 3.85949559e-01, 3.97523050e-01, 4.09033642e-01,\n",
       "       4.20479513e-01, 4.31858853e-01, 4.43169861e-01, 4.54410746e-01,\n",
       "       4.65579732e-01, 4.76675049e-01, 4.87694944e-01, 4.98637671e-01,\n",
       "       5.09501500e-01, 5.20284712e-01, 5.30985600e-01, 5.41602472e-01,\n",
       "       5.52133646e-01, 5.62577458e-01, 5.72932255e-01, 5.83196397e-01,\n",
       "       5.93368262e-01, 6.03446239e-01, 6.13428734e-01, 6.23314168e-01,\n",
       "       6.33100976e-01, 6.42787610e-01, 6.52372537e-01, 6.61854240e-01,\n",
       "       6.71231219e-01, 6.80501991e-01, 6.89665089e-01, 6.98719062e-01,\n",
       "       7.07662479e-01, 7.16493923e-01, 7.25211999e-01, 7.33815325e-01,\n",
       "       7.42302542e-01, 7.50672305e-01, 7.58923291e-01, 7.67054195e-01,\n",
       "       7.75063729e-01, 7.82950626e-01, 7.90713639e-01, 7.98351539e-01,\n",
       "       8.05863117e-01, 8.13247185e-01, 8.20502575e-01, 8.27628139e-01,\n",
       "       8.34622748e-01, 8.41485297e-01, 8.48214700e-01, 8.54809891e-01,\n",
       "       8.61269828e-01, 8.67593488e-01, 8.73779870e-01, 8.79827996e-01,\n",
       "       8.85736908e-01, 8.91505673e-01, 8.97133376e-01, 9.02619128e-01,\n",
       "       9.07962060e-01, 9.13161327e-01, 9.18216107e-01, 9.23125599e-01,\n",
       "       9.27889027e-01, 9.32505637e-01, 9.36974699e-01, 9.41295506e-01,\n",
       "       9.45467373e-01, 9.49489640e-01, 9.53361672e-01, 9.57082856e-01,\n",
       "       9.60652602e-01, 9.64070347e-01, 9.67335548e-01, 9.70447691e-01,\n",
       "       9.73406281e-01, 9.76210851e-01, 9.78860957e-01, 9.81356181e-01,\n",
       "       9.83696126e-01, 9.85880423e-01, 9.87908727e-01, 9.89780716e-01,\n",
       "       9.91496094e-01, 9.93054589e-01, 9.94455956e-01, 9.95699972e-01,\n",
       "       9.96786440e-01, 9.97715189e-01, 9.98486072e-01, 9.99098966e-01,\n",
       "       9.99553775e-01, 9.99850427e-01, 9.99988874e-01, 9.99969096e-01,\n",
       "       9.99791094e-01, 9.99454898e-01, 9.98960560e-01, 9.98308158e-01,\n",
       "       9.97497797e-01, 9.96529603e-01, 9.95403731e-01, 9.94120357e-01,\n",
       "       9.92679687e-01, 9.91081947e-01, 9.89327390e-01, 9.87416293e-01,\n",
       "       9.85348960e-01, 9.83125718e-01, 9.80746917e-01, 9.78212935e-01,\n",
       "       9.75524172e-01, 9.72681055e-01, 9.69684032e-01, 9.66533578e-01,\n",
       "       9.63230191e-01, 9.59774394e-01, 9.56166735e-01, 9.52407783e-01,\n",
       "       9.48498134e-01, 9.44438405e-01, 9.40229241e-01, 9.35871306e-01,\n",
       "       9.31365289e-01, 9.26711905e-01, 9.21911890e-01, 9.16966002e-01,\n",
       "       9.11875024e-01, 9.06639763e-01, 9.01261046e-01, 8.95739724e-01,\n",
       "       8.90076671e-01, 8.84272783e-01, 8.78328979e-01, 8.72246198e-01,\n",
       "       8.66025404e-01, 8.59667580e-01, 8.53173733e-01, 8.46544890e-01,\n",
       "       8.39782100e-01, 8.32886434e-01, 8.25858981e-01, 8.18700854e-01,\n",
       "       8.11413186e-01, 8.03997130e-01, 7.96453860e-01, 7.88784567e-01,\n",
       "       7.80990468e-01, 7.73072793e-01, 7.65032797e-01, 7.56871752e-01,\n",
       "       7.48590948e-01, 7.40191697e-01, 7.31675326e-01, 7.23043184e-01,\n",
       "       7.14296636e-01, 7.05437067e-01, 6.96465878e-01, 6.87384489e-01,\n",
       "       6.78194336e-01, 6.68896874e-01, 6.59493574e-01, 6.49985923e-01,\n",
       "       6.40375427e-01, 6.30663605e-01, 6.20851995e-01, 6.10942149e-01,\n",
       "       6.00935634e-01, 5.90834035e-01, 5.80638949e-01, 5.70351991e-01,\n",
       "       5.59974786e-01, 5.49508978e-01, 5.38956222e-01, 5.28318189e-01,\n",
       "       5.17596560e-01, 5.06793034e-01, 4.95909319e-01, 4.84947137e-01,\n",
       "       4.73908223e-01, 4.62794323e-01, 4.51607196e-01, 4.40348613e-01,\n",
       "       4.29020354e-01, 4.17624212e-01, 4.06161991e-01, 3.94635503e-01,\n",
       "       3.83046573e-01, 3.71397034e-01, 3.59688730e-01, 3.47923513e-01,\n",
       "       3.36103245e-01, 3.24229795e-01, 3.12305044e-01, 3.00330878e-01,\n",
       "       2.88309190e-01, 2.76241884e-01, 2.64130869e-01, 2.51978061e-01,\n",
       "       2.39785383e-01, 2.27554765e-01, 2.15288141e-01, 2.02987452e-01,\n",
       "       1.90654645e-01, 1.78291671e-01, 1.65900487e-01, 1.53483052e-01,\n",
       "       1.41041332e-01, 1.28577295e-01, 1.16092914e-01, 1.03590164e-01,\n",
       "       9.10710227e-02, 7.85374716e-02, 6.59914936e-02, 5.34350740e-02,\n",
       "       4.08701994e-02, 2.82988581e-02, 1.57230391e-02, 3.14473221e-03])"
      ]
     },
     "execution_count": 66,
     "metadata": {},
     "output_type": "execute_result"
    }
   ],
   "source": [
    "y[y>0]"
   ]
  },
  {
   "cell_type": "code",
   "execution_count": 68,
   "metadata": {},
   "outputs": [
    {
     "data": {
      "text/plain": [
       "[<matplotlib.lines.Line2D at 0x1eed64becc0>]"
      ]
     },
     "execution_count": 68,
     "metadata": {},
     "output_type": "execute_result"
    },
    {
     "data": {
      "image/png": "[encoded data removed]",
      "text/plain": [
       "<Figure size 432x288 with 1 Axes>"
      ]
     },
     "metadata": {
      "needs_background": "light"
     },
     "output_type": "display_data"
    }
   ],
   "source": [
    "plt.scatter(x[y>0],y[y>0],c='#FF235A')\n",
    "plt.plot(x,y)"
   ]
  },
  {
   "cell_type": "code",
   "execution_count": 69,
   "metadata": {},
   "outputs": [],
   "source": [
    "x = np.linspace(0,1.,50)\n",
    "y = np.sin(x)"
   ]
  },
  {
   "cell_type": "code",
   "execution_count": 70,
   "metadata": {},
   "outputs": [
    {
     "data": {
      "text/plain": [
       "<matplotlib.collections.PathCollection at 0x1eed6520c18>"
      ]
     },
     "execution_count": 70,
     "metadata": {},
     "output_type": "execute_result"
    },
    {
     "data": {
      "image/png": "[encoded data removed]",
      "text/plain": [
       "<Figure size 432x288 with 1 Axes>"
      ]
     },
     "metadata": {
      "needs_background": "light"
     },
     "output_type": "display_data"
    }
   ],
   "source": [
    "plt.scatter(x,y)"
   ]
  },
  {
   "cell_type": "code",
   "execution_count": 71,
   "metadata": {},
   "outputs": [],
   "source": [
    "noise = 0.1*np.random.randn(50)"
   ]
  },
  {
   "cell_type": "code",
   "execution_count": 73,
   "metadata": {},
   "outputs": [
    {
     "data": {
      "text/plain": [
       "<matplotlib.collections.PathCollection at 0x1eed6520d68>"
      ]
     },
     "execution_count": 73,
     "metadata": {},
     "output_type": "execute_result"
    },
    {
     "data": {
      "image/png": "[encoded data removed]",
      "text/plain": [
       "<Figure size 432x288 with 1 Axes>"
      ]
     },
     "metadata": {
      "needs_background": "light"
     },
     "output_type": "display_data"
    }
   ],
   "source": [
    "plt.scatter(x,y+noise)"
   ]
  },
  {
   "cell_type": "markdown",
   "metadata": {},
   "source": [
    "### 分類模擬"
   ]
  },
  {
   "cell_type": "code",
   "execution_count": 74,
   "metadata": {},
   "outputs": [],
   "source": [
    "P = np.random.randn(50,2)"
   ]
  },
  {
   "cell_type": "code",
   "execution_count": 75,
   "metadata": {},
   "outputs": [
    {
     "data": {
      "text/plain": [
       "<matplotlib.collections.PathCollection at 0x1eed65f4e48>"
      ]
     },
     "execution_count": 75,
     "metadata": {},
     "output_type": "execute_result"
    },
    {
     "data": {
      "image/png": "[encoded data removed]",
      "text/plain": [
       "<Figure size 432x288 with 1 Axes>"
      ]
     },
     "metadata": {
      "needs_background": "light"
     },
     "output_type": "display_data"
    }
   ],
   "source": [
    "plt.scatter(P[:,0],P[:,1])"
   ]
  },
  {
   "cell_type": "code",
   "execution_count": 76,
   "metadata": {},
   "outputs": [],
   "source": [
    "cl = np.random.randint(1,5,50)"
   ]
  },
  {
   "cell_type": "code",
   "execution_count": 77,
   "metadata": {},
   "outputs": [
    {
     "data": {
      "text/plain": [
       "array([4, 3, 1, 1, 4, 2, 4, 2, 4, 4, 1, 4, 2, 3, 2, 4, 1, 3, 3, 2, 1, 3,\n",
       "       4, 1, 2, 1, 2, 3, 2, 3, 2, 3, 4, 4, 2, 1, 1, 1, 3, 3, 4, 3, 1, 3,\n",
       "       2, 4, 1, 1, 2, 2])"
      ]
     },
     "execution_count": 77,
     "metadata": {},
     "output_type": "execute_result"
    }
   ],
   "source": [
    "cl"
   ]
  },
  {
   "cell_type": "code",
   "execution_count": 79,
   "metadata": {},
   "outputs": [
    {
     "data": {
      "text/plain": [
       "<matplotlib.collections.PathCollection at 0x1eed6758e80>"
      ]
     },
     "execution_count": 79,
     "metadata": {},
     "output_type": "execute_result"
    },
    {
     "data": {
      "image/png": "[encoded data removed]",
      "text/plain": [
       "<Figure size 432x288 with 1 Axes>"
      ]
     },
     "metadata": {
      "needs_background": "light"
     },
     "output_type": "display_data"
    }
   ],
   "source": [
    "# c=顏色,s=尺寸,cmap=風格,alpha=透明度(查詢matplotlib)\n",
    "plt.scatter(P[:,0],P[:,1],c=cl,s=50,alpha=0.64)"
   ]
  },
  {
   "cell_type": "markdown",
   "metadata": {},
   "source": [
    "## SymPy"
   ]
  },
  {
   "cell_type": "code",
   "execution_count": 80,
   "metadata": {},
   "outputs": [
    {
     "data": {
      "text/plain": [
       "0.8333333333333333"
      ]
     },
     "execution_count": 80,
     "metadata": {},
     "output_type": "execute_result"
    }
   ],
   "source": [
    "1/2 + 1/3"
   ]
  },
  {
   "cell_type": "code",
   "execution_count": 81,
   "metadata": {},
   "outputs": [],
   "source": [
    "import sympy as sp"
   ]
  },
  {
   "cell_type": "code",
   "execution_count": 82,
   "metadata": {},
   "outputs": [
    {
     "data": {
      "text/plain": [
       "5/6"
      ]
     },
     "execution_count": 82,
     "metadata": {},
     "output_type": "execute_result"
    }
   ],
   "source": [
    "sp.Rational(1,2)+sp.Rational(1,3)"
   ]
  },
  {
   "cell_type": "code",
   "execution_count": 83,
   "metadata": {},
   "outputs": [],
   "source": [
    "# 變分數形式表示\n",
    "sp.init_printing()"
   ]
  },
  {
   "cell_type": "code",
   "execution_count": 84,
   "metadata": {},
   "outputs": [
    {
     "data": {
      "image/png": "[encoded data removed]",
      "text/latex": [
       "$$\\frac{5}{6}$$"
      ],
      "text/plain": [
       "5/6"
      ]
     },
     "execution_count": 84,
     "metadata": {},
     "output_type": "execute_result"
    }
   ],
   "source": [
    "sp.Rational(1,2)+sp.Rational(1,3)"
   ]
  },
  {
   "cell_type": "code",
   "execution_count": 85,
   "metadata": {},
   "outputs": [
    {
     "data": {
      "image/png": "[encoded data removed]",
      "text/latex": [
       "$$\\frac{1}{2}$$"
      ],
      "text/plain": [
       "1/2"
      ]
     },
     "execution_count": 85,
     "metadata": {},
     "output_type": "execute_result"
    }
   ],
   "source": [
    "sp.sympify(1)/2"
   ]
  },
  {
   "cell_type": "code",
   "execution_count": 86,
   "metadata": {},
   "outputs": [
    {
     "data": {
      "image/png": "[encoded data removed]",
      "text/latex": [
       "$$\\frac{5}{6}$$"
      ],
      "text/plain": [
       "5/6"
      ]
     },
     "execution_count": 86,
     "metadata": {},
     "output_type": "execute_result"
    }
   ],
   "source": [
    "sp.sympify(1)/2+sp.sympify(1)/3"
   ]
  },
  {
   "cell_type": "code",
   "execution_count": 88,
   "metadata": {},
   "outputs": [
    {
     "data": {
      "image/png": "[encoded data removed]",
      "text/latex": [
       "$$\\frac{5}{6}$$"
      ],
      "text/plain": [
       "5/6"
      ]
     },
     "execution_count": 88,
     "metadata": {},
     "output_type": "execute_result"
    }
   ],
   "source": [
    "sp.S(1)/2+sp.S(1)/3"
   ]
  },
  {
   "cell_type": "code",
   "execution_count": 89,
   "metadata": {},
   "outputs": [],
   "source": [
    "from sympy import S"
   ]
  },
  {
   "cell_type": "code",
   "execution_count": 91,
   "metadata": {},
   "outputs": [
    {
     "data": {
      "image/png": "[encoded data removed]",
      "text/latex": [
       "$$\\frac{5}{6}$$"
      ],
      "text/plain": [
       "5/6"
      ]
     },
     "execution_count": 91,
     "metadata": {},
     "output_type": "execute_result"
    }
   ],
   "source": [
    "S(1)/2+S(1)/3"
   ]
  },
  {
   "cell_type": "code",
   "execution_count": 93,
   "metadata": {},
   "outputs": [
    {
     "data": {
      "image/png": "[encoded data removed]",
      "text/latex": [
       "$$\\sqrt{3}$$"
      ],
      "text/plain": [
       "√3"
      ]
     },
     "execution_count": 93,
     "metadata": {},
     "output_type": "execute_result"
    }
   ],
   "source": [
    "sp.sqrt(3)"
   ]
  },
  {
   "cell_type": "code",
   "execution_count": 94,
   "metadata": {},
   "outputs": [
    {
     "data": {
      "image/png": "[encoded data removed]",
      "text/latex": [
       "$$\\pi$$"
      ],
      "text/plain": [
       "π"
      ]
     },
     "execution_count": 94,
     "metadata": {},
     "output_type": "execute_result"
    }
   ],
   "source": [
    "sp.pi"
   ]
  },
  {
   "cell_type": "markdown",
   "metadata": {},
   "source": [
    "## 指定變數"
   ]
  },
  {
   "cell_type": "code",
   "execution_count": 97,
   "metadata": {},
   "outputs": [],
   "source": [
    "x = sp.symbols('x')"
   ]
  },
  {
   "cell_type": "code",
   "execution_count": 98,
   "metadata": {},
   "outputs": [
    {
     "data": {
      "image/png": "[encoded data removed]",
      "text/latex": [
       "$$x$$"
      ],
      "text/plain": [
       "x"
      ]
     },
     "execution_count": 98,
     "metadata": {},
     "output_type": "execute_result"
    }
   ],
   "source": [
    "x"
   ]
  },
  {
   "cell_type": "code",
   "execution_count": 99,
   "metadata": {},
   "outputs": [
    {
     "data": {
      "image/png": "[encoded data removed]",
      "text/latex": [
       "$$x^{2}$$"
      ],
      "text/plain": [
       " 2\n",
       "x "
      ]
     },
     "execution_count": 99,
     "metadata": {},
     "output_type": "execute_result"
    }
   ],
   "source": [
    "x**2"
   ]
  },
  {
   "cell_type": "code",
   "execution_count": 100,
   "metadata": {},
   "outputs": [],
   "source": [
    "x = sp.symbols(r'\\xi')"
   ]
  },
  {
   "cell_type": "code",
   "execution_count": 101,
   "metadata": {},
   "outputs": [
    {
     "data": {
      "image/png": "[encoded data removed]",
      "text/latex": [
       "$$\\xi$$"
      ],
      "text/plain": [
       "\\xi"
      ]
     },
     "execution_count": 101,
     "metadata": {},
     "output_type": "execute_result"
    }
   ],
   "source": [
    "x"
   ]
  },
  {
   "cell_type": "code",
   "execution_count": 102,
   "metadata": {},
   "outputs": [],
   "source": [
    "from sympy.abc import x"
   ]
  },
  {
   "cell_type": "code",
   "execution_count": 103,
   "metadata": {},
   "outputs": [
    {
     "data": {
      "image/png": "[encoded data removed]",
      "text/latex": [
       "$$x$$"
      ],
      "text/plain": [
       "x"
      ]
     },
     "execution_count": 103,
     "metadata": {},
     "output_type": "execute_result"
    }
   ],
   "source": [
    "x"
   ]
  },
  {
   "cell_type": "code",
   "execution_count": 104,
   "metadata": {},
   "outputs": [],
   "source": [
    "f = x**2 -3*x +5"
   ]
  },
  {
   "cell_type": "code",
   "execution_count": 105,
   "metadata": {},
   "outputs": [
    {
     "data": {
      "image/png": "[encoded data removed]",
      "text/latex": [
       "$$x^{2} - 3 x + 5$$"
      ],
      "text/plain": [
       " 2          \n",
       "x  - 3⋅x + 5"
      ]
     },
     "execution_count": 105,
     "metadata": {},
     "output_type": "execute_result"
    }
   ],
   "source": [
    "f"
   ]
  },
  {
   "cell_type": "code",
   "execution_count": 106,
   "metadata": {},
   "outputs": [
    {
     "data": {
      "image/png": "[encoded data removed]",
      "text/latex": [
       "$$2 x - 3$$"
      ],
      "text/plain": [
       "2⋅x - 3"
      ]
     },
     "execution_count": 106,
     "metadata": {},
     "output_type": "execute_result"
    }
   ],
   "source": [
    "# diff:微分\n",
    "sp.diff(f)"
   ]
  },
  {
   "cell_type": "code",
   "execution_count": 107,
   "metadata": {},
   "outputs": [
    {
     "data": {
      "image/png": "[encoded data removed]",
      "text/latex": [
       "$$\\frac{x^{3}}{3} - \\frac{3 x^{2}}{2} + 5 x$$"
      ],
      "text/plain": [
       " 3      2      \n",
       "x    3⋅x       \n",
       "── - ──── + 5⋅x\n",
       "3     2        "
      ]
     },
     "execution_count": 107,
     "metadata": {},
     "output_type": "execute_result"
    }
   ],
   "source": [
    "# integrate:積分\n",
    "sp.integrate(f)"
   ]
  },
  {
   "cell_type": "code",
   "execution_count": 108,
   "metadata": {},
   "outputs": [
    {
     "data": {
      "image/png": "[encoded data removed]",
      "text/latex": [
       "$$3$$"
      ],
      "text/plain": [
       "3"
      ]
     },
     "execution_count": 108,
     "metadata": {},
     "output_type": "execute_result"
    }
   ],
   "source": [
    "# sub(old,new)替換，進行帶入運算\n",
    "f.subs(x,2)"
   ]
  },
  {
   "cell_type": "code",
   "execution_count": 109,
   "metadata": {},
   "outputs": [],
   "source": [
    "from sympy.abc import y"
   ]
  },
  {
   "cell_type": "code",
   "execution_count": 110,
   "metadata": {},
   "outputs": [],
   "source": [
    "g = 3*x*y + 2*x - 5*y**2"
   ]
  },
  {
   "cell_type": "code",
   "execution_count": 111,
   "metadata": {},
   "outputs": [
    {
     "data": {
      "image/png": "[encoded data removed]",
      "text/latex": [
       "$$3 x y + 2 x - 5 y^{2}$$"
      ],
      "text/plain": [
       "                 2\n",
       "3⋅x⋅y + 2⋅x - 5⋅y "
      ]
     },
     "execution_count": 111,
     "metadata": {},
     "output_type": "execute_result"
    }
   ],
   "source": [
    "g"
   ]
  },
  {
   "cell_type": "code",
   "execution_count": 112,
   "metadata": {},
   "outputs": [
    {
     "data": {
      "image/png": "[encoded data removed]",
      "text/latex": [
       "$$3 y + 2$$"
      ],
      "text/plain": [
       "3⋅y + 2"
      ]
     },
     "execution_count": 112,
     "metadata": {},
     "output_type": "execute_result"
    }
   ],
   "source": [
    "sp.diff(g,x)"
   ]
  },
  {
   "cell_type": "code",
   "execution_count": 113,
   "metadata": {},
   "outputs": [
    {
     "data": {
      "image/png": "[encoded data removed]",
      "text/latex": [
       "$$x^{2} \\left(\\frac{3 y}{2} + 1\\right) - 5 x y^{2}$$"
      ],
      "text/plain": [
       " 2 ⎛3⋅y    ⎞        2\n",
       "x ⋅⎜─── + 1⎟ - 5⋅x⋅y \n",
       "   ⎝ 2     ⎠         "
      ]
     },
     "execution_count": 113,
     "metadata": {},
     "output_type": "execute_result"
    }
   ],
   "source": [
    "# g對x微分\n",
    "sp.integrate(g,x)"
   ]
  },
  {
   "cell_type": "markdown",
   "metadata": {},
   "source": [
    "## 矩陣"
   ]
  },
  {
   "cell_type": "code",
   "execution_count": 119,
   "metadata": {},
   "outputs": [],
   "source": [
    "A = sp.Matrix([[1,2,3],[4,5,7],[7,8,9]])"
   ]
  },
  {
   "cell_type": "code",
   "execution_count": 120,
   "metadata": {},
   "outputs": [
    {
     "data": {
      "text/latex": [
       "$$\\left[\\begin{matrix}1 & 2 & 3\\\\4 & 5 & 7\\\\7 & 8 & 9\\end{matrix}\\right]$$"
      ],
      "text/plain": [
       "⎡1  2  3⎤\n",
       "⎢       ⎥\n",
       "⎢4  5  7⎥\n",
       "⎢       ⎥\n",
       "⎣7  8  9⎦"
      ]
     },
     "execution_count": 120,
     "metadata": {},
     "output_type": "execute_result"
    }
   ],
   "source": [
    "A"
   ]
  },
  {
   "cell_type": "code",
   "execution_count": 121,
   "metadata": {},
   "outputs": [
    {
     "data": {
      "text/latex": [
       "$$\\left ( \\left[\\begin{matrix}1 & 0 & 0\\\\0 & 1 & 0\\\\0 & 0 & 1\\end{matrix}\\right], \\quad \\left ( 0, \\quad 1, \\quad 2\\right )\\right )$$"
      ],
      "text/plain": [
       "⎛⎡1  0  0⎤           ⎞\n",
       "⎜⎢       ⎥           ⎟\n",
       "⎜⎢0  1  0⎥, (0, 1, 2)⎟\n",
       "⎜⎢       ⎥           ⎟\n",
       "⎝⎣0  0  1⎦           ⎠"
      ]
     },
     "execution_count": 121,
     "metadata": {},
     "output_type": "execute_result"
    }
   ],
   "source": [
    "A.rref()"
   ]
  },
  {
   "cell_type": "code",
   "execution_count": 122,
   "metadata": {},
   "outputs": [
    {
     "data": {
      "image/png": "[encoded data removed]",
      "text/latex": [
       "$$x^{2} - 3 x + 5$$"
      ],
      "text/plain": [
       " 2          \n",
       "x  - 3⋅x + 5"
      ]
     },
     "execution_count": 122,
     "metadata": {},
     "output_type": "execute_result"
    }
   ],
   "source": [
    "f"
   ]
  },
  {
   "cell_type": "code",
   "execution_count": 123,
   "metadata": {},
   "outputs": [
    {
     "data": {
      "image/png": "[encoded data removed]",
      "text/plain": [
       "<Figure size 432x288 with 1 Axes>"
      ]
     },
     "metadata": {
      "needs_background": "light"
     },
     "output_type": "display_data"
    },
    {
     "data": {
      "text/plain": [
       "<sympy.plotting.plot.Plot at 0x1eed87b50f0>"
      ]
     },
     "execution_count": 123,
     "metadata": {},
     "output_type": "execute_result"
    }
   ],
   "source": [
    "sp.plot(f)"
   ]
  },
  {
   "cell_type": "code",
   "execution_count": 124,
   "metadata": {},
   "outputs": [],
   "source": [
    "g = -x**2"
   ]
  },
  {
   "cell_type": "code",
   "execution_count": 125,
   "metadata": {},
   "outputs": [
    {
     "data": {
      "image/png": "[encoded data removed]",
      "text/plain": [
       "<Figure size 432x288 with 1 Axes>"
      ]
     },
     "metadata": {
      "needs_background": "light"
     },
     "output_type": "display_data"
    },
    {
     "data": {
      "text/plain": [
       "<sympy.plotting.plot.Plot at 0x1eed890ce80>"
      ]
     },
     "execution_count": 125,
     "metadata": {},
     "output_type": "execute_result"
    }
   ],
   "source": [
    "sp.plot(f,g)"
   ]
  },
  {
   "cell_type": "code",
   "execution_count": 127,
   "metadata": {},
   "outputs": [
    {
     "data": {
      "text/plain": [
       "False"
      ]
     },
     "execution_count": 127,
     "metadata": {},
     "output_type": "execute_result"
    }
   ],
   "source": [
    "sp.isprime(9487)"
   ]
  },
  {
   "cell_type": "code",
   "execution_count": 128,
   "metadata": {},
   "outputs": [
    {
     "data": {
      "image/png": "[encoded data removed]",
      "text/latex": [
       "$$2$$"
      ],
      "text/plain": [
       "2"
      ]
     },
     "execution_count": 128,
     "metadata": {},
     "output_type": "execute_result"
    }
   ],
   "source": [
    "# 第一個質數是2\n",
    "sp.prime(1)"
   ]
  },
  {
   "cell_type": "code",
   "execution_count": 130,
   "metadata": {},
   "outputs": [
    {
     "data": {
      "image/png": "[encoded data removed]",
      "text/latex": [
       "$$3$$"
      ],
      "text/plain": [
       "3"
      ]
     },
     "execution_count": 130,
     "metadata": {},
     "output_type": "execute_result"
    }
   ],
   "source": [
    "sp.prime(2)"
   ]
  },
  {
   "cell_type": "code",
   "execution_count": 131,
   "metadata": {},
   "outputs": [
    {
     "name": "stdout",
     "output_type": "stream",
     "text": [
      "(3, 5) 是孿生質數\n"
     ]
    }
   ],
   "source": [
    "a = sp.prime(2)\n",
    "b = sp.prime(2+1)\n",
    "\n",
    "if b-a == 2:\n",
    "    print((a,b),\"是孿生質數\")"
   ]
  },
  {
   "cell_type": "code",
   "execution_count": 135,
   "metadata": {},
   "outputs": [],
   "source": [
    "π = sp.pi\n",
    "magic = str(π.n(100000))"
   ]
  },
  {
   "cell_type": "code",
   "execution_count": 136,
   "metadata": {},
   "outputs": [
    {
     "data": {
      "text/plain": [
       "True"
      ]
     },
     "execution_count": 136,
     "metadata": {},
     "output_type": "execute_result"
    }
   ],
   "source": [
    "'0322' in magic"
   ]
  },
  {
   "cell_type": "code",
   "execution_count": null,
   "metadata": {},
   "outputs": [],
   "source": []
  }
 ],
 "metadata": {
  "kernelspec": {
   "display_name": "Python 3",
   "language": "python",
   "name": "python3"
  },
  "language_info": {
   "codemirror_mode": {
    "name": "ipython",
    "version": 3
   },
   "file_extension": ".py",
   "mimetype": "text/x-python",
   "name": "python",
   "nbconvert_exporter": "python",
   "pygments_lexer": "ipython3",
   "version": "3.7.3"
  }
 },
 "nbformat": 4,
 "nbformat_minor": 2
}
