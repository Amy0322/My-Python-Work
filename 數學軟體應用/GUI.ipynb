{
 "cells": [
  {
   "cell_type": "code",
   "execution_count": 1,
   "metadata": {},
   "outputs": [],
   "source": [
    "import tkinter as tk"
   ]
  },
  {
   "cell_type": "code",
   "execution_count": 8,
   "metadata": {},
   "outputs": [
    {
     "name": "stdout",
     "output_type": "stream",
     "text": [
      "{'bd': ('bd', '-borderwidth'), 'borderwidth': ('borderwidth', 'borderWidth', 'BorderWidth', <pixel object: '0'>, 0), 'class': ('class', 'class', 'Class', 'Toplevel', 'Tk'), 'menu': ('menu', 'menu', 'Menu', '', ''), 'relief': ('relief', 'relief', 'Relief', <index object: 'flat'>, 'flat'), 'screen': ('screen', 'screen', 'Screen', '', ''), 'use': ('use', 'use', 'Use', '', ''), 'background': ('background', 'background', 'Background', <border object: 'SystemButtonFace'>, 'green'), 'bg': ('bg', '-background'), 'colormap': ('colormap', 'colormap', 'Colormap', '', ''), 'container': ('container', 'container', 'Container', 0, 0), 'cursor': ('cursor', 'cursor', 'Cursor', '', ''), 'height': ('height', 'height', 'Height', <pixel object: '0'>, 600), 'highlightbackground': ('highlightbackground', 'highlightBackground', 'HighlightBackground', <color object: 'SystemButtonFace'>, 'SystemButtonFace'), 'highlightcolor': ('highlightcolor', 'highlightColor', 'HighlightColor', <color object: 'SystemWindowFrame'>, 'SystemWindowFrame'), 'highlightthickness': ('highlightthickness', 'highlightThickness', 'HighlightThickness', <pixel object: '0'>, 0), 'padx': ('padx', 'padX', 'Pad', <pixel object: '0'>, <pixel object: '0'>), 'pady': ('pady', 'padY', 'Pad', <pixel object: '0'>, <pixel object: '0'>), 'takefocus': ('takefocus', 'takeFocus', 'TakeFocus', '0', '0'), 'visual': ('visual', 'visual', 'Visual', '', ''), 'width': ('width', 'width', 'Width', <pixel object: '0'>, 800)}\n"
     ]
    }
   ],
   "source": [
    "window = tk.Tk()\n",
    "window.title('test')\n",
    "window.config(background = 'green',width='800',height='600')\n",
    "print(window.config())\n",
    "window.mainloop()"
   ]
  },
  {
   "cell_type": "markdown",
   "metadata": {},
   "source": [
    "### 顯示文字,大小"
   ]
  },
  {
   "cell_type": "code",
   "execution_count": 10,
   "metadata": {},
   "outputs": [],
   "source": [
    "window = tk.Tk()\n",
    "lbl = tk.Label(window,text='Hello!',font=('Times',100))\n",
    "lbl.pack()\n",
    "window.mainloop()"
   ]
  },
  {
   "cell_type": "markdown",
   "metadata": {},
   "source": [
    "### 按鈕"
   ]
  },
  {
   "cell_type": "code",
   "execution_count": 13,
   "metadata": {},
   "outputs": [],
   "source": [
    "def window_quit():\n",
    "    window.destroy()\n",
    "\n",
    "window = tk.Tk()\n",
    "lbl = tk.Label(window,text='Hello!')\n",
    "#排版控制pack\n",
    "lbl.pack()\n",
    "#entry輸入\n",
    "entry=tk.Entry(window)\n",
    "entry.pack()\n",
    "btn = tk.Button(window,text='Close',command=window_quit)\n",
    "btn.pack()\n",
    "window.mainloop()"
   ]
  },
  {
   "cell_type": "code",
   "execution_count": 24,
   "metadata": {},
   "outputs": [],
   "source": [
    "def window_quit():\n",
    "    r = float(weightVar.get())/(float(heightVar.get())/100)**2\n",
    "    result.config(text=r)\n",
    "\n",
    "window = tk.Tk()\n",
    "\n",
    "result= tk.Label(window,text='Weight')\n",
    "result.pack()\n",
    "#利用容器管理\n",
    "frame=tk.Frame(window)\n",
    "frame.pack() \n",
    "#取得參數\n",
    "weightVar=tk.StringVar()\n",
    "\n",
    "\n",
    "#文字內容\n",
    "lbl = tk.Label(frame,text='Weight')\n",
    "lbl.pack(side='left')\n",
    "#entry輸入框\n",
    "entry=tk.Entry(frame,textvariable=weightVar)\n",
    "entry.pack(side='top')\n",
    "#按鈕\n",
    "btn = tk.Button(window,text='GO',command=window_quit)\n",
    "btn.pack(side='bottom')\n",
    "\n",
    "frame2=tk.Frame(window)\n",
    "frame2.pack() \n",
    "#取得參數\n",
    "weightVar=tk.StringVar()\n",
    "\n",
    "#文字內容\n",
    "lbl2 = tk.Label(frame2,text='Weight')\n",
    "lbl2.pack(side='left')\n",
    "#entry輸入框\n",
    "entry2=tk.Entry(frame2,textvariable=weightVar)\n",
    "entry2.pack(side='top')\n",
    "#按鈕\n",
    "btn = tk.Button(window,text='GO',command=window_quit)\n",
    "btn.pack(side='bottom')\n",
    "\n",
    "\n",
    "window.mainloop()"
   ]
  },
  {
   "cell_type": "code",
   "execution_count": null,
   "metadata": {},
   "outputs": [],
   "source": []
  }
 ],
 "metadata": {
  "kernelspec": {
   "display_name": "Python 3",
   "language": "python",
   "name": "python3"
  },
  "language_info": {
   "codemirror_mode": {
    "name": "ipython",
    "version": 3
   },
   "file_extension": ".py",
   "mimetype": "text/x-python",
   "name": "python",
   "nbconvert_exporter": "python",
   "pygments_lexer": "ipython3",
   "version": "3.7.3"
  }
 },
 "nbformat": 4,
 "nbformat_minor": 2
}
