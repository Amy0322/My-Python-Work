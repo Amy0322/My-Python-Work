{
 "cells": [
  {
   "cell_type": "code",
   "execution_count": 2,
   "metadata": {},
   "outputs": [],
   "source": [
    "%matplotlib inline\n",
    "\n",
    "import numpy as np\n",
    "import pandas as pd\n",
    "import matplotlib.pyplot as plt"
   ]
  },
  {
   "cell_type": "markdown",
   "metadata": {},
   "source": [
    "## 第一題：\n",
    "有A,B,C三個班級，每班皆有10個學生，期中考結束後，老師希望計算各班級每位學生的加權平均成績。\n",
    "\n",
    "請隨機產生3個班級的成績單,每班10人,共五科,權重為weights=[0.25,0.25,0.25,0.15,0.10]。\n",
    "請算出班級加權平均成績，並以一個array輸出。"
   ]
  },
  {
   "cell_type": "code",
   "execution_count": 23,
   "metadata": {},
   "outputs": [],
   "source": [
    "array1 = np.random.randint(101,size=(10,5))\n",
    "array2 = np.random.randint(101,size=(10,5))\n",
    "array3 = np.random.randint(101,size=(10,5))\n",
    "weights= np.array([0.25,0.25,0.25,0.15,0.10])"
   ]
  },
  {
   "cell_type": "code",
   "execution_count": 27,
   "metadata": {},
   "outputs": [
    {
     "name": "stdout",
     "output_type": "stream",
     "text": [
      "A班的原始成績為:\n",
      " [[97 70 69 36 94]\n",
      " [ 1 49 28 60 44]\n",
      " [25 25 81 51 27]\n",
      " [15 54 20 30 61]\n",
      " [95 95 79 97 61]\n",
      " [95 69 64 31 31]\n",
      " [ 0 25 36  4 87]\n",
      " [70  7 92 45 26]\n",
      " [91 25 30 36 28]\n",
      " [37  4 53 37 39]] \n",
      "A班的加權平均成績為 [73.8  32.9  43.1  32.85 87.9  64.75 24.55 51.6  44.7  32.95]\n",
      "B班的原始成績為:\n",
      " [[ 4 46 61 78 53]\n",
      " [88 52 29 71 54]\n",
      " [14 87 67 60 46]\n",
      " [99 27 37 49 47]\n",
      " [93 38 46 40 28]\n",
      " [20 30  5 38 18]\n",
      " [72 97 33 50 23]\n",
      " [43 26 77 28 57]\n",
      " [97 79 50 50 10]\n",
      " [78 24 30 43  0]] \n",
      "B班的加權平均成績為 [44.75 58.3  55.6  52.8  53.05 21.25 60.3  46.4  65.   39.45]\n",
      "C班的原始成績為:\n",
      " [[19 51 82 83 83]\n",
      " [41 81 78 51 22]\n",
      " [46 88 30 92 26]\n",
      " [69 43 59 77 32]\n",
      " [ 0 79  3  2 94]\n",
      " [38 71 84 17 95]\n",
      " [35 91 67 96 76]\n",
      " [65 44  9 41 15]\n",
      " [97 86 48  2 25]\n",
      " [64 70 30 22 52]] \n",
      "C班的加權平均成績為 [58.75 59.85 57.4  57.5  30.2  60.3  70.25 37.15 60.55 49.5 ]\n"
     ]
    }
   ],
   "source": [
    "A = np.dot(array1,weights)\n",
    "B = np.dot(array2,weights)\n",
    "C = np.dot(array3,weights)\n",
    "print('A班的原始成績為:\\n',array1,'\\nA班的加權平均成績為',A)\n",
    "print('B班的原始成績為:\\n',array2,'\\nB班的加權平均成績為',B)\n",
    "print('C班的原始成績為:\\n',array3,'\\nC班的加權平均成績為',C)"
   ]
  },
  {
   "cell_type": "markdown",
   "metadata": {},
   "source": [
    "## 第二題：\n",
    "向日葵班有40位學生，學期結束後，老師希望知道班上的期末成績相關資訊，作為下個學期教學的參考。\n",
    "\n",
    "請隨機產生40筆0~100的數字作為向日葵班的成績分佈，接著列出最高分、最低分、及格人數(>=60)、平均數、標準差，並且以10分作為一個區間，使用圖表畫出各個區間的人數。"
   ]
  },
  {
   "cell_type": "code",
   "execution_count": 3,
   "metadata": {},
   "outputs": [
    {
     "name": "stdout",
     "output_type": "stream",
     "text": [
      "最高分: 96 \n",
      "最低分: 0 \n",
      "及格人數: 20 \n",
      "平均數: 52.075 \n",
      "標準差: 31.660217545051704\n"
     ]
    }
   ],
   "source": [
    "x = np.random.randint(0,101,40)\n",
    "count = 0\n",
    "for i in range(len(x)):\n",
    "    if(x[i]>=60):\n",
    "        count+=1\n",
    "print('最高分:',np.max(x),'\\n最低分:',np.min(x),'\\n及格人數:',count,'\\n平均數:',np.mean(x),'\\n標準差:',np.std(x))"
   ]
  },
  {
   "cell_type": "code",
   "execution_count": 4,
   "metadata": {},
   "outputs": [
    {
     "data": {
      "text/plain": [
       "Text(0, 0.5, 'histogram')"
      ]
     },
     "execution_count": 4,
     "metadata": {},
     "output_type": "execute_result"
    },
    {
     "data": {
      "image/png": "[encoded data removed]",
      "text/plain": [
       "<Figure size 432x288 with 1 Axes>"
      ]
     },
     "metadata": {
      "needs_background": "light"
     },
     "output_type": "display_data"
    }
   ],
   "source": [
    "y = np.linspace(10,100,10)\n",
    "plt.hist(x,bins=10,range=[0,100],rwidth=0.95)\n",
    "plt.xlabel('scores')\n",
    "plt.ylabel('histogram')"
   ]
  },
  {
   "cell_type": "code",
   "execution_count": null,
   "metadata": {},
   "outputs": [],
   "source": []
  }
 ],
 "metadata": {
  "kernelspec": {
   "display_name": "Python 3",
   "language": "python",
   "name": "python3"
  },
  "language_info": {
   "codemirror_mode": {
    "name": "ipython",
    "version": 3
   },
   "file_extension": ".py",
   "mimetype": "text/x-python",
   "name": "python",
   "nbconvert_exporter": "python",
   "pygments_lexer": "ipython3",
   "version": "3.7.3"
  }
 },
 "nbformat": 4,
 "nbformat_minor": 2
}
