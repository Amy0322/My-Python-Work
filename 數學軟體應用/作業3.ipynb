{
 "cells": [
  {
   "cell_type": "code",
   "execution_count": 2,
   "metadata": {},
   "outputs": [],
   "source": [
    "%matplotlib inline\n",
    "\n",
    "import numpy as np\n",
    "import matplotlib as plt\n",
    "import pandas as pd\n",
    "import random\n",
    "# 格式化成2016-03-20 11:45:39形式\n",
    "print time.strftime(\"%Y-%m-%d %H:%M:%S\", time.localtime()) "
   ]
  },
  {
   "cell_type": "code",
   "execution_count": 3,
   "metadata": {},
   "outputs": [
    {
     "name": "stdout",
     "output_type": "stream",
     "text": [
      "規則:輸入剪刀、石頭、布開始遊戲，輸入end結束遊戲\n",
      "你出:石頭\n",
      "電腦出:石頭\n",
      "---> 平手\n",
      "規則:輸入剪刀、石頭、布開始遊戲，輸入end結束遊戲\n",
      "你出:剪刀\n",
      "電腦出:布\n",
      "--->你贏了\n",
      "規則:輸入剪刀、石頭、布開始遊戲，輸入end結束遊戲\n",
      "你出:布\n",
      "電腦出:石頭\n",
      "--->你贏了\n",
      "規則:輸入剪刀、石頭、布開始遊戲，輸入end結束遊戲\n",
      "你出:end\n",
      "遊戲結束\n"
     ]
    }
   ],
   "source": [
    "while (True):\n",
    "    x = int(random.randint(1,3))\n",
    "    if x == 1:\n",
    "        i = \"剪刀\"\n",
    "    if x == 2:\n",
    "        i = \"石頭\"\n",
    "    if x == 3:\n",
    "        i = \"布\"\n",
    "    m = input(\"規則:輸入剪刀、石頭、布開始遊戲，輸入end結束遊戲\\n你出:\")\n",
    "    list = ['剪刀','石頭','布']\n",
    "    if(m not in list)and(m != 'end'):\n",
    "        print('輸入錯誤!請看規則!')\n",
    "    elif(m not in list)and(m == 'end'):\n",
    "        print('遊戲結束')\n",
    "        break\n",
    "    elif m == i:\n",
    "        print(\"電腦出:\"+i+\"\\n---> 平手\")\n",
    "    elif(m == '石頭'and i == '剪刀')or(m == '剪刀'and i == '布')or(m == '布'and i == '石頭'):\n",
    "        print(\"電腦出:\"+i+\"\\n--->你贏了\")\n",
    "    elif(m == '剪刀'and i == '石頭')or(m == '布'and i == '剪刀')or(m == '石頭'and i == '布'):\n",
    "        print(\"電腦出:\"+i+\"\\n--->你輸了\")"
   ]
  },
  {
   "cell_type": "code",
   "execution_count": 22,
   "metadata": {},
   "outputs": [
    {
     "name": "stdout",
     "output_type": "stream",
     "text": [
      "            台北到台中票價\n"
     ]
    },
    {
     "data": {
      "application/vnd.jupyter.widget-view+json": {
       "model_id": "7f584203f73c42778a53fdd751d8e370",
       "version_major": 2,
       "version_minor": 0
      },
      "text/plain": [
       "interactive(children=(Dropdown(description='交通工具', options={'客運': '270', '火車': '375', '高鐵': '700'}, value='270…"
      ]
     },
     "metadata": {},
     "output_type": "display_data"
    }
   ],
   "source": [
    "from ipywidgets import interact\n",
    "print(' '*12+'台北到台中票價')\n",
    "def f(交通工具):\n",
    "    print(' '*11+'票價為:'+交通工具)\n",
    "interact(f,交通工具={'客運':'270','火車':'375','高鐵':'700'});\n"
   ]
  },
  {
   "cell_type": "code",
   "execution_count": 37,
   "metadata": {},
   "outputs": [
    {
     "name": "stdout",
     "output_type": "stream",
     "text": [
      "1到20中，若是質數則為紅色，若不是質數的偶數為綠色，若不是質數是奇數為藍色，1則為黑色\n"
     ]
    },
    {
     "data": {
      "application/vnd.jupyter.widget-view+json": {
       "model_id": "1c1f5c6d70514cce937967249fb40d9d",
       "version_major": 2,
       "version_minor": 0
      },
      "text/plain": [
       "interactive(children=(IntSlider(value=10, description='數字', max=20, min=1), Output()), _dom_classes=('widget-i…"
      ]
     },
     "metadata": {},
     "output_type": "display_data"
    }
   ],
   "source": [
    "print('1到20中，若是質數則為紅色，若不是質數的偶數為綠色，若不是質數是奇數為藍色，1則為黑色')\n",
    "def move(數字):\n",
    "    if(數字==2)or(數字==3)or(數字==5)or(數字==7)or(數字==11)or(數字==13)or(數字==17)or(數字==19):\n",
    "        print(' '*數字+'\\033[31m 質數')\n",
    "    elif(數字==1):\n",
    "        print(' '*數字+'1')\n",
    "    elif(數字%2==0):\n",
    "        print(' '*數字+'\\033[32m 偶數')\n",
    "    elif(數字%2==1):\n",
    "        print(' '*數字+'\\033[34m 奇數')\n",
    "interact(move,數字=(1,20));"
   ]
  },
  {
   "cell_type": "code",
   "execution_count": 59,
   "metadata": {},
   "outputs": [
    {
     "ename": "SyntaxError",
     "evalue": "invalid syntax (<ipython-input-59-abc84009feb7>, line 8)",
     "output_type": "error",
     "traceback": [
      "\u001b[1;36m  File \u001b[1;32m\"<ipython-input-59-abc84009feb7>\"\u001b[1;36m, line \u001b[1;32m8\u001b[0m\n\u001b[1;33m    print(!(night.png))\u001b[0m\n\u001b[1;37m          ^\u001b[0m\n\u001b[1;31mSyntaxError\u001b[0m\u001b[1;31m:\u001b[0m invalid syntax\n"
     ]
    }
   ],
   "source": [
    "import datetime\n",
    "import cv2\n",
    "x = datetime.datetime.now()\n",
    "if(3<=x.hour<11):\n",
    "    cv2.imshow('morniing',png)\n",
    "elif(11<=x.hour<19):\n",
    "    ![下午](evening.png)\n",
    "elif(19<=x.hour<=24)or(1<=x.hour<3):\n",
    "    !(night.png))"
   ]
  },
  {
   "cell_type": "code",
   "execution_count": null,
   "metadata": {},
   "outputs": [],
   "source": []
  }
 ],
 "metadata": {
  "kernelspec": {
   "display_name": "Python 3",
   "language": "python",
   "name": "python3"
  },
  "language_info": {
   "codemirror_mode": {
    "name": "ipython",
    "version": 3
   },
   "file_extension": ".py",
   "mimetype": "text/x-python",
   "name": "python",
   "nbconvert_exporter": "python",
   "pygments_lexer": "ipython3",
   "version": "3.7.3"
  }
 },
 "nbformat": 4,
 "nbformat_minor": 2
}
