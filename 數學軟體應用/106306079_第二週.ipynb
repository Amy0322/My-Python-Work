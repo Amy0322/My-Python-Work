{
 "cells": [
  {
   "cell_type": "code",
   "execution_count": 1,
   "metadata": {},
   "outputs": [],
   "source": [
    "%matplotlib inline\n",
    "\n",
    "import numpy as np\n",
    "import pandas as pd\n",
    "from numpy.random import randint"
   ]
  },
  {
   "cell_type": "markdown",
   "metadata": {},
   "source": [
    "## 第一題【猜數字遊戲】："
   ]
  },
  {
   "cell_type": "code",
   "execution_count": 2,
   "metadata": {},
   "outputs": [
    {
     "name": "stdout",
     "output_type": "stream",
     "text": [
      "請猜一個數字(1-100)50\n",
      "我選的數字比50小哦!\n",
      "請猜一個數字(1-100)40\n",
      "我選的數字比40小哦!\n",
      "請猜一個數字(1-100)30\n",
      "我選的數字比30小哦!\n",
      "請猜一個數字(1-100)10\n",
      "恭喜你猜中囉!\n"
     ]
    }
   ],
   "source": [
    "computer = randint(1,101)\n",
    "x=0\n",
    "while(computer != x):\n",
    "    x = int(input(\"請猜一個數字(1-100)\"))\n",
    "    if (computer>x):\n",
    "        print(\"我選的數字比\"+str(x)+\"大哦!\")\n",
    "    elif(computer<x):\n",
    "        print(\"我選的數字比\"+str(x)+\"小哦!\")\n",
    "    else:\n",
    "        print(\"恭喜你猜中囉!\")\n",
    "    "
   ]
  },
  {
   "cell_type": "markdown",
   "metadata": {},
   "source": [
    "## 第二題【感恩讚嘆機器人】："
   ]
  },
  {
   "cell_type": "code",
   "execution_count": 3,
   "metadata": {},
   "outputs": [
    {
     "name": "stdout",
     "output_type": "stream",
     "text": [
      ">>嗨\n",
      "「感恩python，讚嘆python。」\n",
      ">>bye\n",
      "「感恩python，讚嘆python。」\n"
     ]
    }
   ],
   "source": [
    "message = ''\n",
    "while message != \"bye\":\n",
    "    message = input(\">>\")\n",
    "    print(\"「感恩python，讚嘆python。」\")"
   ]
  },
  {
   "cell_type": "markdown",
   "metadata": {},
   "source": [
    "## 第三題 【寫個函數讓字串倒過來排】："
   ]
  },
  {
   "cell_type": "code",
   "execution_count": 4,
   "metadata": {},
   "outputs": [
    {
     "name": "stdout",
     "output_type": "stream",
     "text": [
      "請輸入要反轉的內容:你好嗎\n"
     ]
    },
    {
     "data": {
      "text/plain": [
       "'嗎好你'"
      ]
     },
     "execution_count": 4,
     "metadata": {},
     "output_type": "execute_result"
    }
   ],
   "source": [
    "def reverse1():\n",
    "    s = input(\"請輸入要反轉的內容:\")\n",
    "    return s[::-1]\n",
    "reverse1()\n",
    "    \n"
   ]
  },
  {
   "cell_type": "markdown",
   "metadata": {},
   "source": [
    "## 挑戰題二【我有一棵樹】："
   ]
  },
  {
   "cell_type": "code",
   "execution_count": 5,
   "metadata": {},
   "outputs": [
    {
     "name": "stdout",
     "output_type": "stream",
     "text": [
      "你希望你的樹有幾層?6\n",
      "          *          \n",
      "         ***         \n",
      "        *****        \n",
      "       *******       \n",
      "      *********      \n",
      "     ***********     \n"
     ]
    }
   ],
   "source": [
    "level = int(input('你希望你的樹有幾層?'))\n",
    "for n in range(level):\n",
    "    s='*'*(2*n+1)\n",
    "    print(f'{s:^21s}')"
   ]
  },
  {
   "cell_type": "markdown",
   "metadata": {},
   "source": [
    "## 挑戰題三：剪刀石頭布"
   ]
  },
  {
   "cell_type": "code",
   "execution_count": 7,
   "metadata": {},
   "outputs": [
    {
     "name": "stdout",
     "output_type": "stream",
     "text": [
      "規則:輸入剪刀、石頭、布開始遊戲，輸入end結束遊戲\n",
      "你出:剪刀\n",
      "電腦出:剪刀\n",
      "---> 平手\n",
      "規則:輸入剪刀、石頭、布開始遊戲，輸入end結束遊戲\n",
      "你出:布\n",
      "電腦出:剪刀\n",
      "--->你輸了\n",
      "規則:輸入剪刀、石頭、布開始遊戲，輸入end結束遊戲\n",
      "你出:end\n",
      "遊戲結束\n"
     ]
    }
   ],
   "source": [
    "while (True):\n",
    "    x = int(randint(1,3))\n",
    "    if x == 1:\n",
    "        i = \"剪刀\"\n",
    "    if x == 2:\n",
    "        i = \"石頭\"\n",
    "    if x == 3:\n",
    "        i = \"布\"\n",
    "    m = input(\"規則:輸入剪刀、石頭、布開始遊戲，輸入end結束遊戲\\n你出:\")\n",
    "    list = ['剪刀','石頭','布']\n",
    "    if(m not in list)and(m != 'end'):\n",
    "        print('輸入錯誤!請看規則!')\n",
    "    elif(m not in list)and(m == 'end'):\n",
    "        print('遊戲結束')\n",
    "        break\n",
    "    elif m == i:\n",
    "        print(\"電腦出:\"+i+\"\\n---> 平手\")\n",
    "    elif(m == '石頭'and i == '剪刀')or(m == '剪刀'and i == '布')or(m == '布'and i == '石頭'):\n",
    "        print(\"電腦出:\"+i+\"\\n--->你贏了\")\n",
    "    elif(m == '剪刀'and i == '石頭')or(m == '布'and i == '剪刀')or(m == '石頭'and i == '布'):\n",
    "        print(\"電腦出:\"+i+\"\\n--->你輸了\")"
   ]
  },
  {
   "cell_type": "code",
   "execution_count": null,
   "metadata": {},
   "outputs": [],
   "source": []
  }
 ],
 "metadata": {
  "kernelspec": {
   "display_name": "Python 3",
   "language": "python",
   "name": "python3"
  },
  "language_info": {
   "codemirror_mode": {
    "name": "ipython",
    "version": 3
   },
   "file_extension": ".py",
   "mimetype": "text/x-python",
   "name": "python",
   "nbconvert_exporter": "python",
   "pygments_lexer": "ipython3",
   "version": "3.7.3"
  }
 },
 "nbformat": 4,
 "nbformat_minor": 2
}
