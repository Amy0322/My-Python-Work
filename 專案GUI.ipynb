{
 "cells": [
  {
   "cell_type": "code",
   "execution_count": 1,
   "metadata": {},
   "outputs": [
    {
     "name": "stdout",
     "output_type": "stream",
     "text": [
      "Requirement already satisfied: pillow in d:\\anaconda\\lib\\site-packages (6.2.1)\n",
      "Note: you may need to restart the kernel to use updated packages.\n"
     ]
    }
   ],
   "source": [
    "pip install pillow"
   ]
  },
  {
   "cell_type": "code",
   "execution_count": null,
   "metadata": {},
   "outputs": [],
   "source": [
    "#斷詞所需套件\n",
    "import jieba\n",
    "# 爬蟲所需套件\n",
    "import requests\n",
    "from bs4 import BeautifulSoup\n",
    "from googletrans import Translator\n",
    "#GUI介面-tkinter所需套件\n",
    "from tkinter import *\n",
    "import tkinter as tk\n",
    "#匯入Python Imaging Library \n",
    "from PIL import ImageTk, Image \n",
    "#檔案對話方塊所需套件\n",
    "from tkinter import filedialog "
   ]
  },
  {
   "cell_type": "code",
   "execution_count": null,
   "metadata": {},
   "outputs": [],
   "source": [
    "#進行斷詞\n",
    "list=jieba.lcut(predict_name)\n",
    "#將大寫變小寫\n",
    "target = list[0].lower()"
   ]
  },
  {
   "cell_type": "code",
   "execution_count": 7,
   "metadata": {},
   "outputs": [],
   "source": [
    "def open_img(): \n",
    "    # 圖片檔案位置，可以把file path_=x下去跑辨識\n",
    "    x = openfilename() \n",
    "    # 開啟圖片 \n",
    "    img = Image.open(x) \n",
    "    # ANTIALIAS:平滑濾波，用於改變圖片尺寸  resize the image and apply a high-quality down sampling filter \n",
    "    img = img.resize((300, 300), Image.ANTIALIAS) \n",
    "    # PhotoImage:建立圖片物件，使用label顯示圖片 \n",
    "    img = ImageTk.PhotoImage(img) \n",
    "    # 創建label \n",
    "    panel = Label(window, image = img,bg='white') \n",
    "    # set the image as img \n",
    "    panel.image = img \n",
    "    panel.pack(side='left',ipadx=10, padx=1)"
   ]
  },
  {
   "cell_type": "code",
   "execution_count": 38,
   "metadata": {},
   "outputs": [],
   "source": [
    "def openfilename(): \n",
    "    # 開啟檔案對話方塊，並將檔案位置回傳\n",
    "    filename = filedialog.askopenfilename(title ='Open') \n",
    "    return filename \n",
    "def printSomething():\n",
    "    #爬取目標網址\n",
    "    url ='https://fruitsandveggies.org/fruits-and-veggies/'+target+'/'\n",
    "    resp = requests.get(url)\n",
    "\n",
    "    soup = BeautifulSoup(resp.text,'lxml')\n",
    "    page = soup.find_all('div',class_='l-grid-item-medium-12')\n",
    "\n",
    "    title = page[0].find_all('h4')\n",
    "    content = page[0].find_all('p')\n",
    "    for i in range(len(title)):\n",
    "        if(i==2):\n",
    "            text = '●'+title[i].get_text()+'\\n'+content[2].get_text()+'\\n'\n",
    "        elif(i==3):\n",
    "            text = '●'+title[i].get_text()+'\\n'+content[2].get_text()+'\\n'\n",
    "            for i in range(len(content)):\n",
    "                if(i>2 and i<6):\n",
    "                    if(i%2 == 1):\n",
    "                        text = text + '●' + content[i].get_text() +'\\n' \n",
    "                    else:                    \n",
    "                        text = text + content[i].get_text() +'\\n' \n",
    "                elif(i>6):\n",
    "                    if(i%2 == 0):\n",
    "                        text = text + '●' + content[i].get_text() +'\\n' \n",
    "                    else:\n",
    "                        text = text + content[i].get_text() +'\\n' \n",
    "\n",
    "    # 將所得到之內容以google翻譯翻譯成中文\n",
    "    pipi = Translator()\n",
    "    result = pipi.translate(text,dest='zh-tw')\n",
    "    result_label = tk.Label(window,text=result.text,width=50,height=50,wraplength=260,justify='left',bg='white')\n",
    "    result_label.pack(side='right',ipadx=10,padx=1)"
   ]
  },
  {
   "cell_type": "code",
   "execution_count": 39,
   "metadata": {},
   "outputs": [],
   "source": [
    "# 創建視窗\n",
    "window = tk.Tk()\n",
    "\n",
    "# 設定視窗標題\n",
    "window.title(\"Fruit \") \n",
    "\n",
    "# 視窗大小設定及背景顏色\n",
    "window.geometry(\"600x600\") \n",
    "window.configure(background='white')\n",
    "\n",
    "# 設定不讓使用者調整視窗大小\n",
    "window.resizable(0,0)\n",
    "\n",
    "# 新增2個按鈕\n",
    "# 1.選擇照片顯示於視窗中\n",
    "btn = Button(window, text ='open image', command = open_img)\n",
    "btn.pack()\n",
    "# 2.顯示得到的水果營養價值資料\n",
    "button = Button(window, text=\"Print\", command=printSomething) \n",
    "button.pack()\n",
    "\n",
    "window.mainloop() \n"
   ]
  }
 ],
 "metadata": {
  "kernelspec": {
   "display_name": "Python 3",
   "language": "python",
   "name": "python3"
  },
  "language_info": {
   "codemirror_mode": {
    "name": "ipython",
    "version": 3
   },
   "file_extension": ".py",
   "mimetype": "text/x-python",
   "name": "python",
   "nbconvert_exporter": "python",
   "pygments_lexer": "ipython3",
   "version": "3.7.3"
  }
 },
 "nbformat": 4,
 "nbformat_minor": 2
}
