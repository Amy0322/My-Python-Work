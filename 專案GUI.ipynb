{
 "cells": [
  {
   "cell_type": "code",
   "execution_count": 1,
   "metadata": {},
   "outputs": [
    {
     "name": "stdout",
     "output_type": "stream",
     "text": [
      "Requirement already satisfied: pillow in d:\\anaconda\\lib\\site-packages (6.2.1)\n",
      "Note: you may need to restart the kernel to use updated packages.\n"
     ]
    }
   ],
   "source": [
    "pip install pillow"
   ]
  },
  {
   "cell_type": "code",
   "execution_count": 1,
   "metadata": {},
   "outputs": [],
   "source": [
    "# 爬蟲\n",
    "%matplotlib inline\n",
    "\n",
    "import numpy as np\n",
    "import matplotlib.pyplot as plt\n",
    "import pandas as pd\n",
    "\n",
    "import requests\n",
    "from bs4 import BeautifulSoup\n",
    "from googletrans import Translator\n",
    "\n",
    "# print(result1.text + result2.text)"
   ]
  },
  {
   "cell_type": "code",
   "execution_count": 2,
   "metadata": {},
   "outputs": [],
   "source": [
    "from tkinter import *\n",
    "import tkinter as tk\n",
    "# loading Python Imaging Library \n",
    "from PIL import ImageTk, Image \n",
    "\n",
    "# To get the dialog box to open when required \n",
    "from tkinter import filedialog "
   ]
  },
  {
   "cell_type": "code",
   "execution_count": 3,
   "metadata": {},
   "outputs": [],
   "source": [
    "def open_img(): \n",
    "    # Select the Imagename from a folder \n",
    "    x = openfilename() \n",
    "\n",
    "    # opens the image \n",
    "    img = Image.open(x) \n",
    "\n",
    "    # resize the image and apply a high-quality down sampling filter \n",
    "    img = img.resize((300, 300), Image.ANTIALIAS) \n",
    "\n",
    "    # PhotoImage class is used to add image to widgets, icons etc \n",
    "    img = ImageTk.PhotoImage(img) \n",
    "\n",
    "    # create a label \n",
    "    panel = Label(window, image = img,bg='white') \n",
    "\n",
    "    # set the image as img \n",
    "    panel.image = img \n",
    "    panel.pack(side='left',ipadx=10, padx=1)#.grid(row = 2) \n"
   ]
  },
  {
   "cell_type": "code",
   "execution_count": 4,
   "metadata": {},
   "outputs": [],
   "source": [
    "def openfilename(): \n",
    "    # open file dialog box to select image \n",
    "    # The dialogue box has a title \"Open\" \n",
    "    filename = filedialog.askopenfilename(title ='Open') \n",
    "    return filename \n",
    "def printSomething():\n",
    "    #爬取目標網址\n",
    "    target = 'banana'+'/'\n",
    "    url ='https://fruitsandveggies.org/fruits-and-veggies/'+target\n",
    "    resp = requests.get(url)\n",
    "\n",
    "    soup = BeautifulSoup(resp.text,'lxml')\n",
    "    page = soup.find_all('div',class_='l-grid-item-medium-12')\n",
    "\n",
    "    title = page[0].find_all('h4')\n",
    "    content = page[0].find_all('p')\n",
    "    for i in range(len(title)):\n",
    "        if(i==2):\n",
    "            text1 = title[i].get_text()+'\\n'+content[2].get_text()+'\\n'\n",
    "        elif(i==3):\n",
    "            text2 = '\\n'+title[i].get_text()+'\\n'\n",
    "            for i in range(len(content)):\n",
    "                if(i>2):\n",
    "                    text2 = text2 + content[i].get_text() +'\\n' \n",
    "## google翻譯\n",
    "    pipi = Translator()\n",
    "    result1 = pipi.translate(text1,dest='zh-tw')\n",
    "    result2 = pipi.translate(text2,dest='zh-tw')\n",
    "    result_label = tk.Label(window,text=result1.text + result2.text,width=50,height=50,wraplength=260,justify='left',bg='white')#.palce(x=10,y=250)\n",
    "  #  result_label.configure(text=result1.text + result2.text)#.palce(x=10,y=250)\n",
    "    result_label.pack(side='right',ipadx=10,padx=1)"
   ]
  },
  {
   "cell_type": "code",
   "execution_count": 6,
   "metadata": {},
   "outputs": [],
   "source": [
    "# Create a window\n",
    "window = tk.Tk()\n",
    "\n",
    "# Set Title as Image Loader \n",
    "window.title(\"Image Loader\") \n",
    "\n",
    "# Set the resolution of window \n",
    "window.geometry(\"600x600\") \n",
    "\n",
    "window.configure(background='white')\n",
    "\n",
    "# Allow Window to be resizable 不想讓使用者調整視窗大小\n",
    "window.resizable(0,0)#(width = True, height = True) \n",
    "\n",
    "# Create a button and place it into the window using grid layout \n",
    "btn = Button(window, text ='open image', command = open_img)#.grid(row = 10, column = 20)\n",
    "btn.pack()#side='left',pady=0)\n",
    "button = Button(window, text=\"Print\", command=printSomething)#.place(x=250,y = 100) #.grid(row = 10, column = 20) \n",
    "button.pack()#padx=50,pady=50)\n",
    "\n",
    "#result_label = tk.Label(window)\n",
    "\n",
    "window.mainloop() \n"
   ]
  },
  {
   "cell_type": "code",
   "execution_count": null,
   "metadata": {},
   "outputs": [],
   "source": []
  }
 ],
 "metadata": {
  "kernelspec": {
   "display_name": "Python 3",
   "language": "python",
   "name": "python3"
  },
  "language_info": {
   "codemirror_mode": {
    "name": "ipython",
    "version": 3
   },
   "file_extension": ".py",
   "mimetype": "text/x-python",
   "name": "python",
   "nbconvert_exporter": "python",
   "pygments_lexer": "ipython3",
   "version": "3.7.3"
  }
 },
 "nbformat": 4,
 "nbformat_minor": 2
}
